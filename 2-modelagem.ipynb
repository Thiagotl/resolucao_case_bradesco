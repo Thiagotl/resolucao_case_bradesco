{
 "cells": [
  {
   "cell_type": "markdown",
   "id": "6a7fbcd1",
   "metadata": {},
   "source": [
    "## Modelagem - Predição usando Regressão Logística e Random Forest"
   ]
  },
  {
   "cell_type": "code",
   "execution_count": null,
   "id": "fbf83556",
   "metadata": {},
   "outputs": [],
   "source": []
  },
  {
   "cell_type": "code",
   "execution_count": null,
   "id": "f34e4ede",
   "metadata": {},
   "outputs": [],
   "source": [
    "# Bibliotecas\n",
    "import numpy as np\n",
    "import pandas as pd\n",
    "import seaborn as sns\n",
    "import matplotlib.pyplot as plt\n",
    "from scipy import stats\n",
    "from sklearn.model_selection import train_test_split\n",
    "from sklearn.preprocessing import StandardScaler, OneHotEncoder\n",
    "from sklearn.compose import ColumnTransformer\n",
    "from sklearn.pipeline import Pipeline\n",
    "from sklearn.linear_model import LogisticRegression\n",
    "from sklearn.ensemble import RandomForestClassifier\n",
    "from sklearn.metrics import classification_report, confusion_matrix, roc_auc_score, accuracy_score"
   ]
  },
  {
   "cell_type": "code",
   "execution_count": null,
   "id": "935d4ae3",
   "metadata": {},
   "outputs": [],
   "source": [
    "print(df_limpo.isnull().sum())\n",
    "print(df_limpo.isnull().sum())\n"
   ]
  },
  {
   "cell_type": "code",
   "execution_count": null,
   "id": "6c0a6590",
   "metadata": {},
   "outputs": [],
   "source": [
    "# Pipeline para Regressão Logística\n",
    "lr_pipeline = Pipeline(steps=[\n",
    "    ('preprocessor', preprocessor),\n",
    "    ('classifier', LogisticRegression(random_state=42, max_iter=1000))])\n",
    "\n",
    "# Treinar o modelo\n",
    "lr_pipeline.fit(X_train, y_train)\n",
    "\n",
    "# Previsões\n",
    "y_pred_lr = lr_pipeline.predict(X_test)\n",
    "y_pred_proba_lr = lr_pipeline.predict_proba(X_test)[:, 1]\n",
    "\n",
    "# Avaliação\n",
    "print(\"Regressão Logística - Métricas:\")\n",
    "print(classification_report(y_test, y_pred_lr))\n",
    "print(\"Acurácia:\", accuracy_score(y_test, y_pred_lr))\n",
    "print(\"AUC-ROC:\", roc_auc_score(y_test, y_pred_proba_lr))\n",
    "\n",
    "# Matriz de confusão\n",
    "cm_lr = confusion_matrix(y_test, y_pred_lr)\n",
    "sns.heatmap(cm_lr, annot=True, fmt='d', cmap='Blues')\n",
    "plt.title('Matriz de Confusão - Regressão Logística')\n",
    "plt.show()"
   ]
  },
  {
   "cell_type": "code",
   "execution_count": null,
   "id": "025b08ce",
   "metadata": {},
   "outputs": [],
   "source": [
    "# Pipeline para Random Forest\n",
    "rf_pipeline = Pipeline(steps=[\n",
    "    ('preprocessor', preprocessor),\n",
    "    ('classifier', RandomForestClassifier(random_state=42))])\n",
    "\n",
    "# Treinar o modelo\n",
    "rf_pipeline.fit(X_train, y_train)\n",
    "\n",
    "# Previsões\n",
    "y_pred_rf = rf_pipeline.predict(X_test)\n",
    "y_pred_proba_rf = rf_pipeline.predict_proba(X_test)[:, 1]\n",
    "\n",
    "# Avaliação\n",
    "print(\"Random Forest - Métricas:\")\n",
    "print(classification_report(y_test, y_pred_rf))\n",
    "print(\"Acurácia:\", accuracy_score(y_test, y_pred_rf))\n",
    "print(\"AUC-ROC:\", roc_auc_score(y_test, y_pred_proba_rf))\n",
    "\n",
    "# Matriz de confusão\n",
    "cm_rf = confusion_matrix(y_test, y_pred_rf)\n",
    "sns.heatmap(cm_rf, annot=True, fmt='d', cmap='Blues')\n",
    "plt.title('Matriz de Confusão - Random Forest')\n",
    "plt.show()"
   ]
  },
  {
   "cell_type": "code",
   "execution_count": null,
   "id": "d38b36e8",
   "metadata": {},
   "outputs": [],
   "source": [
    "from sklearn.metrics import roc_curve, auc\n",
    "import matplotlib.pyplot as plt\n",
    "\n",
    "## Função para plotar a curva ROC\n",
    "def plot_roc_curve(y_true, y_pred_prob, model_name):\n",
    "    fpr, tpr, thresholds = roc_curve(y_true, y_pred_prob)\n",
    "    roc_auc = auc(fpr, tpr)\n",
    "    \n",
    "    plt.plot(fpr, tpr, label=f'{model_name} (AUC = {roc_auc:.2f})')\n",
    "    plt.plot([0, 1], [0, 1], 'k--')  # Linha diagonal\n",
    "    plt.xlabel('Taxa de Falsos Positivos (FPR)')\n",
    "    plt.ylabel('Taxa de Verdadeiros Positivos (TPR)')\n",
    "    plt.title('Curva ROC - Comparação de Modelos')\n",
    "    plt.legend(loc='lower right')\n",
    "    plt.grid(True)\n",
    "\n",
    "## Obter as probabilidades preditas de ambos os modelos\n",
    "# Regressão Logística\n",
    "y_pred_prob_lr = lr_pipeline.predict_proba(X_test)[:, 1]\n",
    "\n",
    "# Random Forest\n",
    "y_pred_prob_rf = rf_pipeline.predict_proba(X_test)[:, 1]\n",
    "\n",
    "## Plotar as curvas ROC\n",
    "plt.figure(figsize=(10, 8))\n",
    "plot_roc_curve(y_test, y_pred_prob_lr, 'Regressão Logística')\n",
    "plot_roc_curve(y_test, y_pred_prob_rf, 'Random Forest')\n",
    "\n",
    "plt.show()\n",
    "\n",
    "## Adicionando métricas no gráfico\n",
    "print(\"\\nMétricas ROC-AUC:\")\n",
    "print(f\"Regressão Logística: {roc_auc_score(y_test, y_pred_prob_lr):.4f}\")\n",
    "print(f\"Random Forest: {roc_auc_score(y_test, y_pred_prob_rf):.4f}\")"
   ]
  },
  {
   "cell_type": "code",
   "execution_count": null,
   "id": "518c9228",
   "metadata": {},
   "outputs": [],
   "source": [
    "# Extrair nomes das features após one-hot encoding\n",
    "onehot_columns = rf_pipeline.named_steps['preprocessor'].named_transformers_['cat'].named_steps['onehot'].get_feature_names_out(categorical_features)\n",
    "all_features = numeric_features + list(onehot_columns)\n",
    "\n",
    "# Importância das variáveis\n",
    "importances = rf_pipeline.named_steps['classifier'].feature_importances_\n",
    "feature_importance = pd.DataFrame({'Feature': all_features, 'Importance': importances})\n",
    "feature_importance = feature_importance.sort_values('Importance', ascending=False)\n",
    "\n",
    "# Plotar as 20 mais importantes\n",
    "plt.figure(figsize=(10, 8))\n",
    "sns.barplot(x='Importance', y='Feature', data=feature_importance.head(20))\n",
    "plt.title('Top 20 Variáveis Mais Importantes - Random Forest')\n",
    "plt.show()"
   ]
  }
 ],
 "metadata": {
  "kernelspec": {
   "display_name": "venv",
   "language": "python",
   "name": "python3"
  },
  "language_info": {
   "name": "python",
   "version": "3.10.12"
  }
 },
 "nbformat": 4,
 "nbformat_minor": 5
}
