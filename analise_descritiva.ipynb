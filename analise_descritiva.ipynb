{
 "cells": [
  {
   "cell_type": "markdown",
   "id": "b164aac3",
   "metadata": {},
   "source": [
    "## Análise exploratória dos dados"
   ]
  },
  {
   "cell_type": "markdown",
   "id": "ac10e759",
   "metadata": {
    "vscode": {
     "languageId": "latex"
    }
   },
   "source": [
    "No primeiro momento, foi realizado uma análise exploratória dos dadaset afim de verificar possíveis inconsistências nos dados."
   ]
  },
  {
   "cell_type": "code",
   "execution_count": 1,
   "id": "780e7e88",
   "metadata": {},
   "outputs": [],
   "source": [
    "# Bibliotecas\n",
    "import numpy as np\n",
    "import pandas as pd\n",
    "import seaborn as sns\n",
    "import matplotlib.pyplot as plt\n",
    "from scipy import stats\n"
   ]
  },
  {
   "cell_type": "code",
   "execution_count": 54,
   "id": "ae0e9b75",
   "metadata": {},
   "outputs": [],
   "source": [
    "# Dados\n",
    "# customer original\n",
    "df_customer = pd.read_csv(\"dados/customer_original.csv\")\n",
    "\n",
    "# customer nps\n",
    "df_nps = pd.read_csv(\"dados/customer_nps.csv\")\n",
    "\n",
    "# sutomer social\n",
    "df_social = pd.read_csv(\"dados/customer_social.csv\")\n",
    "\n"
   ]
  },
  {
   "cell_type": "code",
   "execution_count": null,
   "id": "2681edd9",
   "metadata": {},
   "outputs": [],
   "source": [
    "df_customer.head(15)"
   ]
  },
  {
   "cell_type": "code",
   "execution_count": 4,
   "id": "844b59e6",
   "metadata": {},
   "outputs": [
    {
     "name": "stdout",
     "output_type": "stream",
     "text": [
      "<class 'pandas.core.frame.DataFrame'>\n",
      "RangeIndex: 7234 entries, 0 to 7233\n",
      "Data columns (total 17 columns):\n",
      " #   Column            Non-Null Count  Dtype  \n",
      "---  ------            --------------  -----  \n",
      " 0   tenure            7234 non-null   int64  \n",
      " 1   PhoneService      7234 non-null   object \n",
      " 2   MultipleLines     7234 non-null   object \n",
      " 3   InternetService   7234 non-null   object \n",
      " 4   OnlineSecurity    7234 non-null   object \n",
      " 5   OnlineBackup      7234 non-null   object \n",
      " 6   DeviceProtection  7234 non-null   object \n",
      " 7   TechSupport       7234 non-null   object \n",
      " 8   StreamingTV       7234 non-null   object \n",
      " 9   StreamingMovies   7234 non-null   object \n",
      " 10  Contract          7234 non-null   object \n",
      " 11  PaperlessBilling  7234 non-null   object \n",
      " 12  PaymentMethod     7234 non-null   object \n",
      " 13  MonthlyCharges    7234 non-null   float64\n",
      " 14  TotalCharges      7234 non-null   float64\n",
      " 15  Churn             7234 non-null   object \n",
      " 16  cpf               7234 non-null   object \n",
      "dtypes: float64(2), int64(1), object(14)\n",
      "memory usage: 960.9+ KB\n"
     ]
    }
   ],
   "source": [
    "df_customer.info()"
   ]
  },
  {
   "cell_type": "code",
   "execution_count": 55,
   "id": "74def858",
   "metadata": {},
   "outputs": [
    {
     "name": "stdout",
     "output_type": "stream",
     "text": [
      "Duplicatas completas: 168\n"
     ]
    }
   ],
   "source": [
    "print(f\"Duplicatas completas: {df_customer.duplicated().sum()}\")"
   ]
  },
  {
   "cell_type": "code",
   "execution_count": 56,
   "id": "69b030f7",
   "metadata": {},
   "outputs": [
    {
     "data": {
      "text/plain": [
       "False    7066\n",
       "True      168\n",
       "Name: count, dtype: int64"
      ]
     },
     "execution_count": 56,
     "metadata": {},
     "output_type": "execute_result"
    }
   ],
   "source": [
    "df_customer.duplicated().value_counts()"
   ]
  },
  {
   "cell_type": "code",
   "execution_count": 57,
   "id": "b1c007a7",
   "metadata": {},
   "outputs": [],
   "source": [
    "# Limpando os CPFs \n",
    "df_customer['cpf'] = df_customer['cpf'].str.replace(r'\\D', '', regex=True)\n"
   ]
  },
  {
   "cell_type": "code",
   "execution_count": null,
   "id": "aa5bc648",
   "metadata": {},
   "outputs": [],
   "source": [
    "# Checando duplicatas\n",
    "df_customer[df_customer.duplicated(subset='cpf', keep=False)]\n"
   ]
  },
  {
   "cell_type": "markdown",
   "id": "32b1dc7f",
   "metadata": {},
   "source": [
    "Foram identificados valores duplicados de CPF que foram posteriormente removidos"
   ]
  },
  {
   "cell_type": "code",
   "execution_count": 9,
   "id": "5672b31a",
   "metadata": {},
   "outputs": [],
   "source": [
    "#cpfs_repetidos = df_customer['cpf'][df_customer['cpf'].duplicated()].unique()#\n",
    "#print(cpfs_repetidos)"
   ]
  },
  {
   "cell_type": "code",
   "execution_count": 59,
   "id": "df537b55",
   "metadata": {},
   "outputs": [
    {
     "data": {
      "text/plain": [
       "False    7065\n",
       "Name: count, dtype: int64"
      ]
     },
     "execution_count": 59,
     "metadata": {},
     "output_type": "execute_result"
    }
   ],
   "source": [
    "df_customer=df_customer.drop_duplicates(subset='cpf', keep='first')\n",
    "#df_customer[df_customer.duplicated(subset='cpf', keep=False)]\n",
    "\n",
    "df_customer.duplicated().value_counts()"
   ]
  },
  {
   "cell_type": "code",
   "execution_count": 60,
   "id": "822c5f16",
   "metadata": {},
   "outputs": [
    {
     "data": {
      "text/html": [
       "<div>\n",
       "<style scoped>\n",
       "    .dataframe tbody tr th:only-of-type {\n",
       "        vertical-align: middle;\n",
       "    }\n",
       "\n",
       "    .dataframe tbody tr th {\n",
       "        vertical-align: top;\n",
       "    }\n",
       "\n",
       "    .dataframe thead th {\n",
       "        text-align: right;\n",
       "    }\n",
       "</style>\n",
       "<table border=\"1\" class=\"dataframe\">\n",
       "  <thead>\n",
       "    <tr style=\"text-align: right;\">\n",
       "      <th></th>\n",
       "      <th>tenure</th>\n",
       "      <th>PhoneService</th>\n",
       "      <th>MultipleLines</th>\n",
       "      <th>InternetService</th>\n",
       "      <th>OnlineSecurity</th>\n",
       "      <th>OnlineBackup</th>\n",
       "      <th>DeviceProtection</th>\n",
       "      <th>TechSupport</th>\n",
       "      <th>StreamingTV</th>\n",
       "      <th>StreamingMovies</th>\n",
       "      <th>Contract</th>\n",
       "      <th>PaperlessBilling</th>\n",
       "      <th>PaymentMethod</th>\n",
       "      <th>MonthlyCharges</th>\n",
       "      <th>TotalCharges</th>\n",
       "      <th>Churn</th>\n",
       "      <th>cpf</th>\n",
       "    </tr>\n",
       "  </thead>\n",
       "  <tbody>\n",
       "  </tbody>\n",
       "</table>\n",
       "</div>"
      ],
      "text/plain": [
       "Empty DataFrame\n",
       "Columns: [tenure, PhoneService, MultipleLines, InternetService, OnlineSecurity, OnlineBackup, DeviceProtection, TechSupport, StreamingTV, StreamingMovies, Contract, PaperlessBilling, PaymentMethod, MonthlyCharges, TotalCharges, Churn, cpf]\n",
       "Index: []"
      ]
     },
     "execution_count": 60,
     "metadata": {},
     "output_type": "execute_result"
    }
   ],
   "source": [
    "# Verificando NAs\n",
    "df_customer[df_customer.isna().any(axis=1)]\n",
    "# Resultados sem NAs"
   ]
  },
  {
   "cell_type": "code",
   "execution_count": 61,
   "id": "b9a9c0b6",
   "metadata": {},
   "outputs": [
    {
     "data": {
      "text/plain": [
       "False    7065\n",
       "True      169\n",
       "Name: count, dtype: int64"
      ]
     },
     "execution_count": 61,
     "metadata": {},
     "output_type": "execute_result"
    }
   ],
   "source": [
    "df_nps.duplicated().value_counts()"
   ]
  },
  {
   "cell_type": "code",
   "execution_count": 62,
   "id": "05666fb1",
   "metadata": {},
   "outputs": [
    {
     "data": {
      "text/plain": [
       "False    7065\n",
       "True      169\n",
       "Name: count, dtype: int64"
      ]
     },
     "execution_count": 62,
     "metadata": {},
     "output_type": "execute_result"
    }
   ],
   "source": [
    "df_social.duplicated().value_counts()"
   ]
  },
  {
   "cell_type": "code",
   "execution_count": 63,
   "id": "020d634b",
   "metadata": {},
   "outputs": [
    {
     "data": {
      "text/plain": [
       "False    7065\n",
       "Name: count, dtype: int64"
      ]
     },
     "execution_count": 63,
     "metadata": {},
     "output_type": "execute_result"
    }
   ],
   "source": [
    "df_nps=df_nps.drop_duplicates(subset='cpf', keep='first')\n",
    "df_nps.duplicated().value_counts()"
   ]
  },
  {
   "cell_type": "code",
   "execution_count": 64,
   "id": "ba9e4b12",
   "metadata": {},
   "outputs": [
    {
     "data": {
      "text/plain": [
       "False    7065\n",
       "Name: count, dtype: int64"
      ]
     },
     "execution_count": 64,
     "metadata": {},
     "output_type": "execute_result"
    }
   ],
   "source": [
    "df_social=df_social.drop_duplicates(subset='cpf', keep='first')\n",
    "df_social.duplicated().value_counts()\n"
   ]
  },
  {
   "cell_type": "code",
   "execution_count": 16,
   "id": "e1575e72",
   "metadata": {},
   "outputs": [],
   "source": [
    "#assert df_customer['cpf'].equals(df_nps['cpf']) and df_customer['cpf'].equals(df_social['cpf']), \"CPFs não estão na mesma ordem!\""
   ]
  },
  {
   "cell_type": "code",
   "execution_count": 65,
   "id": "a782b3e8",
   "metadata": {},
   "outputs": [],
   "source": [
    "for df in [df_customer, df_nps, df_social]:\n",
    "    df['cpf'] = (\n",
    "        df['cpf']\n",
    "        .astype(str)              \n",
    "        .str.replace(r'\\.|\\-| ', '', regex=True)  \n",
    "        .str.zfill(11)            \n",
    "    )"
   ]
  },
  {
   "cell_type": "code",
   "execution_count": 18,
   "id": "573794ea",
   "metadata": {},
   "outputs": [],
   "source": [
    "#df_nps.info()\n",
    "#df_customer.info()\n",
    "#df_social.info()"
   ]
  },
  {
   "cell_type": "markdown",
   "id": "0eb21f45",
   "metadata": {},
   "source": [
    "Os três bancos de dados foram unidos, usando o CPf com chave primária"
   ]
  },
  {
   "cell_type": "code",
   "execution_count": null,
   "id": "a69a6a8d",
   "metadata": {},
   "outputs": [],
   "source": [
    "# Juntando os bancos de dados\n",
    "df_temp = pd.merge(df_customer, df_nps, on='cpf', how='inner')\n",
    "df_final = pd.merge(df_temp, df_social, on='cpf', how='inner')\n",
    "#df_final.head(25)"
   ]
  },
  {
   "cell_type": "code",
   "execution_count": null,
   "id": "559ea659",
   "metadata": {},
   "outputs": [
    {
     "data": {
      "text/plain": [
       "False    7065\n",
       "Name: count, dtype: int64"
      ]
     },
     "execution_count": 67,
     "metadata": {},
     "output_type": "execute_result"
    }
   ],
   "source": [
    "df_final.duplicated().value_counts()\n",
    "#df_final.to_csv(\"datasets_unidos.csv\", index=False, encoding=\"utf-8\")"
   ]
  },
  {
   "cell_type": "code",
   "execution_count": 88,
   "id": "06dda7f7",
   "metadata": {},
   "outputs": [
    {
     "data": {
      "text/plain": [
       "cpf\n",
       "20410372883    1\n",
       "10433218100    1\n",
       "96001338914    1\n",
       "08386379499    1\n",
       "02654235114    1\n",
       "              ..\n",
       "26916697857    1\n",
       "53287101269    1\n",
       "23884969692    1\n",
       "39537672409    1\n",
       "35030564160    1\n",
       "Name: count, Length: 7065, dtype: int64"
      ]
     },
     "execution_count": 88,
     "metadata": {},
     "output_type": "execute_result"
    }
   ],
   "source": [
    "# Contagem dos CPFs para verificar se os valores são únicos\n",
    "df_final['cpf'].value_counts()"
   ]
  },
  {
   "cell_type": "markdown",
   "id": "ab19935d",
   "metadata": {},
   "source": [
    "Foram identificados valores altos (outliers) nas variávei **TotalCharges** e **MonthlyCharges**, que foram removidos. Vale ressaltar que estes valores foram removidos apenas por critério de magnitude, seria necessário avaliar melhor o contexto dos contratos dos CFPs envolvidos."
   ]
  },
  {
   "cell_type": "code",
   "execution_count": null,
   "id": "d4483338",
   "metadata": {},
   "outputs": [],
   "source": [
    "sns.boxplot(data=df_final, x='TotalCharges')\n",
    "sns.boxplot(data = df_final, x = 'MonthlyCharges')"
   ]
  },
  {
   "cell_type": "code",
   "execution_count": null,
   "id": "2ad3ab42",
   "metadata": {},
   "outputs": [
    {
     "data": {
      "text/html": [
       "<div>\n",
       "<style scoped>\n",
       "    .dataframe tbody tr th:only-of-type {\n",
       "        vertical-align: middle;\n",
       "    }\n",
       "\n",
       "    .dataframe tbody tr th {\n",
       "        vertical-align: top;\n",
       "    }\n",
       "\n",
       "    .dataframe thead th {\n",
       "        text-align: right;\n",
       "    }\n",
       "</style>\n",
       "<table border=\"1\" class=\"dataframe\">\n",
       "  <thead>\n",
       "    <tr style=\"text-align: right;\">\n",
       "      <th></th>\n",
       "      <th>tenure</th>\n",
       "      <th>MonthlyCharges</th>\n",
       "      <th>TotalCharges</th>\n",
       "      <th>NPS</th>\n",
       "      <th>SeniorCitizen</th>\n",
       "      <th>churn_bin</th>\n",
       "      <th>TotalServicosContratados</th>\n",
       "    </tr>\n",
       "  </thead>\n",
       "  <tbody>\n",
       "    <tr>\n",
       "      <th>count</th>\n",
       "      <td>7034.000000</td>\n",
       "      <td>7034.000000</td>\n",
       "      <td>7034.000000</td>\n",
       "      <td>7034.000000</td>\n",
       "      <td>7034.000000</td>\n",
       "      <td>7034.000000</td>\n",
       "      <td>7034.000000</td>\n",
       "    </tr>\n",
       "    <tr>\n",
       "      <th>mean</th>\n",
       "      <td>32.414558</td>\n",
       "      <td>64.807229</td>\n",
       "      <td>2282.828874</td>\n",
       "      <td>7.154677</td>\n",
       "      <td>0.162354</td>\n",
       "      <td>0.265852</td>\n",
       "      <td>3.363662</td>\n",
       "    </tr>\n",
       "    <tr>\n",
       "      <th>std</th>\n",
       "      <td>24.545564</td>\n",
       "      <td>30.086461</td>\n",
       "      <td>2266.625162</td>\n",
       "      <td>2.649100</td>\n",
       "      <td>0.368802</td>\n",
       "      <td>0.441817</td>\n",
       "      <td>2.061880</td>\n",
       "    </tr>\n",
       "    <tr>\n",
       "      <th>min</th>\n",
       "      <td>1.000000</td>\n",
       "      <td>18.250000</td>\n",
       "      <td>18.800000</td>\n",
       "      <td>0.000000</td>\n",
       "      <td>0.000000</td>\n",
       "      <td>0.000000</td>\n",
       "      <td>0.000000</td>\n",
       "    </tr>\n",
       "    <tr>\n",
       "      <th>25%</th>\n",
       "      <td>9.000000</td>\n",
       "      <td>35.612500</td>\n",
       "      <td>401.350000</td>\n",
       "      <td>5.000000</td>\n",
       "      <td>0.000000</td>\n",
       "      <td>0.000000</td>\n",
       "      <td>1.000000</td>\n",
       "    </tr>\n",
       "    <tr>\n",
       "      <th>50%</th>\n",
       "      <td>29.000000</td>\n",
       "      <td>70.350000</td>\n",
       "      <td>1397.100000</td>\n",
       "      <td>8.000000</td>\n",
       "      <td>0.000000</td>\n",
       "      <td>0.000000</td>\n",
       "      <td>3.000000</td>\n",
       "    </tr>\n",
       "    <tr>\n",
       "      <th>75%</th>\n",
       "      <td>55.000000</td>\n",
       "      <td>89.900000</td>\n",
       "      <td>3793.775000</td>\n",
       "      <td>9.000000</td>\n",
       "      <td>0.000000</td>\n",
       "      <td>1.000000</td>\n",
       "      <td>5.000000</td>\n",
       "    </tr>\n",
       "    <tr>\n",
       "      <th>max</th>\n",
       "      <td>72.000000</td>\n",
       "      <td>118.750000</td>\n",
       "      <td>8684.800000</td>\n",
       "      <td>10.000000</td>\n",
       "      <td>1.000000</td>\n",
       "      <td>1.000000</td>\n",
       "      <td>8.000000</td>\n",
       "    </tr>\n",
       "  </tbody>\n",
       "</table>\n",
       "</div>"
      ],
      "text/plain": [
       "            tenure  MonthlyCharges  TotalCharges          NPS  SeniorCitizen  \\\n",
       "count  7034.000000     7034.000000   7034.000000  7034.000000    7034.000000   \n",
       "mean     32.414558       64.807229   2282.828874     7.154677       0.162354   \n",
       "std      24.545564       30.086461   2266.625162     2.649100       0.368802   \n",
       "min       1.000000       18.250000     18.800000     0.000000       0.000000   \n",
       "25%       9.000000       35.612500    401.350000     5.000000       0.000000   \n",
       "50%      29.000000       70.350000   1397.100000     8.000000       0.000000   \n",
       "75%      55.000000       89.900000   3793.775000     9.000000       0.000000   \n",
       "max      72.000000      118.750000   8684.800000    10.000000       1.000000   \n",
       "\n",
       "         churn_bin  TotalServicosContratados  \n",
       "count  7034.000000               7034.000000  \n",
       "mean      0.265852                  3.363662  \n",
       "std       0.441817                  2.061880  \n",
       "min       0.000000                  0.000000  \n",
       "25%       0.000000                  1.000000  \n",
       "50%       0.000000                  3.000000  \n",
       "75%       1.000000                  5.000000  \n",
       "max       1.000000                  8.000000  "
      ]
     },
     "execution_count": 96,
     "metadata": {},
     "output_type": "execute_result"
    }
   ],
   "source": [
    "# remoção dos outliers\n",
    "\n",
    "colunas_numericas = ['TotalCharges', 'MonthlyCharges']\n",
    "\n",
    "df_limpo = df_final.copy()\n",
    "\n",
    "for coluna in colunas_numericas:\n",
    "    Q3 = df_limpo[coluna].quantile(0.75)\n",
    "    limite_superior = Q3 + 1.5 * (Q3 - df_limpo[coluna].quantile(0.25))\n",
    "    df_limpo = df_limpo[df_limpo[coluna] <= limite_superior]\n",
    "\n",
    "df_limpo[colunas_numericas].describe()\n",
    "\n",
    "df_limpo.describe()\n"
   ]
  },
  {
   "cell_type": "code",
   "execution_count": 133,
   "id": "76e03c0a",
   "metadata": {},
   "outputs": [],
   "source": [
    "df_limpo['TotalServicosContratados'].isna().value_counts()\n",
    "\n",
    "# Na tabelas df_limpo.discribe(), há total de serviços contratados com valores 0, o que indica possível  inconsistência nos dados, então\n",
    "#decidir remover todos os CPFs com zero serviços contratados, ao todo foram 80 observações.\n",
    "df_limpo = df_limpo[df_limpo['TotalServicosContratados'] > 0]\n",
    "\n",
    "# Também foram removidos NPS com valores iguais a zero, visto que a escala é de 1-10\n",
    "df_limpo = df_limpo[df_limpo['NPS'] > 0]"
   ]
  },
  {
   "cell_type": "code",
   "execution_count": 134,
   "id": "0f37d351",
   "metadata": {},
   "outputs": [
    {
     "data": {
      "text/html": [
       "<div>\n",
       "<style scoped>\n",
       "    .dataframe tbody tr th:only-of-type {\n",
       "        vertical-align: middle;\n",
       "    }\n",
       "\n",
       "    .dataframe tbody tr th {\n",
       "        vertical-align: top;\n",
       "    }\n",
       "\n",
       "    .dataframe thead th {\n",
       "        text-align: right;\n",
       "    }\n",
       "</style>\n",
       "<table border=\"1\" class=\"dataframe\">\n",
       "  <thead>\n",
       "    <tr style=\"text-align: right;\">\n",
       "      <th></th>\n",
       "      <th>tenure</th>\n",
       "      <th>MonthlyCharges</th>\n",
       "      <th>TotalCharges</th>\n",
       "      <th>NPS</th>\n",
       "      <th>SeniorCitizen</th>\n",
       "      <th>churn_bin</th>\n",
       "      <th>TotalServicosContratados</th>\n",
       "    </tr>\n",
       "  </thead>\n",
       "  <tbody>\n",
       "    <tr>\n",
       "      <th>count</th>\n",
       "      <td>6945.000000</td>\n",
       "      <td>6945.000000</td>\n",
       "      <td>6945.000000</td>\n",
       "      <td>6945.000000</td>\n",
       "      <td>6945.000000</td>\n",
       "      <td>6945.000000</td>\n",
       "      <td>6945.000000</td>\n",
       "    </tr>\n",
       "    <tr>\n",
       "      <th>mean</th>\n",
       "      <td>32.723830</td>\n",
       "      <td>65.232527</td>\n",
       "      <td>2309.164910</td>\n",
       "      <td>7.193233</td>\n",
       "      <td>0.161411</td>\n",
       "      <td>0.263067</td>\n",
       "      <td>3.401872</td>\n",
       "    </tr>\n",
       "    <tr>\n",
       "      <th>std</th>\n",
       "      <td>24.515208</td>\n",
       "      <td>29.954747</td>\n",
       "      <td>2268.810826</td>\n",
       "      <td>2.631471</td>\n",
       "      <td>0.367936</td>\n",
       "      <td>0.440330</td>\n",
       "      <td>2.042794</td>\n",
       "    </tr>\n",
       "    <tr>\n",
       "      <th>min</th>\n",
       "      <td>1.000000</td>\n",
       "      <td>18.250000</td>\n",
       "      <td>18.800000</td>\n",
       "      <td>1.000000</td>\n",
       "      <td>0.000000</td>\n",
       "      <td>0.000000</td>\n",
       "      <td>1.000000</td>\n",
       "    </tr>\n",
       "    <tr>\n",
       "      <th>25%</th>\n",
       "      <td>9.000000</td>\n",
       "      <td>39.450000</td>\n",
       "      <td>417.700000</td>\n",
       "      <td>5.000000</td>\n",
       "      <td>0.000000</td>\n",
       "      <td>0.000000</td>\n",
       "      <td>2.000000</td>\n",
       "    </tr>\n",
       "    <tr>\n",
       "      <th>50%</th>\n",
       "      <td>29.000000</td>\n",
       "      <td>70.600000</td>\n",
       "      <td>1423.150000</td>\n",
       "      <td>8.000000</td>\n",
       "      <td>0.000000</td>\n",
       "      <td>0.000000</td>\n",
       "      <td>3.000000</td>\n",
       "    </tr>\n",
       "    <tr>\n",
       "      <th>75%</th>\n",
       "      <td>56.000000</td>\n",
       "      <td>90.000000</td>\n",
       "      <td>3842.600000</td>\n",
       "      <td>9.000000</td>\n",
       "      <td>0.000000</td>\n",
       "      <td>1.000000</td>\n",
       "      <td>5.000000</td>\n",
       "    </tr>\n",
       "    <tr>\n",
       "      <th>max</th>\n",
       "      <td>72.000000</td>\n",
       "      <td>118.750000</td>\n",
       "      <td>8684.800000</td>\n",
       "      <td>10.000000</td>\n",
       "      <td>1.000000</td>\n",
       "      <td>1.000000</td>\n",
       "      <td>8.000000</td>\n",
       "    </tr>\n",
       "  </tbody>\n",
       "</table>\n",
       "</div>"
      ],
      "text/plain": [
       "            tenure  MonthlyCharges  TotalCharges          NPS  SeniorCitizen  \\\n",
       "count  6945.000000     6945.000000   6945.000000  6945.000000    6945.000000   \n",
       "mean     32.723830       65.232527   2309.164910     7.193233       0.161411   \n",
       "std      24.515208       29.954747   2268.810826     2.631471       0.367936   \n",
       "min       1.000000       18.250000     18.800000     1.000000       0.000000   \n",
       "25%       9.000000       39.450000    417.700000     5.000000       0.000000   \n",
       "50%      29.000000       70.600000   1423.150000     8.000000       0.000000   \n",
       "75%      56.000000       90.000000   3842.600000     9.000000       0.000000   \n",
       "max      72.000000      118.750000   8684.800000    10.000000       1.000000   \n",
       "\n",
       "         churn_bin  TotalServicosContratados  \n",
       "count  6945.000000               6945.000000  \n",
       "mean      0.263067                  3.401872  \n",
       "std       0.440330                  2.042794  \n",
       "min       0.000000                  1.000000  \n",
       "25%       0.000000                  2.000000  \n",
       "50%       0.000000                  3.000000  \n",
       "75%       1.000000                  5.000000  \n",
       "max       1.000000                  8.000000  "
      ]
     },
     "execution_count": 134,
     "metadata": {},
     "output_type": "execute_result"
    }
   ],
   "source": [
    "df_limpo.describe()\n"
   ]
  },
  {
   "cell_type": "markdown",
   "id": "f707dea3",
   "metadata": {},
   "source": [
    "## Análise Descritiva"
   ]
  },
  {
   "cell_type": "markdown",
   "id": "946b92de",
   "metadata": {},
   "source": [
    "Nesta sessão será feita a análise descritiva para as variáveis **Churn** e **NPS**"
   ]
  },
  {
   "cell_type": "markdown",
   "id": "24d8a780",
   "metadata": {},
   "source": [
    "### Análise descritiva para variável Churn"
   ]
  },
  {
   "cell_type": "markdown",
   "id": "f53d4bcb",
   "metadata": {},
   "source": [
    "Com a atual base de dados, em que foram feitas suas devidas limpezas e ajustes. Foi identificado um **Churn** de aproximadamente 26%"
   ]
  },
  {
   "cell_type": "code",
   "execution_count": 135,
   "id": "a6c04922",
   "metadata": {},
   "outputs": [
    {
     "data": {
      "text/plain": [
       "Churn\n",
       "No       73.693305\n",
       "Yes      26.306695\n",
       "Name: proportion, dtype: float64"
      ]
     },
     "execution_count": 135,
     "metadata": {},
     "output_type": "execute_result"
    }
   ],
   "source": [
    "# Quantidade de Churn\n",
    "df_limpo[[\"Churn\"]].value_counts(normalize=True)*100"
   ]
  },
  {
   "cell_type": "markdown",
   "id": "31c5b408",
   "metadata": {},
   "source": [
    "Em um primeiro momento, buscou-se avaliar o Churn pela quantidade de serviços contratados, com o objetivo de averiguar se a quantidade de serviços contratados iria influenciar no **Churn**."
   ]
  },
  {
   "cell_type": "code",
   "execution_count": 136,
   "id": "c81e168c",
   "metadata": {},
   "outputs": [],
   "source": [
    "df_limpo['churn_bin'] = df_limpo['Churn'].map({'Yes':1, 'No':0})\n",
    "\n",
    "servicos = [\n",
    "    'PhoneService', 'MultipleLines', 'InternetService','OnlineSecurity', 'OnlineBackup',\n",
    "    'DeviceProtection', 'TechSupport', 'StreamingTV', 'StreamingMovies']\n",
    "\n",
    "df_limpo['TotalServicosContratados'] = df_limpo[servicos].apply(\n",
    "    lambda x: sum(x == 'Yes'), axis = 1\n",
    ")\n",
    "\n",
    "#print(df_limpo[['cpf', 'TotalServicosContratados']].head())"
   ]
  },
  {
   "cell_type": "code",
   "execution_count": 175,
   "id": "47c5cfd0",
   "metadata": {},
   "outputs": [
    {
     "name": "stdout",
     "output_type": "stream",
     "text": [
      "Relação entre Quantidade de Serviços e Churn:\n",
      "churn_bin                 Não Churn  Churn  Total  % Churn\n",
      "TotalServicosContratados                                  \n",
      "1                              1338    359   1697     21.2\n",
      "2                               796    389   1185     32.8\n",
      "3                               612    352    964     36.5\n",
      "4                               633    283    916     30.9\n",
      "5                               674    232    906     25.6\n",
      "6                               522    152    674     22.6\n",
      "7                               346     49    395     12.4\n",
      "8                               197     11    208      5.3\n",
      "Total                          5118   1827   6945     26.3\n"
     ]
    }
   ],
   "source": [
    "tabela_churn = pd.crosstab(\n",
    "    df_limpo['TotalServicosContratados'],\n",
    "    df_limpo['churn_bin'],\n",
    "    margins=True,\n",
    "    margins_name=\"Total\"\n",
    ")\n",
    "\n",
    "tabela_churn['% Churn'] = (tabela_churn[1] / tabela_churn['Total'] * 100).round(1)\n",
    "#tabela_churn['% Fidelidade'] = (tabela_churn[0] / tabela_churn['Total'] * 100).round(1)\n",
    "\n",
    "tabela_churn = tabela_churn.rename(columns={\n",
    "    0: 'Não Churn',\n",
    "    1: 'Churn'\n",
    "})\n",
    "\n",
    "print(\"Relação entre Quantidade de Serviços e Churn:\")\n",
    "print(tabela_churn.to_string())"
   ]
  },
  {
   "cell_type": "markdown",
   "id": "2e5a2a68",
   "metadata": {},
   "source": [
    "Nota-se que com aumento de serviços contratados, o **Churn** diminui, logo podemos pensar em uma estratégia de vendas de pacotes de serviços."
   ]
  },
  {
   "cell_type": "code",
   "execution_count": null,
   "id": "6793a70e",
   "metadata": {},
   "outputs": [],
   "source": [
    "plt.figure(figsize=(10, 6))\n",
    "sns.boxplot(\n",
    "    data=df_limpo,\n",
    "    x='TotalServicosContratados',\n",
    "    y='MonthlyCharges',\n",
    "    hue='churn_bin',\n",
    "    palette={0: 'green', 1: 'red'}\n",
    ")\n",
    "plt.title('Distribuição de Valores Mensais por Número de Serviços')\n",
    "plt.show()"
   ]
  },
  {
   "cell_type": "code",
   "execution_count": 139,
   "id": "a69fcf35",
   "metadata": {},
   "outputs": [],
   "source": [
    "var_num  = df_limpo.select_dtypes(include=['int64']).columns.tolist()\n",
    "var_num = [col for col in var_num if col not in ['churn_bin', 'TotalServicosContratados']] "
   ]
  },
  {
   "cell_type": "code",
   "execution_count": 140,
   "id": "3e111321",
   "metadata": {},
   "outputs": [
    {
     "name": "stdout",
     "output_type": "stream",
     "text": [
      "\n",
      "**Churn Rate para tenure:**\n"
     ]
    },
    {
     "data": {
      "text/html": [
       "<div>\n",
       "<style scoped>\n",
       "    .dataframe tbody tr th:only-of-type {\n",
       "        vertical-align: middle;\n",
       "    }\n",
       "\n",
       "    .dataframe tbody tr th {\n",
       "        vertical-align: top;\n",
       "    }\n",
       "\n",
       "    .dataframe thead th {\n",
       "        text-align: right;\n",
       "    }\n",
       "</style>\n",
       "<table border=\"1\" class=\"dataframe\">\n",
       "  <thead>\n",
       "    <tr style=\"text-align: right;\">\n",
       "      <th></th>\n",
       "      <th>tenure</th>\n",
       "      <th>Churn</th>\n",
       "    </tr>\n",
       "  </thead>\n",
       "  <tbody>\n",
       "    <tr>\n",
       "      <th>0</th>\n",
       "      <td>1</td>\n",
       "      <td>61.83</td>\n",
       "    </tr>\n",
       "    <tr>\n",
       "      <th>1</th>\n",
       "      <td>2</td>\n",
       "      <td>51.53</td>\n",
       "    </tr>\n",
       "    <tr>\n",
       "      <th>2</th>\n",
       "      <td>3</td>\n",
       "      <td>46.11</td>\n",
       "    </tr>\n",
       "    <tr>\n",
       "      <th>3</th>\n",
       "      <td>4</td>\n",
       "      <td>46.51</td>\n",
       "    </tr>\n",
       "    <tr>\n",
       "      <th>4</th>\n",
       "      <td>5</td>\n",
       "      <td>48.46</td>\n",
       "    </tr>\n",
       "    <tr>\n",
       "      <th>...</th>\n",
       "      <td>...</td>\n",
       "      <td>...</td>\n",
       "    </tr>\n",
       "    <tr>\n",
       "      <th>67</th>\n",
       "      <td>68</td>\n",
       "      <td>9.00</td>\n",
       "    </tr>\n",
       "    <tr>\n",
       "      <th>68</th>\n",
       "      <td>69</td>\n",
       "      <td>8.42</td>\n",
       "    </tr>\n",
       "    <tr>\n",
       "      <th>69</th>\n",
       "      <td>70</td>\n",
       "      <td>9.24</td>\n",
       "    </tr>\n",
       "    <tr>\n",
       "      <th>70</th>\n",
       "      <td>71</td>\n",
       "      <td>3.53</td>\n",
       "    </tr>\n",
       "    <tr>\n",
       "      <th>71</th>\n",
       "      <td>72</td>\n",
       "      <td>1.66</td>\n",
       "    </tr>\n",
       "  </tbody>\n",
       "</table>\n",
       "<p>72 rows × 2 columns</p>\n",
       "</div>"
      ],
      "text/plain": [
       "    tenure  Churn\n",
       "0        1  61.83\n",
       "1        2  51.53\n",
       "2        3  46.11\n",
       "3        4  46.51\n",
       "4        5  48.46\n",
       "..     ...    ...\n",
       "67      68   9.00\n",
       "68      69   8.42\n",
       "69      70   9.24\n",
       "70      71   3.53\n",
       "71      72   1.66\n",
       "\n",
       "[72 rows x 2 columns]"
      ]
     },
     "metadata": {},
     "output_type": "display_data"
    },
    {
     "name": "stdout",
     "output_type": "stream",
     "text": [
      "-> Maior Churn: '1.0' com 61.83%\n",
      "\n",
      "**Churn Rate para NPS:**\n"
     ]
    },
    {
     "data": {
      "text/html": [
       "<div>\n",
       "<style scoped>\n",
       "    .dataframe tbody tr th:only-of-type {\n",
       "        vertical-align: middle;\n",
       "    }\n",
       "\n",
       "    .dataframe tbody tr th {\n",
       "        vertical-align: top;\n",
       "    }\n",
       "\n",
       "    .dataframe thead th {\n",
       "        text-align: right;\n",
       "    }\n",
       "</style>\n",
       "<table border=\"1\" class=\"dataframe\">\n",
       "  <thead>\n",
       "    <tr style=\"text-align: right;\">\n",
       "      <th></th>\n",
       "      <th>NPS</th>\n",
       "      <th>Churn</th>\n",
       "    </tr>\n",
       "  </thead>\n",
       "  <tbody>\n",
       "    <tr>\n",
       "      <th>0</th>\n",
       "      <td>1</td>\n",
       "      <td>86.82</td>\n",
       "    </tr>\n",
       "    <tr>\n",
       "      <th>1</th>\n",
       "      <td>2</td>\n",
       "      <td>74.70</td>\n",
       "    </tr>\n",
       "    <tr>\n",
       "      <th>2</th>\n",
       "      <td>3</td>\n",
       "      <td>66.17</td>\n",
       "    </tr>\n",
       "    <tr>\n",
       "      <th>3</th>\n",
       "      <td>4</td>\n",
       "      <td>55.24</td>\n",
       "    </tr>\n",
       "    <tr>\n",
       "      <th>4</th>\n",
       "      <td>5</td>\n",
       "      <td>45.34</td>\n",
       "    </tr>\n",
       "    <tr>\n",
       "      <th>5</th>\n",
       "      <td>6</td>\n",
       "      <td>34.51</td>\n",
       "    </tr>\n",
       "    <tr>\n",
       "      <th>6</th>\n",
       "      <td>7</td>\n",
       "      <td>28.68</td>\n",
       "    </tr>\n",
       "    <tr>\n",
       "      <th>7</th>\n",
       "      <td>8</td>\n",
       "      <td>19.14</td>\n",
       "    </tr>\n",
       "    <tr>\n",
       "      <th>8</th>\n",
       "      <td>9</td>\n",
       "      <td>7.74</td>\n",
       "    </tr>\n",
       "    <tr>\n",
       "      <th>9</th>\n",
       "      <td>10</td>\n",
       "      <td>2.24</td>\n",
       "    </tr>\n",
       "  </tbody>\n",
       "</table>\n",
       "</div>"
      ],
      "text/plain": [
       "   NPS  Churn\n",
       "0    1  86.82\n",
       "1    2  74.70\n",
       "2    3  66.17\n",
       "3    4  55.24\n",
       "4    5  45.34\n",
       "5    6  34.51\n",
       "6    7  28.68\n",
       "7    8  19.14\n",
       "8    9   7.74\n",
       "9   10   2.24"
      ]
     },
     "metadata": {},
     "output_type": "display_data"
    },
    {
     "name": "stdout",
     "output_type": "stream",
     "text": [
      "-> Maior Churn: '1.0' com 86.82%\n",
      "\n",
      "**Churn Rate para SeniorCitizen:**\n"
     ]
    },
    {
     "data": {
      "text/html": [
       "<div>\n",
       "<style scoped>\n",
       "    .dataframe tbody tr th:only-of-type {\n",
       "        vertical-align: middle;\n",
       "    }\n",
       "\n",
       "    .dataframe tbody tr th {\n",
       "        vertical-align: top;\n",
       "    }\n",
       "\n",
       "    .dataframe thead th {\n",
       "        text-align: right;\n",
       "    }\n",
       "</style>\n",
       "<table border=\"1\" class=\"dataframe\">\n",
       "  <thead>\n",
       "    <tr style=\"text-align: right;\">\n",
       "      <th></th>\n",
       "      <th>SeniorCitizen</th>\n",
       "      <th>Churn</th>\n",
       "    </tr>\n",
       "  </thead>\n",
       "  <tbody>\n",
       "    <tr>\n",
       "      <th>0</th>\n",
       "      <td>0</td>\n",
       "      <td>23.51</td>\n",
       "    </tr>\n",
       "    <tr>\n",
       "      <th>1</th>\n",
       "      <td>1</td>\n",
       "      <td>40.86</td>\n",
       "    </tr>\n",
       "  </tbody>\n",
       "</table>\n",
       "</div>"
      ],
      "text/plain": [
       "   SeniorCitizen  Churn\n",
       "0              0  23.51\n",
       "1              1  40.86"
      ]
     },
     "metadata": {},
     "output_type": "display_data"
    },
    {
     "name": "stdout",
     "output_type": "stream",
     "text": [
      "-> Maior Churn: '1.0' com 40.86%\n"
     ]
    }
   ],
   "source": [
    "def calculate_churn_rate(df, column):\n",
    "    return (df.groupby(column)['churn_bin']\n",
    "            .mean()\n",
    "            .mul(100)\n",
    "            .round(2)\n",
    "            .reset_index()\n",
    "            .rename(columns={'churn_bin': 'Churn'}))\n",
    "\n",
    "for col in var_num:\n",
    "    print(f\"\\n**Churn Rate para {col}:**\")\n",
    "    churn_df = calculate_churn_rate(df_limpo, col)\n",
    "    display(churn_df)\n",
    "    \n",
    "    max_churn = churn_df.loc[churn_df['Churn'].idxmax()]\n",
    "    print(f\"-> Maior Churn: '{max_churn[col]}' com {max_churn['Churn']}%\")"
   ]
  },
  {
   "cell_type": "markdown",
   "id": "35d01d19",
   "metadata": {},
   "source": [
    "Podemos notar que o Churn diminui de acordo com aumento de permanencia do individuo com o contrato de serviços (medido na variável **tenure**). Para fins práticos a variável será categorizada para entender melhor os períodos mais propensos ao cancelamento. "
   ]
  },
  {
   "cell_type": "code",
   "execution_count": 171,
   "id": "26ab149a",
   "metadata": {},
   "outputs": [
    {
     "name": "stdout",
     "output_type": "stream",
     "text": [
      "\n",
      "Distribuição por categoria:\n",
      "tenure_cat\n",
      "1-6m      1303\n",
      "7-12m      689\n",
      "13-24m    1035\n",
      "25-48m    1616\n",
      "49-60m     819\n",
      "60m+      1483\n",
      "Name: count, dtype: int64\n"
     ]
    }
   ],
   "source": [
    "bins = [1, 6, 12, 24, 48, 60, float('inf')]  \n",
    "labels = [\n",
    "    '1-6m',   \n",
    "    '7-12m', \n",
    "    '13-24m', \n",
    "    '25-48m', \n",
    "    '49-60m', \n",
    "    '60m+'\n",
    "]\n",
    "\n",
    "df_limpo['tenure_cat'] = pd.cut(\n",
    "    df_limpo['tenure'],\n",
    "    bins=bins,\n",
    "    labels=labels,\n",
    "    right=False\n",
    ")\n",
    "\n",
    "print(\"\\nDistribuição por categoria:\")\n",
    "print(df_limpo['tenure_cat'].value_counts().sort_index())"
   ]
  },
  {
   "cell_type": "code",
   "execution_count": 172,
   "id": "af74f943",
   "metadata": {},
   "outputs": [
    {
     "name": "stdout",
     "output_type": "stream",
     "text": [
      "\n",
      "Análise de Churn por Tempo de Permanência:\n",
      "              Total_Clientes Taxa_Churn\n",
      "tenure_group                           \n",
      "1-6 meses               1303      54.3%\n",
      "7-12 meses               689      36.6%\n",
      "13-24 meses             1035      29.7%\n",
      "25-36 meses              871      22.0%\n",
      "37-48 meses              745      19.6%\n",
      "49+ meses               1940      11.1%\n"
     ]
    },
    {
     "name": "stderr",
     "output_type": "stream",
     "text": [
      "/tmp/ipykernel_1076/3384091045.py:1: FutureWarning: The default of observed=False is deprecated and will be changed to True in a future version of pandas. Pass observed=False to retain current behavior or observed=True to adopt the future default and silence this warning.\n",
      "  churn_table = (df_limpo.groupby('tenure_group')['churn_bin']\n"
     ]
    }
   ],
   "source": [
    "churn_table = (df_limpo.groupby('tenure_group')['churn_bin']\n",
    "               .agg(['count', 'mean'])\n",
    "               .rename(columns={'count': 'Total_Clientes', 'mean': 'Taxa_Churn'}))\n",
    "\n",
    "churn_table['Taxa_Churn'] = (churn_table['Taxa_Churn'] * 100).round(1).astype(str) + '%'\n",
    "\n",
    "print(\"\\nAnálise de Churn por Tempo de Permanência:\")\n",
    "print(churn_table)"
   ]
  },
  {
   "cell_type": "code",
   "execution_count": 173,
   "id": "bd35c09a",
   "metadata": {},
   "outputs": [
    {
     "name": "stdout",
     "output_type": "stream",
     "text": [
      "Taxa de Churn por Tempo de Permanência:\n",
      "            Total Clientes Taxa Churn\n",
      "tenure_cat                           \n",
      "1-6m                  1303      54.3%\n",
      "7-12m                  689      36.6%\n",
      "13-24m                1035      29.7%\n",
      "25-48m                1616      20.9%\n",
      "49-60m                 819      15.0%\n",
      "60m+                  1483       6.7%\n"
     ]
    },
    {
     "name": "stderr",
     "output_type": "stream",
     "text": [
      "/tmp/ipykernel_1076/2232545065.py:2: FutureWarning: The default of observed=False is deprecated and will be changed to True in a future version of pandas. Pass observed=False to retain current behavior or observed=True to adopt the future default and silence this warning.\n",
      "  tabela_simples = (df_limpo.groupby('tenure_cat')['churn_bin']\n"
     ]
    }
   ],
   "source": [
    "#  tabela resumo\n",
    "tabela_simples = (df_limpo.groupby('tenure_cat')['churn_bin']\n",
    "                  .agg(['count', 'mean'])\n",
    "                  .rename(columns={\n",
    "                      'count': 'Total Clientes',\n",
    "                      'mean': 'Taxa Churn'\n",
    "                  }))\n",
    "\n",
    "tabela_simples['Taxa Churn'] = (tabela_simples['Taxa Churn'] * 100).round(1).astype(str) + '%'\n",
    "\n",
    "print(\"Taxa de Churn por Tempo de Permanência:\")\n",
    "print(tabela_simples)"
   ]
  },
  {
   "cell_type": "code",
   "execution_count": 174,
   "id": "72d6b17f",
   "metadata": {},
   "outputs": [
    {
     "name": "stderr",
     "output_type": "stream",
     "text": [
      "/tmp/ipykernel_1076/2783234646.py:3: FutureWarning: \n",
      "\n",
      "The `ci` parameter is deprecated. Use `errorbar=None` for the same effect.\n",
      "\n",
      "  ax = sns.barplot(\n",
      "/tmp/ipykernel_1076/2783234646.py:3: FutureWarning: \n",
      "\n",
      "Passing `palette` without assigning `hue` is deprecated and will be removed in v0.14.0. Assign the `x` variable to `hue` and set `legend=False` for the same effect.\n",
      "\n",
      "  ax = sns.barplot(\n"
     ]
    },
    {
     "data": {
      "image/png": "[encoded data removed]",
      "text/plain": [
       "<Figure size 1000x700 with 1 Axes>"
      ]
     },
     "metadata": {},
     "output_type": "display_data"
    }
   ],
   "source": [
    "plt.figure(figsize=(10, 7))\n",
    "\n",
    "ax = sns.barplot(\n",
    "    data=df_limpo,\n",
    "    x='tenure_cat',\n",
    "    y='churn_bin',\n",
    "    estimator=lambda x: sum(x) / len(x) * 100,\n",
    "    ci=None,\n",
    "    palette='viridis',  \n",
    "    order=['1-6m', '7-12m', '13-24m', '25-48m', '49-60m', '60m+']\n",
    ")\n",
    "\n",
    "plt.title('Taxa de Churn por Tempo de Permanência', fontsize=16, pad=20)\n",
    "plt.xlabel('Tempo como Cliente (meses)', fontsize=12)\n",
    "plt.ylabel('Taxa de Churn (%)', fontsize=12)\n",
    "\n",
    "ax.grid(False) \n",
    "\n",
    "for spine in ax.spines.values():\n",
    "    spine.set_visible(True)\n",
    "\n",
    "for p in ax.patches:\n",
    "    ax.annotate(\n",
    "        f'{p.get_height():.1f}%', \n",
    "        (p.get_x() + p.get_width() / 2., p.get_height()),\n",
    "        ha='center', \n",
    "        va='center',\n",
    "        xytext=(0, 10),\n",
    "        textcoords='offset points',\n",
    "        fontsize=11\n",
    "    )\n",
    "\n",
    "plt.xticks(rotation=45, ha='right')\n",
    "\n",
    "plt.tight_layout()\n",
    "plt.show()"
   ]
  },
  {
   "cell_type": "markdown",
   "id": "e2be816e",
   "metadata": {},
   "source": [
    "Com é possível observar no gráfico acima, nota-se que a maior porcentagem de Churn, se concetra nos primeiros seis meses de contrato até  um ano. Decaíndo até 7%, aproximadamente, para mais de cinco anos de contrato."
   ]
  },
  {
   "cell_type": "markdown",
   "id": "5b193d3c",
   "metadata": {},
   "source": [
    "Foi avaliado as variáveis contínuas **Total Charges** e **Monthly Charges**. Podemos notar que para o **Churn (Yes)**, se concetra no Monthly Charges no valores de 70 e 110. "
   ]
  },
  {
   "cell_type": "code",
   "execution_count": null,
   "id": "9e539d76",
   "metadata": {},
   "outputs": [
    {
     "data": {
      "image/png": "[encoded data removed]",
      "text/plain": [
       "<Figure size 1600x1200 with 4 Axes>"
      ]
     },
     "metadata": {},
     "output_type": "display_data"
    }
   ],
   "source": [
    "plt.figure(figsize=(16, 12))\n",
    "\n",
    "\n",
    "plt.subplot(2, 2, 1)\n",
    "sns.histplot(data=df_limpo[df_limpo['Churn'] == 'Yes'], \n",
    "             x='MonthlyCharges', color='red', bins=30, kde=True)\n",
    "plt.title('MonthlyCharges - Com Churn (Yes)')\n",
    "\n",
    "plt.subplot(2, 2, 2)\n",
    "sns.histplot(data=df_limpo[df_limpo['Churn'] == 'No'], \n",
    "             x='MonthlyCharges', color='green', bins=30, kde=True)\n",
    "plt.title('MonthlyCharges - Sem Churn (No)')\n",
    "\n",
    "plt.subplot(2, 2, 3)\n",
    "sns.histplot(data=df_limpo[df_limpo['Churn'] == 'Yes'], \n",
    "             x='TotalCharges', color='red', bins=30, kde=True)\n",
    "plt.title('TotalCharges - Com Churn (Yes)')\n",
    "\n",
    "plt.subplot(2, 2, 4)\n",
    "sns.histplot(data=df_limpo[df_limpo['Churn'] == 'No'], \n",
    "             x='TotalCharges', color='green', bins=30, kde=True)\n",
    "plt.title('TotalCharges - Sem Churn (No)')\n",
    "\n",
    "plt.tight_layout()\n",
    "plt.show()"
   ]
  },
  {
   "cell_type": "code",
   "execution_count": null,
   "id": "fc657e2e",
   "metadata": {},
   "outputs": [
    {
     "name": "stderr",
     "output_type": "stream",
     "text": [
      "/tmp/ipykernel_1076/3895898424.py:5: FutureWarning: \n",
      "\n",
      "Passing `palette` without assigning `hue` is deprecated and will be removed in v0.14.0. Assign the `x` variable to `hue` and set `legend=False` for the same effect.\n",
      "\n",
      "  sns.boxplot(data=df_limpo, x='Churn', y='MonthlyCharges',\n",
      "/tmp/ipykernel_1076/3895898424.py:13: FutureWarning: \n",
      "\n",
      "Passing `palette` without assigning `hue` is deprecated and will be removed in v0.14.0. Assign the `x` variable to `hue` and set `legend=False` for the same effect.\n",
      "\n",
      "  sns.boxplot(data=df_limpo, x='Churn', y='TotalCharges',\n"
     ]
    },
    {
     "data": {
      "image/png": "[encoded data removed]",
      "text/plain": [
       "<Figure size 1400x600 with 2 Axes>"
      ]
     },
     "metadata": {},
     "output_type": "display_data"
    }
   ],
   "source": [
    "plt.figure(figsize=(14, 6))\n",
    "\n",
    "# MonthlyCharges\n",
    "plt.subplot(1, 2, 1)\n",
    "sns.boxplot(data=df_limpo, x='Churn', y='MonthlyCharges', \n",
    "            palette={'Yes': 'salmon', 'No': 'lightgreen'})\n",
    "plt.title('Distribuição de MonthlyCharges por Churn')\n",
    "plt.xlabel('Churn')\n",
    "plt.ylabel('Cobrança Mensal ($)')\n",
    "\n",
    "# TotalCharges\n",
    "plt.subplot(1, 2, 2)\n",
    "sns.boxplot(data=df_limpo, x='Churn', y='TotalCharges', \n",
    "            palette={'Yes': 'salmon', 'No': 'lightgreen'})\n",
    "plt.title('Distribuição de TotalCharges por Churn')\n",
    "plt.xlabel('Churn')\n",
    "plt.ylabel('Cobrança Total ($)')\n",
    "\n",
    "plt.tight_layout()\n",
    "plt.show()\n"
   ]
  },
  {
   "cell_type": "code",
   "execution_count": 182,
   "id": "525a8368",
   "metadata": {},
   "outputs": [
    {
     "name": "stderr",
     "output_type": "stream",
     "text": [
      "/tmp/ipykernel_1076/1822097320.py:2: FutureWarning: \n",
      "\n",
      "Passing `palette` without assigning `hue` is deprecated and will be removed in v0.14.0. Assign the `x` variable to `hue` and set `legend=False` for the same effect.\n",
      "\n",
      "  sns.boxplot(data=df_limpo, x='Churn', y='tenure',\n"
     ]
    },
    {
     "data": {
      "image/png": "[encoded data removed]",
      "text/plain": [
       "<Figure size 640x480 with 1 Axes>"
      ]
     },
     "metadata": {},
     "output_type": "display_data"
    }
   ],
   "source": [
    "plt.subplot(1, 2, 2)\n",
    "sns.boxplot(data=df_limpo, x='Churn', y='tenure', \n",
    "            palette={'Yes': 'salmon', 'No': 'lightgreen'})\n",
    "plt.title('Distribuição de Tenure por Churn')\n",
    "plt.xlabel('Churn')\n",
    "plt.ylabel('Tenure')\n",
    "\n",
    "plt.tight_layout()\n",
    "plt.show()"
   ]
  },
  {
   "cell_type": "markdown",
   "id": "1dcc4ba4",
   "metadata": {},
   "source": [
    "Análise para as variáveis categóricas"
   ]
  },
  {
   "cell_type": "code",
   "execution_count": 176,
   "id": "25834ba2",
   "metadata": {},
   "outputs": [],
   "source": [
    "cat_cols = df_limpo.select_dtypes(include=['object']).columns.tolist()\n",
    "cat_cols = [col for col in cat_cols if col not in ['Churn', 'cpf']] "
   ]
  },
  {
   "cell_type": "code",
   "execution_count": 177,
   "id": "ccee8903",
   "metadata": {},
   "outputs": [
    {
     "name": "stdout",
     "output_type": "stream",
     "text": [
      "\n",
      "**Churn Rate para PhoneService:**\n"
     ]
    },
    {
     "data": {
      "text/html": [
       "<div>\n",
       "<style scoped>\n",
       "    .dataframe tbody tr th:only-of-type {\n",
       "        vertical-align: middle;\n",
       "    }\n",
       "\n",
       "    .dataframe tbody tr th {\n",
       "        vertical-align: top;\n",
       "    }\n",
       "\n",
       "    .dataframe thead th {\n",
       "        text-align: right;\n",
       "    }\n",
       "</style>\n",
       "<table border=\"1\" class=\"dataframe\">\n",
       "  <thead>\n",
       "    <tr style=\"text-align: right;\">\n",
       "      <th></th>\n",
       "      <th>PhoneService</th>\n",
       "      <th>Churn</th>\n",
       "    </tr>\n",
       "  </thead>\n",
       "  <tbody>\n",
       "    <tr>\n",
       "      <th>0</th>\n",
       "      <td>No</td>\n",
       "      <td>22.50</td>\n",
       "    </tr>\n",
       "    <tr>\n",
       "      <th>1</th>\n",
       "      <td>Yes</td>\n",
       "      <td>26.67</td>\n",
       "    </tr>\n",
       "  </tbody>\n",
       "</table>\n",
       "</div>"
      ],
      "text/plain": [
       "  PhoneService  Churn\n",
       "0           No  22.50\n",
       "1          Yes  26.67"
      ]
     },
     "metadata": {},
     "output_type": "display_data"
    },
    {
     "name": "stdout",
     "output_type": "stream",
     "text": [
      "-> Maior Churn: 'Yes' com 26.67%\n",
      "\n",
      "**Churn Rate para MultipleLines:**\n"
     ]
    },
    {
     "data": {
      "text/html": [
       "<div>\n",
       "<style scoped>\n",
       "    .dataframe tbody tr th:only-of-type {\n",
       "        vertical-align: middle;\n",
       "    }\n",
       "\n",
       "    .dataframe tbody tr th {\n",
       "        vertical-align: top;\n",
       "    }\n",
       "\n",
       "    .dataframe thead th {\n",
       "        text-align: right;\n",
       "    }\n",
       "</style>\n",
       "<table border=\"1\" class=\"dataframe\">\n",
       "  <thead>\n",
       "    <tr style=\"text-align: right;\">\n",
       "      <th></th>\n",
       "      <th>MultipleLines</th>\n",
       "      <th>Churn</th>\n",
       "    </tr>\n",
       "  </thead>\n",
       "  <tbody>\n",
       "    <tr>\n",
       "      <th>0</th>\n",
       "      <td>No</td>\n",
       "      <td>25.07</td>\n",
       "    </tr>\n",
       "    <tr>\n",
       "      <th>1</th>\n",
       "      <td>No phone service</td>\n",
       "      <td>22.50</td>\n",
       "    </tr>\n",
       "    <tr>\n",
       "      <th>2</th>\n",
       "      <td>Yes</td>\n",
       "      <td>28.49</td>\n",
       "    </tr>\n",
       "  </tbody>\n",
       "</table>\n",
       "</div>"
      ],
      "text/plain": [
       "      MultipleLines  Churn\n",
       "0                No  25.07\n",
       "1  No phone service  22.50\n",
       "2               Yes  28.49"
      ]
     },
     "metadata": {},
     "output_type": "display_data"
    },
    {
     "name": "stdout",
     "output_type": "stream",
     "text": [
      "-> Maior Churn: 'Yes' com 28.49%\n",
      "\n",
      "**Churn Rate para InternetService:**\n"
     ]
    },
    {
     "data": {
      "text/html": [
       "<div>\n",
       "<style scoped>\n",
       "    .dataframe tbody tr th:only-of-type {\n",
       "        vertical-align: middle;\n",
       "    }\n",
       "\n",
       "    .dataframe tbody tr th {\n",
       "        vertical-align: top;\n",
       "    }\n",
       "\n",
       "    .dataframe thead th {\n",
       "        text-align: right;\n",
       "    }\n",
       "</style>\n",
       "<table border=\"1\" class=\"dataframe\">\n",
       "  <thead>\n",
       "    <tr style=\"text-align: right;\">\n",
       "      <th></th>\n",
       "      <th>InternetService</th>\n",
       "      <th>Churn</th>\n",
       "    </tr>\n",
       "  </thead>\n",
       "  <tbody>\n",
       "    <tr>\n",
       "      <th>0</th>\n",
       "      <td>DSL</td>\n",
       "      <td>18.15</td>\n",
       "    </tr>\n",
       "    <tr>\n",
       "      <th>1</th>\n",
       "      <td>Fiber optic</td>\n",
       "      <td>41.76</td>\n",
       "    </tr>\n",
       "    <tr>\n",
       "      <th>2</th>\n",
       "      <td>No</td>\n",
       "      <td>7.43</td>\n",
       "    </tr>\n",
       "  </tbody>\n",
       "</table>\n",
       "</div>"
      ],
      "text/plain": [
       "  InternetService  Churn\n",
       "0             DSL  18.15\n",
       "1     Fiber optic  41.76\n",
       "2              No   7.43"
      ]
     },
     "metadata": {},
     "output_type": "display_data"
    },
    {
     "name": "stdout",
     "output_type": "stream",
     "text": [
      "-> Maior Churn: 'Fiber optic' com 41.76%\n",
      "\n",
      "**Churn Rate para OnlineSecurity:**\n"
     ]
    },
    {
     "data": {
      "text/html": [
       "<div>\n",
       "<style scoped>\n",
       "    .dataframe tbody tr th:only-of-type {\n",
       "        vertical-align: middle;\n",
       "    }\n",
       "\n",
       "    .dataframe tbody tr th {\n",
       "        vertical-align: top;\n",
       "    }\n",
       "\n",
       "    .dataframe thead th {\n",
       "        text-align: right;\n",
       "    }\n",
       "</style>\n",
       "<table border=\"1\" class=\"dataframe\">\n",
       "  <thead>\n",
       "    <tr style=\"text-align: right;\">\n",
       "      <th></th>\n",
       "      <th>OnlineSecurity</th>\n",
       "      <th>Churn</th>\n",
       "    </tr>\n",
       "  </thead>\n",
       "  <tbody>\n",
       "    <tr>\n",
       "      <th>0</th>\n",
       "      <td>No</td>\n",
       "      <td>41.61</td>\n",
       "    </tr>\n",
       "    <tr>\n",
       "      <th>1</th>\n",
       "      <td>No internet service</td>\n",
       "      <td>7.43</td>\n",
       "    </tr>\n",
       "    <tr>\n",
       "      <th>2</th>\n",
       "      <td>Yes</td>\n",
       "      <td>14.64</td>\n",
       "    </tr>\n",
       "  </tbody>\n",
       "</table>\n",
       "</div>"
      ],
      "text/plain": [
       "        OnlineSecurity  Churn\n",
       "0                   No  41.61\n",
       "1  No internet service   7.43\n",
       "2                  Yes  14.64"
      ]
     },
     "metadata": {},
     "output_type": "display_data"
    },
    {
     "name": "stdout",
     "output_type": "stream",
     "text": [
      "-> Maior Churn: 'No' com 41.61%\n",
      "\n",
      "**Churn Rate para OnlineBackup:**\n"
     ]
    },
    {
     "data": {
      "text/html": [
       "<div>\n",
       "<style scoped>\n",
       "    .dataframe tbody tr th:only-of-type {\n",
       "        vertical-align: middle;\n",
       "    }\n",
       "\n",
       "    .dataframe tbody tr th {\n",
       "        vertical-align: top;\n",
       "    }\n",
       "\n",
       "    .dataframe thead th {\n",
       "        text-align: right;\n",
       "    }\n",
       "</style>\n",
       "<table border=\"1\" class=\"dataframe\">\n",
       "  <thead>\n",
       "    <tr style=\"text-align: right;\">\n",
       "      <th></th>\n",
       "      <th>OnlineBackup</th>\n",
       "      <th>Churn</th>\n",
       "    </tr>\n",
       "  </thead>\n",
       "  <tbody>\n",
       "    <tr>\n",
       "      <th>0</th>\n",
       "      <td>No</td>\n",
       "      <td>39.68</td>\n",
       "    </tr>\n",
       "    <tr>\n",
       "      <th>1</th>\n",
       "      <td>No internet service</td>\n",
       "      <td>7.43</td>\n",
       "    </tr>\n",
       "    <tr>\n",
       "      <th>2</th>\n",
       "      <td>Yes</td>\n",
       "      <td>21.60</td>\n",
       "    </tr>\n",
       "  </tbody>\n",
       "</table>\n",
       "</div>"
      ],
      "text/plain": [
       "          OnlineBackup  Churn\n",
       "0                   No  39.68\n",
       "1  No internet service   7.43\n",
       "2                  Yes  21.60"
      ]
     },
     "metadata": {},
     "output_type": "display_data"
    },
    {
     "name": "stdout",
     "output_type": "stream",
     "text": [
      "-> Maior Churn: 'No' com 39.68%\n",
      "\n",
      "**Churn Rate para DeviceProtection:**\n"
     ]
    },
    {
     "data": {
      "text/html": [
       "<div>\n",
       "<style scoped>\n",
       "    .dataframe tbody tr th:only-of-type {\n",
       "        vertical-align: middle;\n",
       "    }\n",
       "\n",
       "    .dataframe tbody tr th {\n",
       "        vertical-align: top;\n",
       "    }\n",
       "\n",
       "    .dataframe thead th {\n",
       "        text-align: right;\n",
       "    }\n",
       "</style>\n",
       "<table border=\"1\" class=\"dataframe\">\n",
       "  <thead>\n",
       "    <tr style=\"text-align: right;\">\n",
       "      <th></th>\n",
       "      <th>DeviceProtection</th>\n",
       "      <th>Churn</th>\n",
       "    </tr>\n",
       "  </thead>\n",
       "  <tbody>\n",
       "    <tr>\n",
       "      <th>0</th>\n",
       "      <td>No</td>\n",
       "      <td>38.92</td>\n",
       "    </tr>\n",
       "    <tr>\n",
       "      <th>1</th>\n",
       "      <td>No internet service</td>\n",
       "      <td>7.43</td>\n",
       "    </tr>\n",
       "    <tr>\n",
       "      <th>2</th>\n",
       "      <td>Yes</td>\n",
       "      <td>22.48</td>\n",
       "    </tr>\n",
       "  </tbody>\n",
       "</table>\n",
       "</div>"
      ],
      "text/plain": [
       "      DeviceProtection  Churn\n",
       "0                   No  38.92\n",
       "1  No internet service   7.43\n",
       "2                  Yes  22.48"
      ]
     },
     "metadata": {},
     "output_type": "display_data"
    },
    {
     "name": "stdout",
     "output_type": "stream",
     "text": [
      "-> Maior Churn: 'No' com 38.92%\n",
      "\n",
      "**Churn Rate para TechSupport:**\n"
     ]
    },
    {
     "data": {
      "text/html": [
       "<div>\n",
       "<style scoped>\n",
       "    .dataframe tbody tr th:only-of-type {\n",
       "        vertical-align: middle;\n",
       "    }\n",
       "\n",
       "    .dataframe tbody tr th {\n",
       "        vertical-align: top;\n",
       "    }\n",
       "\n",
       "    .dataframe thead th {\n",
       "        text-align: right;\n",
       "    }\n",
       "</style>\n",
       "<table border=\"1\" class=\"dataframe\">\n",
       "  <thead>\n",
       "    <tr style=\"text-align: right;\">\n",
       "      <th></th>\n",
       "      <th>TechSupport</th>\n",
       "      <th>Churn</th>\n",
       "    </tr>\n",
       "  </thead>\n",
       "  <tbody>\n",
       "    <tr>\n",
       "      <th>0</th>\n",
       "      <td>No</td>\n",
       "      <td>41.49</td>\n",
       "    </tr>\n",
       "    <tr>\n",
       "      <th>1</th>\n",
       "      <td>No internet service</td>\n",
       "      <td>7.43</td>\n",
       "    </tr>\n",
       "    <tr>\n",
       "      <th>2</th>\n",
       "      <td>Yes</td>\n",
       "      <td>15.19</td>\n",
       "    </tr>\n",
       "  </tbody>\n",
       "</table>\n",
       "</div>"
      ],
      "text/plain": [
       "           TechSupport  Churn\n",
       "0                   No  41.49\n",
       "1  No internet service   7.43\n",
       "2                  Yes  15.19"
      ]
     },
     "metadata": {},
     "output_type": "display_data"
    },
    {
     "name": "stdout",
     "output_type": "stream",
     "text": [
      "-> Maior Churn: 'No' com 41.49%\n",
      "\n",
      "**Churn Rate para StreamingTV:**\n"
     ]
    },
    {
     "data": {
      "text/html": [
       "<div>\n",
       "<style scoped>\n",
       "    .dataframe tbody tr th:only-of-type {\n",
       "        vertical-align: middle;\n",
       "    }\n",
       "\n",
       "    .dataframe tbody tr th {\n",
       "        vertical-align: top;\n",
       "    }\n",
       "\n",
       "    .dataframe thead th {\n",
       "        text-align: right;\n",
       "    }\n",
       "</style>\n",
       "<table border=\"1\" class=\"dataframe\">\n",
       "  <thead>\n",
       "    <tr style=\"text-align: right;\">\n",
       "      <th></th>\n",
       "      <th>StreamingTV</th>\n",
       "      <th>Churn</th>\n",
       "    </tr>\n",
       "  </thead>\n",
       "  <tbody>\n",
       "    <tr>\n",
       "      <th>0</th>\n",
       "      <td>No</td>\n",
       "      <td>33.20</td>\n",
       "    </tr>\n",
       "    <tr>\n",
       "      <th>1</th>\n",
       "      <td>No internet service</td>\n",
       "      <td>7.43</td>\n",
       "    </tr>\n",
       "    <tr>\n",
       "      <th>2</th>\n",
       "      <td>Yes</td>\n",
       "      <td>29.97</td>\n",
       "    </tr>\n",
       "  </tbody>\n",
       "</table>\n",
       "</div>"
      ],
      "text/plain": [
       "           StreamingTV  Churn\n",
       "0                   No  33.20\n",
       "1  No internet service   7.43\n",
       "2                  Yes  29.97"
      ]
     },
     "metadata": {},
     "output_type": "display_data"
    },
    {
     "name": "stdout",
     "output_type": "stream",
     "text": [
      "-> Maior Churn: 'No' com 33.2%\n",
      "\n",
      "**Churn Rate para StreamingMovies:**\n"
     ]
    },
    {
     "data": {
      "text/html": [
       "<div>\n",
       "<style scoped>\n",
       "    .dataframe tbody tr th:only-of-type {\n",
       "        vertical-align: middle;\n",
       "    }\n",
       "\n",
       "    .dataframe tbody tr th {\n",
       "        vertical-align: top;\n",
       "    }\n",
       "\n",
       "    .dataframe thead th {\n",
       "        text-align: right;\n",
       "    }\n",
       "</style>\n",
       "<table border=\"1\" class=\"dataframe\">\n",
       "  <thead>\n",
       "    <tr style=\"text-align: right;\">\n",
       "      <th></th>\n",
       "      <th>StreamingMovies</th>\n",
       "      <th>Churn</th>\n",
       "    </tr>\n",
       "  </thead>\n",
       "  <tbody>\n",
       "    <tr>\n",
       "      <th>0</th>\n",
       "      <td>No</td>\n",
       "      <td>33.41</td>\n",
       "    </tr>\n",
       "    <tr>\n",
       "      <th>1</th>\n",
       "      <td>No internet service</td>\n",
       "      <td>7.43</td>\n",
       "    </tr>\n",
       "    <tr>\n",
       "      <th>2</th>\n",
       "      <td>Yes</td>\n",
       "      <td>29.80</td>\n",
       "    </tr>\n",
       "  </tbody>\n",
       "</table>\n",
       "</div>"
      ],
      "text/plain": [
       "       StreamingMovies  Churn\n",
       "0                   No  33.41\n",
       "1  No internet service   7.43\n",
       "2                  Yes  29.80"
      ]
     },
     "metadata": {},
     "output_type": "display_data"
    },
    {
     "name": "stdout",
     "output_type": "stream",
     "text": [
      "-> Maior Churn: 'No' com 33.41%\n",
      "\n",
      "**Churn Rate para Contract:**\n"
     ]
    },
    {
     "data": {
      "text/html": [
       "<div>\n",
       "<style scoped>\n",
       "    .dataframe tbody tr th:only-of-type {\n",
       "        vertical-align: middle;\n",
       "    }\n",
       "\n",
       "    .dataframe tbody tr th {\n",
       "        vertical-align: top;\n",
       "    }\n",
       "\n",
       "    .dataframe thead th {\n",
       "        text-align: right;\n",
       "    }\n",
       "</style>\n",
       "<table border=\"1\" class=\"dataframe\">\n",
       "  <thead>\n",
       "    <tr style=\"text-align: right;\">\n",
       "      <th></th>\n",
       "      <th>Contract</th>\n",
       "      <th>Churn</th>\n",
       "    </tr>\n",
       "  </thead>\n",
       "  <tbody>\n",
       "    <tr>\n",
       "      <th>0</th>\n",
       "      <td>Month-to-month</td>\n",
       "      <td>42.55</td>\n",
       "    </tr>\n",
       "    <tr>\n",
       "      <th>1</th>\n",
       "      <td>One year</td>\n",
       "      <td>11.25</td>\n",
       "    </tr>\n",
       "    <tr>\n",
       "      <th>2</th>\n",
       "      <td>Two year</td>\n",
       "      <td>2.85</td>\n",
       "    </tr>\n",
       "  </tbody>\n",
       "</table>\n",
       "</div>"
      ],
      "text/plain": [
       "         Contract  Churn\n",
       "0  Month-to-month  42.55\n",
       "1        One year  11.25\n",
       "2        Two year   2.85"
      ]
     },
     "metadata": {},
     "output_type": "display_data"
    },
    {
     "name": "stdout",
     "output_type": "stream",
     "text": [
      "-> Maior Churn: 'Month-to-month' com 42.55%\n",
      "\n",
      "**Churn Rate para PaperlessBilling:**\n"
     ]
    },
    {
     "data": {
      "text/html": [
       "<div>\n",
       "<style scoped>\n",
       "    .dataframe tbody tr th:only-of-type {\n",
       "        vertical-align: middle;\n",
       "    }\n",
       "\n",
       "    .dataframe tbody tr th {\n",
       "        vertical-align: top;\n",
       "    }\n",
       "\n",
       "    .dataframe thead th {\n",
       "        text-align: right;\n",
       "    }\n",
       "</style>\n",
       "<table border=\"1\" class=\"dataframe\">\n",
       "  <thead>\n",
       "    <tr style=\"text-align: right;\">\n",
       "      <th></th>\n",
       "      <th>PaperlessBilling</th>\n",
       "      <th>Churn</th>\n",
       "    </tr>\n",
       "  </thead>\n",
       "  <tbody>\n",
       "    <tr>\n",
       "      <th>0</th>\n",
       "      <td>No</td>\n",
       "      <td>16.12</td>\n",
       "    </tr>\n",
       "    <tr>\n",
       "      <th>1</th>\n",
       "      <td>Yes</td>\n",
       "      <td>33.31</td>\n",
       "    </tr>\n",
       "  </tbody>\n",
       "</table>\n",
       "</div>"
      ],
      "text/plain": [
       "  PaperlessBilling  Churn\n",
       "0               No  16.12\n",
       "1              Yes  33.31"
      ]
     },
     "metadata": {},
     "output_type": "display_data"
    },
    {
     "name": "stdout",
     "output_type": "stream",
     "text": [
      "-> Maior Churn: 'Yes' com 33.31%\n",
      "\n",
      "**Churn Rate para PaymentMethod:**\n"
     ]
    },
    {
     "data": {
      "text/html": [
       "<div>\n",
       "<style scoped>\n",
       "    .dataframe tbody tr th:only-of-type {\n",
       "        vertical-align: middle;\n",
       "    }\n",
       "\n",
       "    .dataframe tbody tr th {\n",
       "        vertical-align: top;\n",
       "    }\n",
       "\n",
       "    .dataframe thead th {\n",
       "        text-align: right;\n",
       "    }\n",
       "</style>\n",
       "<table border=\"1\" class=\"dataframe\">\n",
       "  <thead>\n",
       "    <tr style=\"text-align: right;\">\n",
       "      <th></th>\n",
       "      <th>PaymentMethod</th>\n",
       "      <th>Churn</th>\n",
       "    </tr>\n",
       "  </thead>\n",
       "  <tbody>\n",
       "    <tr>\n",
       "      <th>0</th>\n",
       "      <td>Bank transfer (automatic)</td>\n",
       "      <td>16.63</td>\n",
       "    </tr>\n",
       "    <tr>\n",
       "      <th>1</th>\n",
       "      <td>Credit card (automatic)</td>\n",
       "      <td>15.29</td>\n",
       "    </tr>\n",
       "    <tr>\n",
       "      <th>2</th>\n",
       "      <td>Electronic check</td>\n",
       "      <td>44.88</td>\n",
       "    </tr>\n",
       "    <tr>\n",
       "      <th>3</th>\n",
       "      <td>Mailed check</td>\n",
       "      <td>18.90</td>\n",
       "    </tr>\n",
       "  </tbody>\n",
       "</table>\n",
       "</div>"
      ],
      "text/plain": [
       "               PaymentMethod  Churn\n",
       "0  Bank transfer (automatic)  16.63\n",
       "1    Credit card (automatic)  15.29\n",
       "2           Electronic check  44.88\n",
       "3               Mailed check  18.90"
      ]
     },
     "metadata": {},
     "output_type": "display_data"
    },
    {
     "name": "stdout",
     "output_type": "stream",
     "text": [
      "-> Maior Churn: 'Electronic check' com 44.88%\n",
      "\n",
      "**Churn Rate para gender:**\n"
     ]
    },
    {
     "data": {
      "text/html": [
       "<div>\n",
       "<style scoped>\n",
       "    .dataframe tbody tr th:only-of-type {\n",
       "        vertical-align: middle;\n",
       "    }\n",
       "\n",
       "    .dataframe tbody tr th {\n",
       "        vertical-align: top;\n",
       "    }\n",
       "\n",
       "    .dataframe thead th {\n",
       "        text-align: right;\n",
       "    }\n",
       "</style>\n",
       "<table border=\"1\" class=\"dataframe\">\n",
       "  <thead>\n",
       "    <tr style=\"text-align: right;\">\n",
       "      <th></th>\n",
       "      <th>gender</th>\n",
       "      <th>Churn</th>\n",
       "    </tr>\n",
       "  </thead>\n",
       "  <tbody>\n",
       "    <tr>\n",
       "      <th>0</th>\n",
       "      <td>Female</td>\n",
       "      <td>26.67</td>\n",
       "    </tr>\n",
       "    <tr>\n",
       "      <th>1</th>\n",
       "      <td>Male</td>\n",
       "      <td>25.95</td>\n",
       "    </tr>\n",
       "  </tbody>\n",
       "</table>\n",
       "</div>"
      ],
      "text/plain": [
       "   gender  Churn\n",
       "0  Female  26.67\n",
       "1    Male  25.95"
      ]
     },
     "metadata": {},
     "output_type": "display_data"
    },
    {
     "name": "stdout",
     "output_type": "stream",
     "text": [
      "-> Maior Churn: 'Female' com 26.67%\n",
      "\n",
      "**Churn Rate para Partner:**\n"
     ]
    },
    {
     "data": {
      "text/html": [
       "<div>\n",
       "<style scoped>\n",
       "    .dataframe tbody tr th:only-of-type {\n",
       "        vertical-align: middle;\n",
       "    }\n",
       "\n",
       "    .dataframe tbody tr th {\n",
       "        vertical-align: top;\n",
       "    }\n",
       "\n",
       "    .dataframe thead th {\n",
       "        text-align: right;\n",
       "    }\n",
       "</style>\n",
       "<table border=\"1\" class=\"dataframe\">\n",
       "  <thead>\n",
       "    <tr style=\"text-align: right;\">\n",
       "      <th></th>\n",
       "      <th>Partner</th>\n",
       "      <th>Churn</th>\n",
       "    </tr>\n",
       "  </thead>\n",
       "  <tbody>\n",
       "    <tr>\n",
       "      <th>0</th>\n",
       "      <td>No</td>\n",
       "      <td>32.67</td>\n",
       "    </tr>\n",
       "    <tr>\n",
       "      <th>1</th>\n",
       "      <td>Yes</td>\n",
       "      <td>19.57</td>\n",
       "    </tr>\n",
       "  </tbody>\n",
       "</table>\n",
       "</div>"
      ],
      "text/plain": [
       "  Partner  Churn\n",
       "0      No  32.67\n",
       "1     Yes  19.57"
      ]
     },
     "metadata": {},
     "output_type": "display_data"
    },
    {
     "name": "stdout",
     "output_type": "stream",
     "text": [
      "-> Maior Churn: 'No' com 32.67%\n",
      "\n",
      "**Churn Rate para Dependents:**\n"
     ]
    },
    {
     "data": {
      "text/html": [
       "<div>\n",
       "<style scoped>\n",
       "    .dataframe tbody tr th:only-of-type {\n",
       "        vertical-align: middle;\n",
       "    }\n",
       "\n",
       "    .dataframe tbody tr th {\n",
       "        vertical-align: top;\n",
       "    }\n",
       "\n",
       "    .dataframe thead th {\n",
       "        text-align: right;\n",
       "    }\n",
       "</style>\n",
       "<table border=\"1\" class=\"dataframe\">\n",
       "  <thead>\n",
       "    <tr style=\"text-align: right;\">\n",
       "      <th></th>\n",
       "      <th>Dependents</th>\n",
       "      <th>Churn</th>\n",
       "    </tr>\n",
       "  </thead>\n",
       "  <tbody>\n",
       "    <tr>\n",
       "      <th>0</th>\n",
       "      <td>No</td>\n",
       "      <td>30.94</td>\n",
       "    </tr>\n",
       "    <tr>\n",
       "      <th>1</th>\n",
       "      <td>Yes</td>\n",
       "      <td>15.50</td>\n",
       "    </tr>\n",
       "  </tbody>\n",
       "</table>\n",
       "</div>"
      ],
      "text/plain": [
       "  Dependents  Churn\n",
       "0         No  30.94\n",
       "1        Yes  15.50"
      ]
     },
     "metadata": {},
     "output_type": "display_data"
    },
    {
     "name": "stdout",
     "output_type": "stream",
     "text": [
      "-> Maior Churn: 'No' com 30.94%\n"
     ]
    }
   ],
   "source": [
    "def calculate_churn_rate(df, column):\n",
    "    return (df.groupby(column)['churn_bin']\n",
    "            .mean()\n",
    "            .mul(100)\n",
    "            .round(2)\n",
    "            .reset_index()\n",
    "            .rename(columns={'churn_bin': 'Churn'}))\n",
    "\n",
    "for col in cat_cols:\n",
    "    print(f\"\\n**Churn Rate para {col}:**\")\n",
    "    churn_df = calculate_churn_rate(df_limpo, col)\n",
    "    display(churn_df)\n",
    "    \n",
    "    max_churn = churn_df.loc[churn_df['Churn'].idxmax()]\n",
    "    print(f\"-> Maior Churn: '{max_churn[col]}' com {max_churn['Churn']}%\")"
   ]
  },
  {
   "cell_type": "markdown",
   "id": "dcdb22fc",
   "metadata": {},
   "source": [
    "## Análise do NPS"
   ]
  },
  {
   "cell_type": "markdown",
   "id": "68fd7ac5",
   "metadata": {},
   "source": [
    "Nesta seção são analisados o NPS "
   ]
  },
  {
   "cell_type": "code",
   "execution_count": 184,
   "id": "a8d25ba9",
   "metadata": {},
   "outputs": [
    {
     "data": {
      "text/plain": [
       "count    6945.000000\n",
       "mean        7.193233\n",
       "std         2.631471\n",
       "min         1.000000\n",
       "25%         5.000000\n",
       "50%         8.000000\n",
       "75%         9.000000\n",
       "max        10.000000\n",
       "Name: NPS, dtype: float64"
      ]
     },
     "execution_count": 184,
     "metadata": {},
     "output_type": "execute_result"
    }
   ],
   "source": [
    "df_limpo['NPS'].describe()"
   ]
  },
  {
   "cell_type": "code",
   "execution_count": 226,
   "id": "b1a49386",
   "metadata": {},
   "outputs": [],
   "source": [
    "# Função para Classificar o NPS\n",
    "def classica_nps(score):\n",
    "    if score >= 9:\n",
    "        return 'Promotor'\n",
    "    elif score <=  6:\n",
    "        return 'Detrator'\n",
    "    else:\n",
    "        return 'Neutro'"
   ]
  },
  {
   "cell_type": "code",
   "execution_count": 227,
   "id": "14258e1d",
   "metadata": {},
   "outputs": [
    {
     "name": "stdout",
     "output_type": "stream",
     "text": [
      "Categorias_NPS\n",
      "Promotor    2997\n",
      "Detrator    2394\n",
      "Neutro      1554\n",
      "Name: count, dtype: int64\n",
      "8.68\n"
     ]
    }
   ],
   "source": [
    "df_limpo['Categorias_NPS'] = df_limpo['NPS'].apply(classica_nps)\n",
    "\n",
    "counts = df_limpo['Categorias_NPS'].value_counts()\n",
    "\n",
    "print(counts)\n",
    "\n",
    "\n",
    "promotores = (counts.get('Promotor', 0) / len(df_limpo))*100\n",
    "detratores = (counts.get('Detrator', 0) / len(df_limpo))*100\n",
    "\n",
    "nps = promotores - detratores\n",
    "print(round(nps,2))"
   ]
  },
  {
   "cell_type": "code",
   "execution_count": 224,
   "id": "32afcae8",
   "metadata": {},
   "outputs": [
    {
     "name": "stdout",
     "output_type": "stream",
     "text": [
      "\n",
      "--- Distribuição NPS ---\n",
      "Promotores (9-10): 2997 clientes (43.2%)\n",
      "Neutros (7-8): 1554 clientes (22.4%)\n",
      "Detratores (1-6): 2394 clientes (34.5%)\n",
      "\n",
      ">>> NPS Total: 8.7 <<<\n"
     ]
    }
   ],
   "source": [
    "print(\"\\n--- Distribuição NPS ---\")\n",
    "print(f\"Promotores (9-10): {counts.get('Promotor', 0)} clientes ({promotores:.1f}%)\")\n",
    "print(f\"Neutros (7-8): {counts.get('Neutro', 0)} clientes ({counts.get('Neutro', 0) / len(df_limpo) * 100:.1f}%)\")\n",
    "print(f\"Detratores (1-6): {counts.get('Detrator', 0)} clientes ({detratores:.1f}%)\")\n",
    "print(f\"\\n>>> NPS Total: {nps:.1f} <<<\")"
   ]
  },
  {
   "cell_type": "markdown",
   "id": "d427bd1a",
   "metadata": {},
   "source": [
    "Podemos notar que apesar de termos mais clientes do tipo **Promotores** e representam 43% , ainda há muito cliente do tipo **Detratores**o que reduiz o NPS total. Indicando um problema de insatisfação com os serviços prestados por parte da empresa. Então, faz-se necessário aprofundar nas causas destas  "
   ]
  },
  {
   "cell_type": "code",
   "execution_count": 205,
   "id": "c518aa4a",
   "metadata": {},
   "outputs": [
    {
     "data": {
      "image/png": "[encoded data removed]",
      "text/plain": [
       "<Figure size 640x480 with 1 Axes>"
      ]
     },
     "metadata": {},
     "output_type": "display_data"
    }
   ],
   "source": [
    "counts.plot(kind='bar', color=['green', 'red', 'blue']) #, color=['green', 'red', 'blue']\n",
    "plt.title('Distribuição de Clientes por Categoria NPS')\n",
    "plt.ylabel('Número de Clientes')\n",
    "plt.show()"
   ]
  },
  {
   "cell_type": "code",
   "execution_count": null,
   "id": "8b4f258f",
   "metadata": {},
   "outputs": [
    {
     "data": {
      "image/png": "[encoded data removed]",
      "text/plain": [
       "<Figure size 640x480 with 1 Axes>"
      ]
     },
     "metadata": {},
     "output_type": "display_data"
    }
   ],
   "source": [
    "#sns.histplot(data=df_limpo, x='NPS', bins=10, kde=True)\n",
    "#plt.title('Distribuição do NPS')\n",
    "#plt.show()"
   ]
  },
  {
   "cell_type": "code",
   "execution_count": 229,
   "id": "7c5871a5",
   "metadata": {},
   "outputs": [
    {
     "data": {
      "image/png": "[encoded data removed]",
      "text/plain": [
       "<Figure size 640x480 with 1 Axes>"
      ]
     },
     "metadata": {},
     "output_type": "display_data"
    },
    {
     "data": {
      "image/png": "[encoded data removed]",
      "text/plain": [
       "<Figure size 640x480 with 1 Axes>"
      ]
     },
     "metadata": {},
     "output_type": "display_data"
    },
    {
     "data": {
      "image/png": "[encoded data removed]",
      "text/plain": [
       "<Figure size 640x480 with 1 Axes>"
      ]
     },
     "metadata": {},
     "output_type": "display_data"
    }
   ],
   "source": [
    "nome_cols = ['TechSupport','PhoneService', 'Contract' ]\n",
    "\n",
    "for col in nome_cols:\n",
    "    sns.boxplot(data=df_limpo, x=col, y='NPS')\n",
    "    plt.title(f\"{col} por grupo de  NPS\")\n",
    "    plt.show()"
   ]
  },
  {
   "cell_type": "code",
   "execution_count": null,
   "id": "279da24e",
   "metadata": {},
   "outputs": [
    {
     "name": "stdout",
     "output_type": "stream",
     "text": [
      "NPS Agregado: 8.68\n"
     ]
    }
   ],
   "source": [
    "nps_score = (df_limpo[df_limpo['NPS'] >= 9].shape[0] / df_limpo.shape[0] * 100) - (df_limpo[df_limpo['NPS'] <= 6].shape[0] / df_limpo.shape[0] * 100)\n",
    "print(f\"NPS Agregado: {nps_score:.2f}\")"
   ]
  },
  {
   "cell_type": "code",
   "execution_count": 199,
   "id": "6c4bc4d8",
   "metadata": {},
   "outputs": [
    {
     "data": {
      "text/plain": [
       "<Axes: xlabel='Churn', ylabel='TotalServicosContratados'>"
      ]
     },
     "execution_count": 199,
     "metadata": {},
     "output_type": "execute_result"
    },
    {
     "data": {
      "image/png": "[encoded data removed]",
      "text/plain": [
       "<Figure size 640x480 with 1 Axes>"
      ]
     },
     "metadata": {},
     "output_type": "display_data"
    }
   ],
   "source": [
    "sns.boxplot(data=df_limpo, x='Churn', y='TotalServicosContratados')\n"
   ]
  },
  {
   "cell_type": "code",
   "execution_count": 200,
   "id": "2dbd8be7",
   "metadata": {},
   "outputs": [
    {
     "data": {
      "text/plain": [
       "<Axes: xlabel='TotalServicosContratados', ylabel='NPS'>"
      ]
     },
     "execution_count": 200,
     "metadata": {},
     "output_type": "execute_result"
    },
    {
     "data": {
      "image/png": "[encoded data removed]",
      "text/plain": [
       "<Figure size 640x480 with 1 Axes>"
      ]
     },
     "metadata": {},
     "output_type": "display_data"
    }
   ],
   "source": [
    "sns.barplot(data=df_limpo, x='TotalServicosContratados', y='NPS')\n"
   ]
  },
  {
   "cell_type": "code",
   "execution_count": 201,
   "id": "4963ab72",
   "metadata": {},
   "outputs": [
    {
     "data": {
      "image/png": "[encoded data removed]",
      "text/plain": [
       "<Figure size 800x600 with 2 Axes>"
      ]
     },
     "metadata": {},
     "output_type": "display_data"
    }
   ],
   "source": [
    "# Selecionar variáveis numéricas\n",
    "numerical_vars = ['NPS', 'tenure', 'MonthlyCharges', 'TotalCharges']\n",
    "correlation_matrix = df_limpo[numerical_vars].corr()\n",
    "\n",
    "# Heatmap de correlação\n",
    "plt.figure(figsize=(8, 6))\n",
    "sns.heatmap(correlation_matrix, annot=True, cmap='coolwarm', center=0)\n",
    "plt.title('Correlação entre NPS e Variáveis Numéricas')\n",
    "plt.show()"
   ]
  },
  {
   "cell_type": "markdown",
   "id": "8b0a39c2",
   "metadata": {},
   "source": [
    "A análise da matriz de correlação entre o NPS e as variáveis numéricas do conjunto de dados revela algumas relações importantes. O primeiro ponto a destacar é a correlação positiva moderada entre o NPS e o tempo de permanência (tenure), com valor de 0,64. Isso sugere que clientes com mais tempo de relacionamento tendem a apresentar maiores índices de satisfação, reforçando a importância da retenção de longo prazo para a melhoria do NPS.\n",
    "\n",
    "Por outro lado, observa-se uma correlação negativa (-0,37) entre o NPS e os gastos mensais (MonthlyCharges). Esse resultado indica que clientes com cobranças mensais mais elevadas tendem a demonstrar menor satisfação, o que está alinhado com o alto **Churn** visto nesta região na análise anterior. Já o total gasto (TotalCharges) apresenta uma correlação positiva fraca (0,36), com o NPS, sinalizando que o acúmulo de gastos ao longo do tempo não reduz a satisfação. \n",
    "\n",
    "Além disso, é relevante notar a forte correlação entre algumas variáveis explicativas, como tenure e TotalCharges (0,82), reflexo natural de que o tempo de permanência impacta diretamente no valor acumulado\n",
    "\n",
    " Essa evidência sugere que estratégias voltadas à retenção de clientes e ao equilíbrio nos planos de cobrança podem ser determinantes para a melhoria do NPS."
   ]
  }
 ],
 "metadata": {
  "kernelspec": {
   "display_name": "venv",
   "language": "python",
   "name": "python3"
  },
  "language_info": {
   "codemirror_mode": {
    "name": "ipython",
    "version": 3
   },
   "file_extension": ".py",
   "mimetype": "text/x-python",
   "name": "python",
   "nbconvert_exporter": "python",
   "pygments_lexer": "ipython3",
   "version": "3.12.3"
  }
 },
 "nbformat": 4,
 "nbformat_minor": 5
}
