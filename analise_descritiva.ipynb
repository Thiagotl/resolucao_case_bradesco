{
 "cells": [
  {
   "cell_type": "markdown",
   "id": "b164aac3",
   "metadata": {},
   "source": [
    "## Análise exploratória dos dados"
   ]
  },
  {
   "cell_type": "markdown",
   "id": "ac10e759",
   "metadata": {
    "vscode": {
     "languageId": "latex"
    }
   },
   "source": [
    "No primeiro momento, foi realizado uma análise exploratória dos dadaset afim de verificar possíveis inconsistências nos dados."
   ]
  },
  {
   "cell_type": "code",
   "execution_count": 297,
   "id": "780e7e88",
   "metadata": {},
   "outputs": [],
   "source": [
    "# Bibliotecas\n",
    "import numpy as np\n",
    "import pandas as pd\n",
    "import seaborn as sns\n",
    "import matplotlib.pyplot as plt\n",
    "from scipy import stats\n"
   ]
  },
  {
   "cell_type": "code",
   "execution_count": 298,
   "id": "ae0e9b75",
   "metadata": {},
   "outputs": [],
   "source": [
    "# Dados\n",
    "# customer original\n",
    "df_customer = pd.read_csv(\"dados/customer_original.csv\")\n",
    "\n",
    "# customer nps\n",
    "df_nps = pd.read_csv(\"dados/customer_nps.csv\")\n",
    "\n",
    "# sutomer social\n",
    "df_social = pd.read_csv(\"dados/customer_social.csv\")\n",
    "\n"
   ]
  },
  {
   "cell_type": "code",
   "execution_count": 299,
   "id": "2681edd9",
   "metadata": {},
   "outputs": [
    {
     "data": {
      "text/html": [
       "<div>\n",
       "<style scoped>\n",
       "    .dataframe tbody tr th:only-of-type {\n",
       "        vertical-align: middle;\n",
       "    }\n",
       "\n",
       "    .dataframe tbody tr th {\n",
       "        vertical-align: top;\n",
       "    }\n",
       "\n",
       "    .dataframe thead th {\n",
       "        text-align: right;\n",
       "    }\n",
       "</style>\n",
       "<table border=\"1\" class=\"dataframe\">\n",
       "  <thead>\n",
       "    <tr style=\"text-align: right;\">\n",
       "      <th></th>\n",
       "      <th>tenure</th>\n",
       "      <th>PhoneService</th>\n",
       "      <th>MultipleLines</th>\n",
       "      <th>InternetService</th>\n",
       "      <th>OnlineSecurity</th>\n",
       "      <th>OnlineBackup</th>\n",
       "      <th>DeviceProtection</th>\n",
       "      <th>TechSupport</th>\n",
       "      <th>StreamingTV</th>\n",
       "      <th>StreamingMovies</th>\n",
       "      <th>Contract</th>\n",
       "      <th>PaperlessBilling</th>\n",
       "      <th>PaymentMethod</th>\n",
       "      <th>MonthlyCharges</th>\n",
       "      <th>TotalCharges</th>\n",
       "      <th>Churn</th>\n",
       "      <th>cpf</th>\n",
       "    </tr>\n",
       "  </thead>\n",
       "  <tbody>\n",
       "    <tr>\n",
       "      <th>0</th>\n",
       "      <td>72</td>\n",
       "      <td>Yes</td>\n",
       "      <td>Yes</td>\n",
       "      <td>Fiber optic</td>\n",
       "      <td>Yes</td>\n",
       "      <td>Yes</td>\n",
       "      <td>Yes</td>\n",
       "      <td>Yes</td>\n",
       "      <td>Yes</td>\n",
       "      <td>Yes</td>\n",
       "      <td>Two year</td>\n",
       "      <td>Yes</td>\n",
       "      <td>Bank transfer (automatic)</td>\n",
       "      <td>118.75</td>\n",
       "      <td>8672.45</td>\n",
       "      <td>No</td>\n",
       "      <td>104.332.181-00</td>\n",
       "    </tr>\n",
       "    <tr>\n",
       "      <th>1</th>\n",
       "      <td>71</td>\n",
       "      <td>Yes</td>\n",
       "      <td>Yes</td>\n",
       "      <td>Fiber optic</td>\n",
       "      <td>Yes</td>\n",
       "      <td>Yes</td>\n",
       "      <td>Yes</td>\n",
       "      <td>Yes</td>\n",
       "      <td>Yes</td>\n",
       "      <td>Yes</td>\n",
       "      <td>Two year</td>\n",
       "      <td>Yes</td>\n",
       "      <td>Electronic check</td>\n",
       "      <td>118.65</td>\n",
       "      <td>8477.60</td>\n",
       "      <td>No</td>\n",
       "      <td>960.013.389-14</td>\n",
       "    </tr>\n",
       "    <tr>\n",
       "      <th>2</th>\n",
       "      <td>68</td>\n",
       "      <td>Yes</td>\n",
       "      <td>Yes</td>\n",
       "      <td>Fiber optic</td>\n",
       "      <td>Yes</td>\n",
       "      <td>Yes</td>\n",
       "      <td>Yes</td>\n",
       "      <td>Yes</td>\n",
       "      <td>Yes</td>\n",
       "      <td>Yes</td>\n",
       "      <td>Two year</td>\n",
       "      <td>No</td>\n",
       "      <td>Mailed check</td>\n",
       "      <td>118.60</td>\n",
       "      <td>7990.05</td>\n",
       "      <td>No</td>\n",
       "      <td>083.863.794-99</td>\n",
       "    </tr>\n",
       "    <tr>\n",
       "      <th>3</th>\n",
       "      <td>61</td>\n",
       "      <td>Yes</td>\n",
       "      <td>Yes</td>\n",
       "      <td>Fiber optic</td>\n",
       "      <td>Yes</td>\n",
       "      <td>Yes</td>\n",
       "      <td>Yes</td>\n",
       "      <td>Yes</td>\n",
       "      <td>Yes</td>\n",
       "      <td>Yes</td>\n",
       "      <td>One year</td>\n",
       "      <td>Yes</td>\n",
       "      <td>Electronic check</td>\n",
       "      <td>118.60</td>\n",
       "      <td>7365.70</td>\n",
       "      <td>No</td>\n",
       "      <td>026.542.351-14</td>\n",
       "    </tr>\n",
       "    <tr>\n",
       "      <th>4</th>\n",
       "      <td>67</td>\n",
       "      <td>Yes</td>\n",
       "      <td>Yes</td>\n",
       "      <td>Fiber optic</td>\n",
       "      <td>Yes</td>\n",
       "      <td>Yes</td>\n",
       "      <td>Yes</td>\n",
       "      <td>Yes</td>\n",
       "      <td>Yes</td>\n",
       "      <td>Yes</td>\n",
       "      <td>One year</td>\n",
       "      <td>Yes</td>\n",
       "      <td>Bank transfer (automatic)</td>\n",
       "      <td>118.35</td>\n",
       "      <td>7804.15</td>\n",
       "      <td>Yes</td>\n",
       "      <td>161.559.407-89</td>\n",
       "    </tr>\n",
       "    <tr>\n",
       "      <th>5</th>\n",
       "      <td>72</td>\n",
       "      <td>Yes</td>\n",
       "      <td>Yes</td>\n",
       "      <td>Fiber optic</td>\n",
       "      <td>Yes</td>\n",
       "      <td>Yes</td>\n",
       "      <td>Yes</td>\n",
       "      <td>Yes</td>\n",
       "      <td>Yes</td>\n",
       "      <td>Yes</td>\n",
       "      <td>Two year</td>\n",
       "      <td>Yes</td>\n",
       "      <td>Electronic check</td>\n",
       "      <td>118.20</td>\n",
       "      <td>8547.15</td>\n",
       "      <td>No</td>\n",
       "      <td>816.184.959-50</td>\n",
       "    </tr>\n",
       "    <tr>\n",
       "      <th>6</th>\n",
       "      <td>72</td>\n",
       "      <td>Yes</td>\n",
       "      <td>Yes</td>\n",
       "      <td>Fiber optic</td>\n",
       "      <td>Yes</td>\n",
       "      <td>Yes</td>\n",
       "      <td>Yes</td>\n",
       "      <td>Yes</td>\n",
       "      <td>Yes</td>\n",
       "      <td>Yes</td>\n",
       "      <td>One year</td>\n",
       "      <td>Yes</td>\n",
       "      <td>Bank transfer (automatic)</td>\n",
       "      <td>117.80</td>\n",
       "      <td>8684.80</td>\n",
       "      <td>Yes</td>\n",
       "      <td>310.341.316-56</td>\n",
       "    </tr>\n",
       "    <tr>\n",
       "      <th>7</th>\n",
       "      <td>72</td>\n",
       "      <td>Yes</td>\n",
       "      <td>Yes</td>\n",
       "      <td>Fiber optic</td>\n",
       "      <td>Yes</td>\n",
       "      <td>Yes</td>\n",
       "      <td>Yes</td>\n",
       "      <td>Yes</td>\n",
       "      <td>Yes</td>\n",
       "      <td>Yes</td>\n",
       "      <td>Two year</td>\n",
       "      <td>Yes</td>\n",
       "      <td>Bank transfer (automatic)</td>\n",
       "      <td>117.60</td>\n",
       "      <td>8308.90</td>\n",
       "      <td>No</td>\n",
       "      <td>475.255.341-44</td>\n",
       "    </tr>\n",
       "    <tr>\n",
       "      <th>8</th>\n",
       "      <td>72</td>\n",
       "      <td>Yes</td>\n",
       "      <td>Yes</td>\n",
       "      <td>Fiber optic</td>\n",
       "      <td>Yes</td>\n",
       "      <td>Yes</td>\n",
       "      <td>Yes</td>\n",
       "      <td>Yes</td>\n",
       "      <td>Yes</td>\n",
       "      <td>Yes</td>\n",
       "      <td>Two year</td>\n",
       "      <td>No</td>\n",
       "      <td>Credit card (automatic)</td>\n",
       "      <td>117.50</td>\n",
       "      <td>8670.10</td>\n",
       "      <td>No</td>\n",
       "      <td>928.327.648-51</td>\n",
       "    </tr>\n",
       "    <tr>\n",
       "      <th>9</th>\n",
       "      <td>48</td>\n",
       "      <td>Yes</td>\n",
       "      <td>Yes</td>\n",
       "      <td>Fiber optic</td>\n",
       "      <td>Yes</td>\n",
       "      <td>Yes</td>\n",
       "      <td>Yes</td>\n",
       "      <td>Yes</td>\n",
       "      <td>Yes</td>\n",
       "      <td>Yes</td>\n",
       "      <td>Month-to-month</td>\n",
       "      <td>No</td>\n",
       "      <td>Electronic check</td>\n",
       "      <td>117.45</td>\n",
       "      <td>5438.90</td>\n",
       "      <td>Yes</td>\n",
       "      <td>350.305.641-60</td>\n",
       "    </tr>\n",
       "    <tr>\n",
       "      <th>10</th>\n",
       "      <td>72</td>\n",
       "      <td>Yes</td>\n",
       "      <td>Yes</td>\n",
       "      <td>Fiber optic</td>\n",
       "      <td>Yes</td>\n",
       "      <td>Yes</td>\n",
       "      <td>Yes</td>\n",
       "      <td>Yes</td>\n",
       "      <td>Yes</td>\n",
       "      <td>Yes</td>\n",
       "      <td>Two year</td>\n",
       "      <td>Yes</td>\n",
       "      <td>Credit card (automatic)</td>\n",
       "      <td>117.35</td>\n",
       "      <td>8436.25</td>\n",
       "      <td>No</td>\n",
       "      <td>395.376.724-09</td>\n",
       "    </tr>\n",
       "    <tr>\n",
       "      <th>11</th>\n",
       "      <td>68</td>\n",
       "      <td>Yes</td>\n",
       "      <td>Yes</td>\n",
       "      <td>Fiber optic</td>\n",
       "      <td>Yes</td>\n",
       "      <td>Yes</td>\n",
       "      <td>Yes</td>\n",
       "      <td>Yes</td>\n",
       "      <td>Yes</td>\n",
       "      <td>Yes</td>\n",
       "      <td>One year</td>\n",
       "      <td>Yes</td>\n",
       "      <td>Credit card (automatic)</td>\n",
       "      <td>117.20</td>\n",
       "      <td>8035.95</td>\n",
       "      <td>No</td>\n",
       "      <td>238.849.696-92</td>\n",
       "    </tr>\n",
       "    <tr>\n",
       "      <th>12</th>\n",
       "      <td>72</td>\n",
       "      <td>Yes</td>\n",
       "      <td>Yes</td>\n",
       "      <td>Fiber optic</td>\n",
       "      <td>Yes</td>\n",
       "      <td>Yes</td>\n",
       "      <td>Yes</td>\n",
       "      <td>Yes</td>\n",
       "      <td>Yes</td>\n",
       "      <td>Yes</td>\n",
       "      <td>Two year</td>\n",
       "      <td>Yes</td>\n",
       "      <td>Credit card (automatic)</td>\n",
       "      <td>117.15</td>\n",
       "      <td>8529.50</td>\n",
       "      <td>No</td>\n",
       "      <td>532.871.012-69</td>\n",
       "    </tr>\n",
       "    <tr>\n",
       "      <th>13</th>\n",
       "      <td>72</td>\n",
       "      <td>Yes</td>\n",
       "      <td>Yes</td>\n",
       "      <td>Fiber optic</td>\n",
       "      <td>Yes</td>\n",
       "      <td>Yes</td>\n",
       "      <td>Yes</td>\n",
       "      <td>Yes</td>\n",
       "      <td>Yes</td>\n",
       "      <td>Yes</td>\n",
       "      <td>Two year</td>\n",
       "      <td>Yes</td>\n",
       "      <td>Credit card (automatic)</td>\n",
       "      <td>116.95</td>\n",
       "      <td>8594.40</td>\n",
       "      <td>No</td>\n",
       "      <td>269.166.978-57</td>\n",
       "    </tr>\n",
       "    <tr>\n",
       "      <th>14</th>\n",
       "      <td>72</td>\n",
       "      <td>Yes</td>\n",
       "      <td>Yes</td>\n",
       "      <td>Fiber optic</td>\n",
       "      <td>Yes</td>\n",
       "      <td>Yes</td>\n",
       "      <td>Yes</td>\n",
       "      <td>Yes</td>\n",
       "      <td>Yes</td>\n",
       "      <td>Yes</td>\n",
       "      <td>Two year</td>\n",
       "      <td>Yes</td>\n",
       "      <td>Bank transfer (automatic)</td>\n",
       "      <td>116.85</td>\n",
       "      <td>8477.70</td>\n",
       "      <td>No</td>\n",
       "      <td>480.184.514-27</td>\n",
       "    </tr>\n",
       "  </tbody>\n",
       "</table>\n",
       "</div>"
      ],
      "text/plain": [
       "    tenure PhoneService MultipleLines InternetService OnlineSecurity  \\\n",
       "0       72          Yes           Yes     Fiber optic            Yes   \n",
       "1       71          Yes           Yes     Fiber optic            Yes   \n",
       "2       68          Yes           Yes     Fiber optic            Yes   \n",
       "3       61          Yes           Yes     Fiber optic            Yes   \n",
       "4       67          Yes           Yes     Fiber optic            Yes   \n",
       "5       72          Yes           Yes     Fiber optic            Yes   \n",
       "6       72          Yes           Yes     Fiber optic            Yes   \n",
       "7       72          Yes           Yes     Fiber optic            Yes   \n",
       "8       72          Yes           Yes     Fiber optic            Yes   \n",
       "9       48          Yes           Yes     Fiber optic            Yes   \n",
       "10      72          Yes           Yes     Fiber optic            Yes   \n",
       "11      68          Yes           Yes     Fiber optic            Yes   \n",
       "12      72          Yes           Yes     Fiber optic            Yes   \n",
       "13      72          Yes           Yes     Fiber optic            Yes   \n",
       "14      72          Yes           Yes     Fiber optic            Yes   \n",
       "\n",
       "   OnlineBackup DeviceProtection TechSupport StreamingTV StreamingMovies  \\\n",
       "0           Yes              Yes         Yes         Yes             Yes   \n",
       "1           Yes              Yes         Yes         Yes             Yes   \n",
       "2           Yes              Yes         Yes         Yes             Yes   \n",
       "3           Yes              Yes         Yes         Yes             Yes   \n",
       "4           Yes              Yes         Yes         Yes             Yes   \n",
       "5           Yes              Yes         Yes         Yes             Yes   \n",
       "6           Yes              Yes         Yes         Yes             Yes   \n",
       "7           Yes              Yes         Yes         Yes             Yes   \n",
       "8           Yes              Yes         Yes         Yes             Yes   \n",
       "9           Yes              Yes         Yes         Yes             Yes   \n",
       "10          Yes              Yes         Yes         Yes             Yes   \n",
       "11          Yes              Yes         Yes         Yes             Yes   \n",
       "12          Yes              Yes         Yes         Yes             Yes   \n",
       "13          Yes              Yes         Yes         Yes             Yes   \n",
       "14          Yes              Yes         Yes         Yes             Yes   \n",
       "\n",
       "          Contract PaperlessBilling              PaymentMethod  \\\n",
       "0         Two year              Yes  Bank transfer (automatic)   \n",
       "1         Two year              Yes           Electronic check   \n",
       "2         Two year               No               Mailed check   \n",
       "3         One year              Yes           Electronic check   \n",
       "4         One year              Yes  Bank transfer (automatic)   \n",
       "5         Two year              Yes           Electronic check   \n",
       "6         One year              Yes  Bank transfer (automatic)   \n",
       "7         Two year              Yes  Bank transfer (automatic)   \n",
       "8         Two year               No    Credit card (automatic)   \n",
       "9   Month-to-month               No           Electronic check   \n",
       "10        Two year              Yes    Credit card (automatic)   \n",
       "11        One year              Yes    Credit card (automatic)   \n",
       "12        Two year              Yes    Credit card (automatic)   \n",
       "13        Two year              Yes    Credit card (automatic)   \n",
       "14        Two year              Yes  Bank transfer (automatic)   \n",
       "\n",
       "    MonthlyCharges  TotalCharges Churn             cpf  \n",
       "0           118.75       8672.45    No  104.332.181-00  \n",
       "1           118.65       8477.60    No  960.013.389-14  \n",
       "2           118.60       7990.05    No  083.863.794-99  \n",
       "3           118.60       7365.70    No  026.542.351-14  \n",
       "4           118.35       7804.15   Yes  161.559.407-89  \n",
       "5           118.20       8547.15    No  816.184.959-50  \n",
       "6           117.80       8684.80   Yes  310.341.316-56  \n",
       "7           117.60       8308.90    No  475.255.341-44  \n",
       "8           117.50       8670.10    No  928.327.648-51  \n",
       "9           117.45       5438.90   Yes  350.305.641-60  \n",
       "10          117.35       8436.25    No  395.376.724-09  \n",
       "11          117.20       8035.95    No  238.849.696-92  \n",
       "12          117.15       8529.50    No  532.871.012-69  \n",
       "13          116.95       8594.40    No  269.166.978-57  \n",
       "14          116.85       8477.70    No  480.184.514-27  "
      ]
     },
     "execution_count": 299,
     "metadata": {},
     "output_type": "execute_result"
    }
   ],
   "source": [
    "df_customer.head(15)"
   ]
  },
  {
   "cell_type": "code",
   "execution_count": 300,
   "id": "844b59e6",
   "metadata": {},
   "outputs": [
    {
     "name": "stdout",
     "output_type": "stream",
     "text": [
      "<class 'pandas.core.frame.DataFrame'>\n",
      "RangeIndex: 7234 entries, 0 to 7233\n",
      "Data columns (total 17 columns):\n",
      " #   Column            Non-Null Count  Dtype  \n",
      "---  ------            --------------  -----  \n",
      " 0   tenure            7234 non-null   int64  \n",
      " 1   PhoneService      7234 non-null   object \n",
      " 2   MultipleLines     7234 non-null   object \n",
      " 3   InternetService   7234 non-null   object \n",
      " 4   OnlineSecurity    7234 non-null   object \n",
      " 5   OnlineBackup      7234 non-null   object \n",
      " 6   DeviceProtection  7234 non-null   object \n",
      " 7   TechSupport       7234 non-null   object \n",
      " 8   StreamingTV       7234 non-null   object \n",
      " 9   StreamingMovies   7234 non-null   object \n",
      " 10  Contract          7234 non-null   object \n",
      " 11  PaperlessBilling  7234 non-null   object \n",
      " 12  PaymentMethod     7234 non-null   object \n",
      " 13  MonthlyCharges    7234 non-null   float64\n",
      " 14  TotalCharges      7234 non-null   float64\n",
      " 15  Churn             7234 non-null   object \n",
      " 16  cpf               7234 non-null   object \n",
      "dtypes: float64(2), int64(1), object(14)\n",
      "memory usage: 960.9+ KB\n"
     ]
    }
   ],
   "source": [
    "df_customer.info()"
   ]
  },
  {
   "cell_type": "code",
   "execution_count": 301,
   "id": "74def858",
   "metadata": {},
   "outputs": [
    {
     "name": "stdout",
     "output_type": "stream",
     "text": [
      "Duplicatas completas: 168\n"
     ]
    }
   ],
   "source": [
    "print(f\"Duplicatas completas: {df_customer.duplicated().sum()}\")"
   ]
  },
  {
   "cell_type": "code",
   "execution_count": 302,
   "id": "69b030f7",
   "metadata": {},
   "outputs": [
    {
     "data": {
      "text/plain": [
       "False    7066\n",
       "True      168\n",
       "Name: count, dtype: int64"
      ]
     },
     "execution_count": 302,
     "metadata": {},
     "output_type": "execute_result"
    }
   ],
   "source": [
    "df_customer.duplicated().value_counts()"
   ]
  },
  {
   "cell_type": "code",
   "execution_count": 303,
   "id": "b1c007a7",
   "metadata": {},
   "outputs": [],
   "source": [
    "# Limpando os CPFs \n",
    "df_customer['cpf'] = df_customer['cpf'].str.replace(r'\\D', '', regex=True)\n"
   ]
  },
  {
   "cell_type": "code",
   "execution_count": 304,
   "id": "aa5bc648",
   "metadata": {},
   "outputs": [
    {
     "data": {
      "text/html": [
       "<div>\n",
       "<style scoped>\n",
       "    .dataframe tbody tr th:only-of-type {\n",
       "        vertical-align: middle;\n",
       "    }\n",
       "\n",
       "    .dataframe tbody tr th {\n",
       "        vertical-align: top;\n",
       "    }\n",
       "\n",
       "    .dataframe thead th {\n",
       "        text-align: right;\n",
       "    }\n",
       "</style>\n",
       "<table border=\"1\" class=\"dataframe\">\n",
       "  <thead>\n",
       "    <tr style=\"text-align: right;\">\n",
       "      <th></th>\n",
       "      <th>tenure</th>\n",
       "      <th>PhoneService</th>\n",
       "      <th>MultipleLines</th>\n",
       "      <th>InternetService</th>\n",
       "      <th>OnlineSecurity</th>\n",
       "      <th>OnlineBackup</th>\n",
       "      <th>DeviceProtection</th>\n",
       "      <th>TechSupport</th>\n",
       "      <th>StreamingTV</th>\n",
       "      <th>StreamingMovies</th>\n",
       "      <th>Contract</th>\n",
       "      <th>PaperlessBilling</th>\n",
       "      <th>PaymentMethod</th>\n",
       "      <th>MonthlyCharges</th>\n",
       "      <th>TotalCharges</th>\n",
       "      <th>Churn</th>\n",
       "      <th>cpf</th>\n",
       "    </tr>\n",
       "  </thead>\n",
       "  <tbody>\n",
       "    <tr>\n",
       "      <th>0</th>\n",
       "      <td>72</td>\n",
       "      <td>Yes</td>\n",
       "      <td>Yes</td>\n",
       "      <td>Fiber optic</td>\n",
       "      <td>Yes</td>\n",
       "      <td>Yes</td>\n",
       "      <td>Yes</td>\n",
       "      <td>Yes</td>\n",
       "      <td>Yes</td>\n",
       "      <td>Yes</td>\n",
       "      <td>Two year</td>\n",
       "      <td>Yes</td>\n",
       "      <td>Bank transfer (automatic)</td>\n",
       "      <td>118.75</td>\n",
       "      <td>8672.45</td>\n",
       "      <td>No</td>\n",
       "      <td>10433218100</td>\n",
       "    </tr>\n",
       "    <tr>\n",
       "      <th>1</th>\n",
       "      <td>71</td>\n",
       "      <td>Yes</td>\n",
       "      <td>Yes</td>\n",
       "      <td>Fiber optic</td>\n",
       "      <td>Yes</td>\n",
       "      <td>Yes</td>\n",
       "      <td>Yes</td>\n",
       "      <td>Yes</td>\n",
       "      <td>Yes</td>\n",
       "      <td>Yes</td>\n",
       "      <td>Two year</td>\n",
       "      <td>Yes</td>\n",
       "      <td>Electronic check</td>\n",
       "      <td>118.65</td>\n",
       "      <td>8477.60</td>\n",
       "      <td>No</td>\n",
       "      <td>96001338914</td>\n",
       "    </tr>\n",
       "    <tr>\n",
       "      <th>2</th>\n",
       "      <td>68</td>\n",
       "      <td>Yes</td>\n",
       "      <td>Yes</td>\n",
       "      <td>Fiber optic</td>\n",
       "      <td>Yes</td>\n",
       "      <td>Yes</td>\n",
       "      <td>Yes</td>\n",
       "      <td>Yes</td>\n",
       "      <td>Yes</td>\n",
       "      <td>Yes</td>\n",
       "      <td>Two year</td>\n",
       "      <td>No</td>\n",
       "      <td>Mailed check</td>\n",
       "      <td>118.60</td>\n",
       "      <td>7990.05</td>\n",
       "      <td>No</td>\n",
       "      <td>08386379499</td>\n",
       "    </tr>\n",
       "    <tr>\n",
       "      <th>3</th>\n",
       "      <td>61</td>\n",
       "      <td>Yes</td>\n",
       "      <td>Yes</td>\n",
       "      <td>Fiber optic</td>\n",
       "      <td>Yes</td>\n",
       "      <td>Yes</td>\n",
       "      <td>Yes</td>\n",
       "      <td>Yes</td>\n",
       "      <td>Yes</td>\n",
       "      <td>Yes</td>\n",
       "      <td>One year</td>\n",
       "      <td>Yes</td>\n",
       "      <td>Electronic check</td>\n",
       "      <td>118.60</td>\n",
       "      <td>7365.70</td>\n",
       "      <td>No</td>\n",
       "      <td>02654235114</td>\n",
       "    </tr>\n",
       "    <tr>\n",
       "      <th>4</th>\n",
       "      <td>67</td>\n",
       "      <td>Yes</td>\n",
       "      <td>Yes</td>\n",
       "      <td>Fiber optic</td>\n",
       "      <td>Yes</td>\n",
       "      <td>Yes</td>\n",
       "      <td>Yes</td>\n",
       "      <td>Yes</td>\n",
       "      <td>Yes</td>\n",
       "      <td>Yes</td>\n",
       "      <td>One year</td>\n",
       "      <td>Yes</td>\n",
       "      <td>Bank transfer (automatic)</td>\n",
       "      <td>118.35</td>\n",
       "      <td>7804.15</td>\n",
       "      <td>Yes</td>\n",
       "      <td>16155940789</td>\n",
       "    </tr>\n",
       "    <tr>\n",
       "      <th>...</th>\n",
       "      <td>...</td>\n",
       "      <td>...</td>\n",
       "      <td>...</td>\n",
       "      <td>...</td>\n",
       "      <td>...</td>\n",
       "      <td>...</td>\n",
       "      <td>...</td>\n",
       "      <td>...</td>\n",
       "      <td>...</td>\n",
       "      <td>...</td>\n",
       "      <td>...</td>\n",
       "      <td>...</td>\n",
       "      <td>...</td>\n",
       "      <td>...</td>\n",
       "      <td>...</td>\n",
       "      <td>...</td>\n",
       "      <td>...</td>\n",
       "    </tr>\n",
       "    <tr>\n",
       "      <th>7196</th>\n",
       "      <td>35</td>\n",
       "      <td>Yes</td>\n",
       "      <td>Yes</td>\n",
       "      <td>Fiber optic</td>\n",
       "      <td>No</td>\n",
       "      <td>No</td>\n",
       "      <td>No</td>\n",
       "      <td>No</td>\n",
       "      <td>Yes</td>\n",
       "      <td>No</td>\n",
       "      <td>Month-to-month</td>\n",
       "      <td>Yes</td>\n",
       "      <td>Electronic check</td>\n",
       "      <td>86.45</td>\n",
       "      <td>3029.10</td>\n",
       "      <td>Yes</td>\n",
       "      <td>71912038110</td>\n",
       "    </tr>\n",
       "    <tr>\n",
       "      <th>7197</th>\n",
       "      <td>30</td>\n",
       "      <td>Yes</td>\n",
       "      <td>No</td>\n",
       "      <td>Fiber optic</td>\n",
       "      <td>No</td>\n",
       "      <td>No</td>\n",
       "      <td>Yes</td>\n",
       "      <td>No</td>\n",
       "      <td>No</td>\n",
       "      <td>Yes</td>\n",
       "      <td>One year</td>\n",
       "      <td>No</td>\n",
       "      <td>Electronic check</td>\n",
       "      <td>86.45</td>\n",
       "      <td>2538.05</td>\n",
       "      <td>No</td>\n",
       "      <td>87692082804</td>\n",
       "    </tr>\n",
       "    <tr>\n",
       "      <th>7198</th>\n",
       "      <td>27</td>\n",
       "      <td>Yes</td>\n",
       "      <td>Yes</td>\n",
       "      <td>Fiber optic</td>\n",
       "      <td>No</td>\n",
       "      <td>Yes</td>\n",
       "      <td>Yes</td>\n",
       "      <td>No</td>\n",
       "      <td>No</td>\n",
       "      <td>No</td>\n",
       "      <td>Month-to-month</td>\n",
       "      <td>Yes</td>\n",
       "      <td>Bank transfer (automatic)</td>\n",
       "      <td>86.45</td>\n",
       "      <td>2401.05</td>\n",
       "      <td>No</td>\n",
       "      <td>32308981334</td>\n",
       "    </tr>\n",
       "    <tr>\n",
       "      <th>7207</th>\n",
       "      <td>46</td>\n",
       "      <td>Yes</td>\n",
       "      <td>No</td>\n",
       "      <td>Fiber optic</td>\n",
       "      <td>No</td>\n",
       "      <td>Yes</td>\n",
       "      <td>Yes</td>\n",
       "      <td>No</td>\n",
       "      <td>Yes</td>\n",
       "      <td>No</td>\n",
       "      <td>One year</td>\n",
       "      <td>Yes</td>\n",
       "      <td>Bank transfer (automatic)</td>\n",
       "      <td>91.30</td>\n",
       "      <td>4126.35</td>\n",
       "      <td>No</td>\n",
       "      <td>33720948404</td>\n",
       "    </tr>\n",
       "    <tr>\n",
       "      <th>7210</th>\n",
       "      <td>47</td>\n",
       "      <td>Yes</td>\n",
       "      <td>Yes</td>\n",
       "      <td>Fiber optic</td>\n",
       "      <td>No</td>\n",
       "      <td>No</td>\n",
       "      <td>No</td>\n",
       "      <td>No</td>\n",
       "      <td>Yes</td>\n",
       "      <td>No</td>\n",
       "      <td>Month-to-month</td>\n",
       "      <td>Yes</td>\n",
       "      <td>Credit card (automatic)</td>\n",
       "      <td>986.05</td>\n",
       "      <td>93865.60</td>\n",
       "      <td>No</td>\n",
       "      <td>40433335360</td>\n",
       "    </tr>\n",
       "  </tbody>\n",
       "</table>\n",
       "<p>338 rows × 17 columns</p>\n",
       "</div>"
      ],
      "text/plain": [
       "      tenure PhoneService MultipleLines InternetService OnlineSecurity  \\\n",
       "0         72          Yes           Yes     Fiber optic            Yes   \n",
       "1         71          Yes           Yes     Fiber optic            Yes   \n",
       "2         68          Yes           Yes     Fiber optic            Yes   \n",
       "3         61          Yes           Yes     Fiber optic            Yes   \n",
       "4         67          Yes           Yes     Fiber optic            Yes   \n",
       "...      ...          ...           ...             ...            ...   \n",
       "7196      35          Yes           Yes     Fiber optic             No   \n",
       "7197      30          Yes            No     Fiber optic             No   \n",
       "7198      27          Yes           Yes     Fiber optic             No   \n",
       "7207      46          Yes            No     Fiber optic             No   \n",
       "7210      47          Yes           Yes     Fiber optic             No   \n",
       "\n",
       "     OnlineBackup DeviceProtection TechSupport StreamingTV StreamingMovies  \\\n",
       "0             Yes              Yes         Yes         Yes             Yes   \n",
       "1             Yes              Yes         Yes         Yes             Yes   \n",
       "2             Yes              Yes         Yes         Yes             Yes   \n",
       "3             Yes              Yes         Yes         Yes             Yes   \n",
       "4             Yes              Yes         Yes         Yes             Yes   \n",
       "...           ...              ...         ...         ...             ...   \n",
       "7196           No               No          No         Yes              No   \n",
       "7197           No              Yes          No          No             Yes   \n",
       "7198          Yes              Yes          No          No              No   \n",
       "7207          Yes              Yes          No         Yes              No   \n",
       "7210           No               No          No         Yes              No   \n",
       "\n",
       "            Contract PaperlessBilling              PaymentMethod  \\\n",
       "0           Two year              Yes  Bank transfer (automatic)   \n",
       "1           Two year              Yes           Electronic check   \n",
       "2           Two year               No               Mailed check   \n",
       "3           One year              Yes           Electronic check   \n",
       "4           One year              Yes  Bank transfer (automatic)   \n",
       "...              ...              ...                        ...   \n",
       "7196  Month-to-month              Yes           Electronic check   \n",
       "7197        One year               No           Electronic check   \n",
       "7198  Month-to-month              Yes  Bank transfer (automatic)   \n",
       "7207        One year              Yes  Bank transfer (automatic)   \n",
       "7210  Month-to-month              Yes    Credit card (automatic)   \n",
       "\n",
       "      MonthlyCharges  TotalCharges Churn          cpf  \n",
       "0             118.75       8672.45    No  10433218100  \n",
       "1             118.65       8477.60    No  96001338914  \n",
       "2             118.60       7990.05    No  08386379499  \n",
       "3             118.60       7365.70    No  02654235114  \n",
       "4             118.35       7804.15   Yes  16155940789  \n",
       "...              ...           ...   ...          ...  \n",
       "7196           86.45       3029.10   Yes  71912038110  \n",
       "7197           86.45       2538.05    No  87692082804  \n",
       "7198           86.45       2401.05    No  32308981334  \n",
       "7207           91.30       4126.35    No  33720948404  \n",
       "7210          986.05      93865.60    No  40433335360  \n",
       "\n",
       "[338 rows x 17 columns]"
      ]
     },
     "execution_count": 304,
     "metadata": {},
     "output_type": "execute_result"
    }
   ],
   "source": [
    "# Checando duplicatas\n",
    "df_customer[df_customer.duplicated(subset='cpf', keep=False)]\n"
   ]
  },
  {
   "cell_type": "markdown",
   "id": "32b1dc7f",
   "metadata": {},
   "source": [
    "Foram identificados valores duplicados de CPF que foram posteriormente removidos"
   ]
  },
  {
   "cell_type": "code",
   "execution_count": 305,
   "id": "5672b31a",
   "metadata": {},
   "outputs": [],
   "source": [
    "#cpfs_repetidos = df_customer['cpf'][df_customer['cpf'].duplicated()].unique()#\n",
    "#print(cpfs_repetidos)"
   ]
  },
  {
   "cell_type": "code",
   "execution_count": 306,
   "id": "df537b55",
   "metadata": {},
   "outputs": [
    {
     "data": {
      "text/plain": [
       "False    7065\n",
       "Name: count, dtype: int64"
      ]
     },
     "execution_count": 306,
     "metadata": {},
     "output_type": "execute_result"
    }
   ],
   "source": [
    "df_customer=df_customer.drop_duplicates(subset='cpf', keep='first')\n",
    "#df_customer[df_customer.duplicated(subset='cpf', keep=False)]\n",
    "\n",
    "df_customer.duplicated().value_counts()"
   ]
  },
  {
   "cell_type": "code",
   "execution_count": 307,
   "id": "822c5f16",
   "metadata": {},
   "outputs": [
    {
     "data": {
      "text/html": [
       "<div>\n",
       "<style scoped>\n",
       "    .dataframe tbody tr th:only-of-type {\n",
       "        vertical-align: middle;\n",
       "    }\n",
       "\n",
       "    .dataframe tbody tr th {\n",
       "        vertical-align: top;\n",
       "    }\n",
       "\n",
       "    .dataframe thead th {\n",
       "        text-align: right;\n",
       "    }\n",
       "</style>\n",
       "<table border=\"1\" class=\"dataframe\">\n",
       "  <thead>\n",
       "    <tr style=\"text-align: right;\">\n",
       "      <th></th>\n",
       "      <th>tenure</th>\n",
       "      <th>PhoneService</th>\n",
       "      <th>MultipleLines</th>\n",
       "      <th>InternetService</th>\n",
       "      <th>OnlineSecurity</th>\n",
       "      <th>OnlineBackup</th>\n",
       "      <th>DeviceProtection</th>\n",
       "      <th>TechSupport</th>\n",
       "      <th>StreamingTV</th>\n",
       "      <th>StreamingMovies</th>\n",
       "      <th>Contract</th>\n",
       "      <th>PaperlessBilling</th>\n",
       "      <th>PaymentMethod</th>\n",
       "      <th>MonthlyCharges</th>\n",
       "      <th>TotalCharges</th>\n",
       "      <th>Churn</th>\n",
       "      <th>cpf</th>\n",
       "    </tr>\n",
       "  </thead>\n",
       "  <tbody>\n",
       "  </tbody>\n",
       "</table>\n",
       "</div>"
      ],
      "text/plain": [
       "Empty DataFrame\n",
       "Columns: [tenure, PhoneService, MultipleLines, InternetService, OnlineSecurity, OnlineBackup, DeviceProtection, TechSupport, StreamingTV, StreamingMovies, Contract, PaperlessBilling, PaymentMethod, MonthlyCharges, TotalCharges, Churn, cpf]\n",
       "Index: []"
      ]
     },
     "execution_count": 307,
     "metadata": {},
     "output_type": "execute_result"
    }
   ],
   "source": [
    "# Verificando NAs\n",
    "df_customer[df_customer.isna().any(axis=1)]\n",
    "# Resultados sem NAs"
   ]
  },
  {
   "cell_type": "code",
   "execution_count": 308,
   "id": "b9a9c0b6",
   "metadata": {},
   "outputs": [
    {
     "data": {
      "text/plain": [
       "False    7065\n",
       "True      169\n",
       "Name: count, dtype: int64"
      ]
     },
     "execution_count": 308,
     "metadata": {},
     "output_type": "execute_result"
    }
   ],
   "source": [
    "df_nps.duplicated().value_counts()"
   ]
  },
  {
   "cell_type": "code",
   "execution_count": 309,
   "id": "05666fb1",
   "metadata": {},
   "outputs": [
    {
     "data": {
      "text/plain": [
       "False    7065\n",
       "True      169\n",
       "Name: count, dtype: int64"
      ]
     },
     "execution_count": 309,
     "metadata": {},
     "output_type": "execute_result"
    }
   ],
   "source": [
    "df_social.duplicated().value_counts()"
   ]
  },
  {
   "cell_type": "code",
   "execution_count": 310,
   "id": "020d634b",
   "metadata": {},
   "outputs": [
    {
     "data": {
      "text/plain": [
       "False    7065\n",
       "Name: count, dtype: int64"
      ]
     },
     "execution_count": 310,
     "metadata": {},
     "output_type": "execute_result"
    }
   ],
   "source": [
    "df_nps=df_nps.drop_duplicates(subset='cpf', keep='first')\n",
    "df_nps.duplicated().value_counts()"
   ]
  },
  {
   "cell_type": "code",
   "execution_count": 311,
   "id": "ba9e4b12",
   "metadata": {},
   "outputs": [
    {
     "data": {
      "text/plain": [
       "False    7065\n",
       "Name: count, dtype: int64"
      ]
     },
     "execution_count": 311,
     "metadata": {},
     "output_type": "execute_result"
    }
   ],
   "source": [
    "df_social=df_social.drop_duplicates(subset='cpf', keep='first')\n",
    "df_social.duplicated().value_counts()\n"
   ]
  },
  {
   "cell_type": "code",
   "execution_count": 312,
   "id": "e1575e72",
   "metadata": {},
   "outputs": [],
   "source": [
    "#assert df_customer['cpf'].equals(df_nps['cpf']) and df_customer['cpf'].equals(df_social['cpf']), \"CPFs não estão na mesma ordem!\""
   ]
  },
  {
   "cell_type": "code",
   "execution_count": 313,
   "id": "a782b3e8",
   "metadata": {},
   "outputs": [],
   "source": [
    "for df in [df_customer, df_nps, df_social]:\n",
    "    df['cpf'] = (\n",
    "        df['cpf']\n",
    "        .astype(str)              \n",
    "        .str.replace(r'\\.|\\-| ', '', regex=True)  \n",
    "        .str.zfill(11)            \n",
    "    )"
   ]
  },
  {
   "cell_type": "code",
   "execution_count": 314,
   "id": "573794ea",
   "metadata": {},
   "outputs": [],
   "source": [
    "#df_nps.info()\n",
    "#df_customer.info()\n",
    "#df_social.info()"
   ]
  },
  {
   "cell_type": "markdown",
   "id": "0eb21f45",
   "metadata": {},
   "source": [
    "Os três bancos de dados foram unidos, usando o CPf com chave primária"
   ]
  },
  {
   "cell_type": "code",
   "execution_count": 315,
   "id": "a69a6a8d",
   "metadata": {},
   "outputs": [],
   "source": [
    "# Juntando os bancos de dados\n",
    "df_temp = pd.merge(df_customer, df_nps, on='cpf', how='inner')\n",
    "df_final = pd.merge(df_temp, df_social, on='cpf', how='inner')\n",
    "#df_final.head(25)"
   ]
  },
  {
   "cell_type": "code",
   "execution_count": 316,
   "id": "559ea659",
   "metadata": {},
   "outputs": [
    {
     "data": {
      "text/plain": [
       "False    7065\n",
       "Name: count, dtype: int64"
      ]
     },
     "execution_count": 316,
     "metadata": {},
     "output_type": "execute_result"
    }
   ],
   "source": [
    "df_final.duplicated().value_counts()\n",
    "#df_final.to_csv(\"datasets_unidos.csv\", index=False, encoding=\"utf-8\")"
   ]
  },
  {
   "cell_type": "code",
   "execution_count": 317,
   "id": "06dda7f7",
   "metadata": {},
   "outputs": [
    {
     "data": {
      "text/plain": [
       "cpf\n",
       "20410372883    1\n",
       "10433218100    1\n",
       "96001338914    1\n",
       "08386379499    1\n",
       "02654235114    1\n",
       "              ..\n",
       "26916697857    1\n",
       "53287101269    1\n",
       "23884969692    1\n",
       "39537672409    1\n",
       "35030564160    1\n",
       "Name: count, Length: 7065, dtype: int64"
      ]
     },
     "execution_count": 317,
     "metadata": {},
     "output_type": "execute_result"
    }
   ],
   "source": [
    "# Contagem dos CPFs para verificar se os valores são únicos\n",
    "df_final['cpf'].value_counts()"
   ]
  },
  {
   "cell_type": "markdown",
   "id": "ab19935d",
   "metadata": {},
   "source": [
    "Foram identificados valores altos (outliers) nas variávei **TotalCharges** e **MonthlyCharges**, que foram removidos. Vale ressaltar que estes valores foram removidos apenas por critério de magnitude, seria necessário avaliar melhor o contexto dos contratos dos CFPs envolvidos."
   ]
  },
  {
   "cell_type": "code",
   "execution_count": 318,
   "id": "d4483338",
   "metadata": {},
   "outputs": [
    {
     "data": {
      "text/plain": [
       "<Axes: xlabel='TotalCharges'>"
      ]
     },
     "execution_count": 318,
     "metadata": {},
     "output_type": "execute_result"
    },
    {
     "data": {
      "image/png": "[encoded data removed]",
      "text/plain": [
       "<Figure size 640x480 with 1 Axes>"
      ]
     },
     "metadata": {},
     "output_type": "display_data"
    }
   ],
   "source": [
    "sns.boxplot(data=df_final, x='TotalCharges')\n",
    "sns.boxplot(data = df_final, x = 'MonthlyCharges')"
   ]
  },
  {
   "cell_type": "code",
   "execution_count": 319,
   "id": "2ad3ab42",
   "metadata": {},
   "outputs": [
    {
     "data": {
      "text/html": [
       "<div>\n",
       "<style scoped>\n",
       "    .dataframe tbody tr th:only-of-type {\n",
       "        vertical-align: middle;\n",
       "    }\n",
       "\n",
       "    .dataframe tbody tr th {\n",
       "        vertical-align: top;\n",
       "    }\n",
       "\n",
       "    .dataframe thead th {\n",
       "        text-align: right;\n",
       "    }\n",
       "</style>\n",
       "<table border=\"1\" class=\"dataframe\">\n",
       "  <thead>\n",
       "    <tr style=\"text-align: right;\">\n",
       "      <th></th>\n",
       "      <th>tenure</th>\n",
       "      <th>MonthlyCharges</th>\n",
       "      <th>TotalCharges</th>\n",
       "      <th>NPS</th>\n",
       "      <th>SeniorCitizen</th>\n",
       "    </tr>\n",
       "  </thead>\n",
       "  <tbody>\n",
       "    <tr>\n",
       "      <th>count</th>\n",
       "      <td>7034.000000</td>\n",
       "      <td>7034.000000</td>\n",
       "      <td>7034.000000</td>\n",
       "      <td>7034.000000</td>\n",
       "      <td>7034.000000</td>\n",
       "    </tr>\n",
       "    <tr>\n",
       "      <th>mean</th>\n",
       "      <td>32.414558</td>\n",
       "      <td>64.807229</td>\n",
       "      <td>2282.828874</td>\n",
       "      <td>7.154677</td>\n",
       "      <td>0.162354</td>\n",
       "    </tr>\n",
       "    <tr>\n",
       "      <th>std</th>\n",
       "      <td>24.545564</td>\n",
       "      <td>30.086461</td>\n",
       "      <td>2266.625162</td>\n",
       "      <td>2.649100</td>\n",
       "      <td>0.368802</td>\n",
       "    </tr>\n",
       "    <tr>\n",
       "      <th>min</th>\n",
       "      <td>1.000000</td>\n",
       "      <td>18.250000</td>\n",
       "      <td>18.800000</td>\n",
       "      <td>0.000000</td>\n",
       "      <td>0.000000</td>\n",
       "    </tr>\n",
       "    <tr>\n",
       "      <th>25%</th>\n",
       "      <td>9.000000</td>\n",
       "      <td>35.612500</td>\n",
       "      <td>401.350000</td>\n",
       "      <td>5.000000</td>\n",
       "      <td>0.000000</td>\n",
       "    </tr>\n",
       "    <tr>\n",
       "      <th>50%</th>\n",
       "      <td>29.000000</td>\n",
       "      <td>70.350000</td>\n",
       "      <td>1397.100000</td>\n",
       "      <td>8.000000</td>\n",
       "      <td>0.000000</td>\n",
       "    </tr>\n",
       "    <tr>\n",
       "      <th>75%</th>\n",
       "      <td>55.000000</td>\n",
       "      <td>89.900000</td>\n",
       "      <td>3793.775000</td>\n",
       "      <td>9.000000</td>\n",
       "      <td>0.000000</td>\n",
       "    </tr>\n",
       "    <tr>\n",
       "      <th>max</th>\n",
       "      <td>72.000000</td>\n",
       "      <td>118.750000</td>\n",
       "      <td>8684.800000</td>\n",
       "      <td>10.000000</td>\n",
       "      <td>1.000000</td>\n",
       "    </tr>\n",
       "  </tbody>\n",
       "</table>\n",
       "</div>"
      ],
      "text/plain": [
       "            tenure  MonthlyCharges  TotalCharges          NPS  SeniorCitizen\n",
       "count  7034.000000     7034.000000   7034.000000  7034.000000    7034.000000\n",
       "mean     32.414558       64.807229   2282.828874     7.154677       0.162354\n",
       "std      24.545564       30.086461   2266.625162     2.649100       0.368802\n",
       "min       1.000000       18.250000     18.800000     0.000000       0.000000\n",
       "25%       9.000000       35.612500    401.350000     5.000000       0.000000\n",
       "50%      29.000000       70.350000   1397.100000     8.000000       0.000000\n",
       "75%      55.000000       89.900000   3793.775000     9.000000       0.000000\n",
       "max      72.000000      118.750000   8684.800000    10.000000       1.000000"
      ]
     },
     "execution_count": 319,
     "metadata": {},
     "output_type": "execute_result"
    }
   ],
   "source": [
    "# remoção dos outliers\n",
    "\n",
    "colunas_numericas = ['TotalCharges', 'MonthlyCharges']\n",
    "\n",
    "df_limpo = df_final.copy()\n",
    "\n",
    "for coluna in colunas_numericas:\n",
    "    Q3 = df_limpo[coluna].quantile(0.75)\n",
    "    limite_superior = Q3 + 1.5 * (Q3 - df_limpo[coluna].quantile(0.25))\n",
    "    df_limpo = df_limpo[df_limpo[coluna] <= limite_superior]\n",
    "\n",
    "df_limpo[colunas_numericas].describe()\n",
    "\n",
    "df_limpo.describe()\n",
    "\n",
    "\n",
    "\n"
   ]
  },
  {
   "cell_type": "code",
   "execution_count": 320,
   "id": "76e03c0a",
   "metadata": {},
   "outputs": [],
   "source": [
    "df_limpo['churn_bin'] = df_limpo['Churn'].map({'Yes':1, 'No':0})\n",
    "\n",
    "servicos = [\n",
    "    'PhoneService', 'MultipleLines', 'InternetService','OnlineSecurity', 'OnlineBackup',\n",
    "    'DeviceProtection', 'TechSupport', 'StreamingTV', 'StreamingMovies']\n",
    "\n",
    "df_limpo['TotalServicosContratados'] = df_limpo[servicos].apply(\n",
    "    lambda x: sum(x == 'Yes'), axis = 1\n",
    ")\n",
    "\n",
    "# Na tabelas df_limpo.discribe(), há total de serviços contratados com valores 0, o que indica possível  inconsistência nos dados, então\n",
    "#decidir remover todos os CPFs com zero serviços contratados, ao todo foram 80 observações.\n",
    "df_limpo = df_limpo[df_limpo['TotalServicosContratados'] > 0]\n",
    "#print(df_limpo[['cpf', 'TotalServicosContratados']].head())\n",
    "\n",
    "df_limpo['TotalServicosContratados'].isna().value_counts()\n",
    "\n",
    "# Também foram removidos NPS com valores iguais a zero, visto que a escala é de 1-10\n",
    "df_limpo = df_limpo[df_limpo['NPS'] > 0]"
   ]
  },
  {
   "cell_type": "code",
   "execution_count": 321,
   "id": "72d964ab",
   "metadata": {},
   "outputs": [],
   "source": [
    "df = df.dropna().reset_index(drop=True)\n"
   ]
  },
  {
   "cell_type": "code",
   "execution_count": 322,
   "id": "0f37d351",
   "metadata": {},
   "outputs": [
    {
     "data": {
      "text/html": [
       "<div>\n",
       "<style scoped>\n",
       "    .dataframe tbody tr th:only-of-type {\n",
       "        vertical-align: middle;\n",
       "    }\n",
       "\n",
       "    .dataframe tbody tr th {\n",
       "        vertical-align: top;\n",
       "    }\n",
       "\n",
       "    .dataframe thead th {\n",
       "        text-align: right;\n",
       "    }\n",
       "</style>\n",
       "<table border=\"1\" class=\"dataframe\">\n",
       "  <thead>\n",
       "    <tr style=\"text-align: right;\">\n",
       "      <th></th>\n",
       "      <th>tenure</th>\n",
       "      <th>MonthlyCharges</th>\n",
       "      <th>TotalCharges</th>\n",
       "      <th>NPS</th>\n",
       "      <th>SeniorCitizen</th>\n",
       "      <th>churn_bin</th>\n",
       "      <th>TotalServicosContratados</th>\n",
       "    </tr>\n",
       "  </thead>\n",
       "  <tbody>\n",
       "    <tr>\n",
       "      <th>count</th>\n",
       "      <td>6945.000000</td>\n",
       "      <td>6945.000000</td>\n",
       "      <td>6945.000000</td>\n",
       "      <td>6945.000000</td>\n",
       "      <td>6945.000000</td>\n",
       "      <td>6945.000000</td>\n",
       "      <td>6945.000000</td>\n",
       "    </tr>\n",
       "    <tr>\n",
       "      <th>mean</th>\n",
       "      <td>32.723830</td>\n",
       "      <td>65.232527</td>\n",
       "      <td>2309.164910</td>\n",
       "      <td>7.193233</td>\n",
       "      <td>0.161411</td>\n",
       "      <td>0.263067</td>\n",
       "      <td>3.401872</td>\n",
       "    </tr>\n",
       "    <tr>\n",
       "      <th>std</th>\n",
       "      <td>24.515208</td>\n",
       "      <td>29.954747</td>\n",
       "      <td>2268.810826</td>\n",
       "      <td>2.631471</td>\n",
       "      <td>0.367936</td>\n",
       "      <td>0.440330</td>\n",
       "      <td>2.042794</td>\n",
       "    </tr>\n",
       "    <tr>\n",
       "      <th>min</th>\n",
       "      <td>1.000000</td>\n",
       "      <td>18.250000</td>\n",
       "      <td>18.800000</td>\n",
       "      <td>1.000000</td>\n",
       "      <td>0.000000</td>\n",
       "      <td>0.000000</td>\n",
       "      <td>1.000000</td>\n",
       "    </tr>\n",
       "    <tr>\n",
       "      <th>25%</th>\n",
       "      <td>9.000000</td>\n",
       "      <td>39.450000</td>\n",
       "      <td>417.700000</td>\n",
       "      <td>5.000000</td>\n",
       "      <td>0.000000</td>\n",
       "      <td>0.000000</td>\n",
       "      <td>2.000000</td>\n",
       "    </tr>\n",
       "    <tr>\n",
       "      <th>50%</th>\n",
       "      <td>29.000000</td>\n",
       "      <td>70.600000</td>\n",
       "      <td>1423.150000</td>\n",
       "      <td>8.000000</td>\n",
       "      <td>0.000000</td>\n",
       "      <td>0.000000</td>\n",
       "      <td>3.000000</td>\n",
       "    </tr>\n",
       "    <tr>\n",
       "      <th>75%</th>\n",
       "      <td>56.000000</td>\n",
       "      <td>90.000000</td>\n",
       "      <td>3842.600000</td>\n",
       "      <td>9.000000</td>\n",
       "      <td>0.000000</td>\n",
       "      <td>1.000000</td>\n",
       "      <td>5.000000</td>\n",
       "    </tr>\n",
       "    <tr>\n",
       "      <th>max</th>\n",
       "      <td>72.000000</td>\n",
       "      <td>118.750000</td>\n",
       "      <td>8684.800000</td>\n",
       "      <td>10.000000</td>\n",
       "      <td>1.000000</td>\n",
       "      <td>1.000000</td>\n",
       "      <td>8.000000</td>\n",
       "    </tr>\n",
       "  </tbody>\n",
       "</table>\n",
       "</div>"
      ],
      "text/plain": [
       "            tenure  MonthlyCharges  TotalCharges          NPS  SeniorCitizen  \\\n",
       "count  6945.000000     6945.000000   6945.000000  6945.000000    6945.000000   \n",
       "mean     32.723830       65.232527   2309.164910     7.193233       0.161411   \n",
       "std      24.515208       29.954747   2268.810826     2.631471       0.367936   \n",
       "min       1.000000       18.250000     18.800000     1.000000       0.000000   \n",
       "25%       9.000000       39.450000    417.700000     5.000000       0.000000   \n",
       "50%      29.000000       70.600000   1423.150000     8.000000       0.000000   \n",
       "75%      56.000000       90.000000   3842.600000     9.000000       0.000000   \n",
       "max      72.000000      118.750000   8684.800000    10.000000       1.000000   \n",
       "\n",
       "         churn_bin  TotalServicosContratados  \n",
       "count  6945.000000               6945.000000  \n",
       "mean      0.263067                  3.401872  \n",
       "std       0.440330                  2.042794  \n",
       "min       0.000000                  1.000000  \n",
       "25%       0.000000                  2.000000  \n",
       "50%       0.000000                  3.000000  \n",
       "75%       1.000000                  5.000000  \n",
       "max       1.000000                  8.000000  "
      ]
     },
     "execution_count": 322,
     "metadata": {},
     "output_type": "execute_result"
    }
   ],
   "source": [
    "df_limpo.describe()\n"
   ]
  },
  {
   "cell_type": "markdown",
   "id": "f707dea3",
   "metadata": {},
   "source": [
    "## Análise Descritiva"
   ]
  },
  {
   "cell_type": "markdown",
   "id": "946b92de",
   "metadata": {},
   "source": [
    "Nesta sessão será feita a análise descritiva para as variáveis **Churn** e **NPS**"
   ]
  },
  {
   "cell_type": "markdown",
   "id": "24d8a780",
   "metadata": {},
   "source": [
    "### Análise descritiva para variável Churn"
   ]
  },
  {
   "cell_type": "markdown",
   "id": "f53d4bcb",
   "metadata": {},
   "source": [
    "Com a atual base de dados, em que foram feitas suas devidas limpezas e ajustes. Foi identificado um **Churn** de aproximadamente 26%"
   ]
  },
  {
   "cell_type": "code",
   "execution_count": 323,
   "id": "a6c04922",
   "metadata": {},
   "outputs": [
    {
     "data": {
      "text/plain": [
       "Churn\n",
       "No       73.693305\n",
       "Yes      26.306695\n",
       "Name: proportion, dtype: float64"
      ]
     },
     "execution_count": 323,
     "metadata": {},
     "output_type": "execute_result"
    }
   ],
   "source": [
    "# Quantidade de Churn\n",
    "df_limpo[[\"Churn\"]].value_counts(normalize=True)*100"
   ]
  },
  {
   "cell_type": "markdown",
   "id": "31c5b408",
   "metadata": {},
   "source": [
    "Em um primeiro momento, buscou-se avaliar o Churn pela quantidade de serviços contratados, com o objetivo de averiguar se a quantidade de serviços contratados iria influenciar no **Churn**."
   ]
  },
  {
   "cell_type": "code",
   "execution_count": 324,
   "id": "47c5cfd0",
   "metadata": {},
   "outputs": [
    {
     "name": "stdout",
     "output_type": "stream",
     "text": [
      "Relação entre Quantidade de Serviços e Churn:\n",
      "churn_bin                 Não Churn  Churn  Total  % Churn\n",
      "TotalServicosContratados                                  \n",
      "1                              1338    359   1697     21.2\n",
      "2                               796    389   1185     32.8\n",
      "3                               612    352    964     36.5\n",
      "4                               633    283    916     30.9\n",
      "5                               674    232    906     25.6\n",
      "6                               522    152    674     22.6\n",
      "7                               346     49    395     12.4\n",
      "8                               197     11    208      5.3\n",
      "Total                          5118   1827   6945     26.3\n"
     ]
    }
   ],
   "source": [
    "tabela_churn = pd.crosstab(\n",
    "    df_limpo['TotalServicosContratados'],\n",
    "    df_limpo['churn_bin'],\n",
    "    margins=True,\n",
    "    margins_name=\"Total\"\n",
    ")\n",
    "\n",
    "tabela_churn['% Churn'] = (tabela_churn[1] / tabela_churn['Total'] * 100).round(1)\n",
    "#tabela_churn['% Fidelidade'] = (tabela_churn[0] / tabela_churn['Total'] * 100).round(1)\n",
    "\n",
    "tabela_churn = tabela_churn.rename(columns={\n",
    "    0: 'Não Churn',\n",
    "    1: 'Churn'\n",
    "})\n",
    "\n",
    "print(\"Relação entre Quantidade de Serviços e Churn:\")\n",
    "print(tabela_churn.to_string())"
   ]
  },
  {
   "cell_type": "markdown",
   "id": "2e5a2a68",
   "metadata": {},
   "source": [
    "Nota-se que com aumento de serviços contratados, o **Churn** diminui, logo podemos pensar em uma estratégia de vendas de pacotes de serviços."
   ]
  },
  {
   "cell_type": "code",
   "execution_count": 325,
   "id": "6793a70e",
   "metadata": {},
   "outputs": [
    {
     "data": {
      "image/png": "[encoded data removed]",
      "text/plain": [
       "<Figure size 1000x600 with 1 Axes>"
      ]
     },
     "metadata": {},
     "output_type": "display_data"
    }
   ],
   "source": [
    "plt.figure(figsize=(10, 6))\n",
    "sns.boxplot(\n",
    "    data=df_limpo,\n",
    "    x='TotalServicosContratados',\n",
    "    y='MonthlyCharges',\n",
    "    hue='churn_bin',\n",
    "    palette={0: 'green', 1: 'red'}\n",
    ")\n",
    "plt.title('Distribuição de Valores Mensais por Número de Serviços')\n",
    "plt.show()"
   ]
  },
  {
   "cell_type": "code",
   "execution_count": 326,
   "id": "a69fcf35",
   "metadata": {},
   "outputs": [],
   "source": [
    "var_num  = df_limpo.select_dtypes(include=['int64']).columns.tolist()\n",
    "var_num = [col for col in var_num if col not in ['churn_bin', 'TotalServicosContratados']] "
   ]
  },
  {
   "cell_type": "code",
   "execution_count": 327,
   "id": "3e111321",
   "metadata": {},
   "outputs": [
    {
     "name": "stdout",
     "output_type": "stream",
     "text": [
      "\n",
      "**Churn Rate para tenure:**\n"
     ]
    },
    {
     "data": {
      "text/html": [
       "<div>\n",
       "<style scoped>\n",
       "    .dataframe tbody tr th:only-of-type {\n",
       "        vertical-align: middle;\n",
       "    }\n",
       "\n",
       "    .dataframe tbody tr th {\n",
       "        vertical-align: top;\n",
       "    }\n",
       "\n",
       "    .dataframe thead th {\n",
       "        text-align: right;\n",
       "    }\n",
       "</style>\n",
       "<table border=\"1\" class=\"dataframe\">\n",
       "  <thead>\n",
       "    <tr style=\"text-align: right;\">\n",
       "      <th></th>\n",
       "      <th>tenure</th>\n",
       "      <th>Churn</th>\n",
       "    </tr>\n",
       "  </thead>\n",
       "  <tbody>\n",
       "    <tr>\n",
       "      <th>0</th>\n",
       "      <td>1</td>\n",
       "      <td>61.83</td>\n",
       "    </tr>\n",
       "    <tr>\n",
       "      <th>1</th>\n",
       "      <td>2</td>\n",
       "      <td>51.53</td>\n",
       "    </tr>\n",
       "    <tr>\n",
       "      <th>2</th>\n",
       "      <td>3</td>\n",
       "      <td>46.11</td>\n",
       "    </tr>\n",
       "    <tr>\n",
       "      <th>3</th>\n",
       "      <td>4</td>\n",
       "      <td>46.51</td>\n",
       "    </tr>\n",
       "    <tr>\n",
       "      <th>4</th>\n",
       "      <td>5</td>\n",
       "      <td>48.46</td>\n",
       "    </tr>\n",
       "    <tr>\n",
       "      <th>...</th>\n",
       "      <td>...</td>\n",
       "      <td>...</td>\n",
       "    </tr>\n",
       "    <tr>\n",
       "      <th>67</th>\n",
       "      <td>68</td>\n",
       "      <td>9.00</td>\n",
       "    </tr>\n",
       "    <tr>\n",
       "      <th>68</th>\n",
       "      <td>69</td>\n",
       "      <td>8.42</td>\n",
       "    </tr>\n",
       "    <tr>\n",
       "      <th>69</th>\n",
       "      <td>70</td>\n",
       "      <td>9.24</td>\n",
       "    </tr>\n",
       "    <tr>\n",
       "      <th>70</th>\n",
       "      <td>71</td>\n",
       "      <td>3.53</td>\n",
       "    </tr>\n",
       "    <tr>\n",
       "      <th>71</th>\n",
       "      <td>72</td>\n",
       "      <td>1.66</td>\n",
       "    </tr>\n",
       "  </tbody>\n",
       "</table>\n",
       "<p>72 rows × 2 columns</p>\n",
       "</div>"
      ],
      "text/plain": [
       "    tenure  Churn\n",
       "0        1  61.83\n",
       "1        2  51.53\n",
       "2        3  46.11\n",
       "3        4  46.51\n",
       "4        5  48.46\n",
       "..     ...    ...\n",
       "67      68   9.00\n",
       "68      69   8.42\n",
       "69      70   9.24\n",
       "70      71   3.53\n",
       "71      72   1.66\n",
       "\n",
       "[72 rows x 2 columns]"
      ]
     },
     "metadata": {},
     "output_type": "display_data"
    },
    {
     "name": "stdout",
     "output_type": "stream",
     "text": [
      "-> Maior Churn: '1.0' com 61.83%\n",
      "\n",
      "**Churn Rate para NPS:**\n"
     ]
    },
    {
     "data": {
      "text/html": [
       "<div>\n",
       "<style scoped>\n",
       "    .dataframe tbody tr th:only-of-type {\n",
       "        vertical-align: middle;\n",
       "    }\n",
       "\n",
       "    .dataframe tbody tr th {\n",
       "        vertical-align: top;\n",
       "    }\n",
       "\n",
       "    .dataframe thead th {\n",
       "        text-align: right;\n",
       "    }\n",
       "</style>\n",
       "<table border=\"1\" class=\"dataframe\">\n",
       "  <thead>\n",
       "    <tr style=\"text-align: right;\">\n",
       "      <th></th>\n",
       "      <th>NPS</th>\n",
       "      <th>Churn</th>\n",
       "    </tr>\n",
       "  </thead>\n",
       "  <tbody>\n",
       "    <tr>\n",
       "      <th>0</th>\n",
       "      <td>1</td>\n",
       "      <td>86.82</td>\n",
       "    </tr>\n",
       "    <tr>\n",
       "      <th>1</th>\n",
       "      <td>2</td>\n",
       "      <td>74.70</td>\n",
       "    </tr>\n",
       "    <tr>\n",
       "      <th>2</th>\n",
       "      <td>3</td>\n",
       "      <td>66.17</td>\n",
       "    </tr>\n",
       "    <tr>\n",
       "      <th>3</th>\n",
       "      <td>4</td>\n",
       "      <td>55.24</td>\n",
       "    </tr>\n",
       "    <tr>\n",
       "      <th>4</th>\n",
       "      <td>5</td>\n",
       "      <td>45.34</td>\n",
       "    </tr>\n",
       "    <tr>\n",
       "      <th>5</th>\n",
       "      <td>6</td>\n",
       "      <td>34.51</td>\n",
       "    </tr>\n",
       "    <tr>\n",
       "      <th>6</th>\n",
       "      <td>7</td>\n",
       "      <td>28.68</td>\n",
       "    </tr>\n",
       "    <tr>\n",
       "      <th>7</th>\n",
       "      <td>8</td>\n",
       "      <td>19.14</td>\n",
       "    </tr>\n",
       "    <tr>\n",
       "      <th>8</th>\n",
       "      <td>9</td>\n",
       "      <td>7.74</td>\n",
       "    </tr>\n",
       "    <tr>\n",
       "      <th>9</th>\n",
       "      <td>10</td>\n",
       "      <td>2.24</td>\n",
       "    </tr>\n",
       "  </tbody>\n",
       "</table>\n",
       "</div>"
      ],
      "text/plain": [
       "   NPS  Churn\n",
       "0    1  86.82\n",
       "1    2  74.70\n",
       "2    3  66.17\n",
       "3    4  55.24\n",
       "4    5  45.34\n",
       "5    6  34.51\n",
       "6    7  28.68\n",
       "7    8  19.14\n",
       "8    9   7.74\n",
       "9   10   2.24"
      ]
     },
     "metadata": {},
     "output_type": "display_data"
    },
    {
     "name": "stdout",
     "output_type": "stream",
     "text": [
      "-> Maior Churn: '1.0' com 86.82%\n",
      "\n",
      "**Churn Rate para SeniorCitizen:**\n"
     ]
    },
    {
     "data": {
      "text/html": [
       "<div>\n",
       "<style scoped>\n",
       "    .dataframe tbody tr th:only-of-type {\n",
       "        vertical-align: middle;\n",
       "    }\n",
       "\n",
       "    .dataframe tbody tr th {\n",
       "        vertical-align: top;\n",
       "    }\n",
       "\n",
       "    .dataframe thead th {\n",
       "        text-align: right;\n",
       "    }\n",
       "</style>\n",
       "<table border=\"1\" class=\"dataframe\">\n",
       "  <thead>\n",
       "    <tr style=\"text-align: right;\">\n",
       "      <th></th>\n",
       "      <th>SeniorCitizen</th>\n",
       "      <th>Churn</th>\n",
       "    </tr>\n",
       "  </thead>\n",
       "  <tbody>\n",
       "    <tr>\n",
       "      <th>0</th>\n",
       "      <td>0</td>\n",
       "      <td>23.51</td>\n",
       "    </tr>\n",
       "    <tr>\n",
       "      <th>1</th>\n",
       "      <td>1</td>\n",
       "      <td>40.86</td>\n",
       "    </tr>\n",
       "  </tbody>\n",
       "</table>\n",
       "</div>"
      ],
      "text/plain": [
       "   SeniorCitizen  Churn\n",
       "0              0  23.51\n",
       "1              1  40.86"
      ]
     },
     "metadata": {},
     "output_type": "display_data"
    },
    {
     "name": "stdout",
     "output_type": "stream",
     "text": [
      "-> Maior Churn: '1.0' com 40.86%\n"
     ]
    }
   ],
   "source": [
    "def calculate_churn_rate(df, column):\n",
    "    return (df.groupby(column)['churn_bin']\n",
    "            .mean()\n",
    "            .mul(100)\n",
    "            .round(2)\n",
    "            .reset_index()\n",
    "            .rename(columns={'churn_bin': 'Churn'}))\n",
    "\n",
    "for col in var_num:\n",
    "    print(f\"\\n**Churn Rate para {col}:**\")\n",
    "    churn_df = calculate_churn_rate(df_limpo, col)\n",
    "    display(churn_df)\n",
    "    \n",
    "    max_churn = churn_df.loc[churn_df['Churn'].idxmax()]\n",
    "    print(f\"-> Maior Churn: '{max_churn[col]}' com {max_churn['Churn']}%\")"
   ]
  },
  {
   "cell_type": "markdown",
   "id": "35d01d19",
   "metadata": {},
   "source": [
    "Podemos notar que o Churn diminui de acordo com aumento de permanencia do individuo com o contrato de serviços (medido na variável **tenure**). Para fins práticos a variável será categorizada para entender melhor os períodos mais propensos ao cancelamento. "
   ]
  },
  {
   "cell_type": "code",
   "execution_count": 328,
   "id": "26ab149a",
   "metadata": {},
   "outputs": [
    {
     "name": "stdout",
     "output_type": "stream",
     "text": [
      "\n",
      "Distribuição por categoria:\n",
      "tenure_cat\n",
      "1-6m      1303\n",
      "7-12m      689\n",
      "13-24m    1035\n",
      "25-48m    1616\n",
      "49-60m     819\n",
      "60m+      1483\n",
      "Name: count, dtype: int64\n"
     ]
    }
   ],
   "source": [
    "bins = [1, 6, 12, 24, 48, 60, float('inf')]  \n",
    "labels = [\n",
    "    '1-6m',   \n",
    "    '7-12m', \n",
    "    '13-24m', \n",
    "    '25-48m', \n",
    "    '49-60m', \n",
    "    '60m+'\n",
    "]\n",
    "\n",
    "df_limpo['tenure_cat'] = pd.cut(\n",
    "    df_limpo['tenure'],\n",
    "    bins=bins,\n",
    "    labels=labels,\n",
    "    right=False\n",
    ")\n",
    "\n",
    "print(\"\\nDistribuição por categoria:\")\n",
    "print(df_limpo['tenure_cat'].value_counts().sort_index())"
   ]
  },
  {
   "cell_type": "code",
   "execution_count": 329,
   "id": "bd35c09a",
   "metadata": {},
   "outputs": [
    {
     "name": "stdout",
     "output_type": "stream",
     "text": [
      "Taxa de Churn por Tempo de Permanência:\n",
      "            Total Clientes Taxa Churn\n",
      "tenure_cat                           \n",
      "1-6m                  1303      54.3%\n",
      "7-12m                  689      36.6%\n",
      "13-24m                1035      29.7%\n",
      "25-48m                1616      20.9%\n",
      "49-60m                 819      15.0%\n",
      "60m+                  1483       6.7%\n"
     ]
    },
    {
     "name": "stderr",
     "output_type": "stream",
     "text": [
      "/tmp/ipykernel_1461/2232545065.py:2: FutureWarning: The default of observed=False is deprecated and will be changed to True in a future version of pandas. Pass observed=False to retain current behavior or observed=True to adopt the future default and silence this warning.\n",
      "  tabela_simples = (df_limpo.groupby('tenure_cat')['churn_bin']\n"
     ]
    }
   ],
   "source": [
    "#  tabela resumo\n",
    "tabela_simples = (df_limpo.groupby('tenure_cat')['churn_bin']\n",
    "                  .agg(['count', 'mean'])\n",
    "                  .rename(columns={\n",
    "                      'count': 'Total Clientes',\n",
    "                      'mean': 'Taxa Churn'\n",
    "                  }))\n",
    "\n",
    "tabela_simples['Taxa Churn'] = (tabela_simples['Taxa Churn'] * 100).round(1).astype(str) + '%'\n",
    "\n",
    "print(\"Taxa de Churn por Tempo de Permanência:\")\n",
    "print(tabela_simples)"
   ]
  },
  {
   "cell_type": "code",
   "execution_count": 330,
   "id": "72d6b17f",
   "metadata": {},
   "outputs": [
    {
     "name": "stderr",
     "output_type": "stream",
     "text": [
      "/tmp/ipykernel_1461/2783234646.py:3: FutureWarning: \n",
      "\n",
      "The `ci` parameter is deprecated. Use `errorbar=None` for the same effect.\n",
      "\n",
      "  ax = sns.barplot(\n",
      "/tmp/ipykernel_1461/2783234646.py:3: FutureWarning: \n",
      "\n",
      "Passing `palette` without assigning `hue` is deprecated and will be removed in v0.14.0. Assign the `x` variable to `hue` and set `legend=False` for the same effect.\n",
      "\n",
      "  ax = sns.barplot(\n"
     ]
    },
    {
     "data": {
      "image/png": "[encoded data removed]",
      "text/plain": [
       "<Figure size 1000x700 with 1 Axes>"
      ]
     },
     "metadata": {},
     "output_type": "display_data"
    }
   ],
   "source": [
    "plt.figure(figsize=(10, 7))\n",
    "\n",
    "ax = sns.barplot(\n",
    "    data=df_limpo,\n",
    "    x='tenure_cat',\n",
    "    y='churn_bin',\n",
    "    estimator=lambda x: sum(x) / len(x) * 100,\n",
    "    ci=None,\n",
    "    palette='viridis',  \n",
    "    order=['1-6m', '7-12m', '13-24m', '25-48m', '49-60m', '60m+']\n",
    ")\n",
    "\n",
    "plt.title('Taxa de Churn por Tempo de Permanência', fontsize=16, pad=20)\n",
    "plt.xlabel('Tempo como Cliente (meses)', fontsize=12)\n",
    "plt.ylabel('Taxa de Churn (%)', fontsize=12)\n",
    "\n",
    "ax.grid(False) \n",
    "\n",
    "for spine in ax.spines.values():\n",
    "    spine.set_visible(True)\n",
    "\n",
    "for p in ax.patches:\n",
    "    ax.annotate(\n",
    "        f'{p.get_height():.1f}%', \n",
    "        (p.get_x() + p.get_width() / 2., p.get_height()),\n",
    "        ha='center', \n",
    "        va='center',\n",
    "        xytext=(0, 10),\n",
    "        textcoords='offset points',\n",
    "        fontsize=11\n",
    "    )\n",
    "\n",
    "plt.xticks(rotation=45, ha='right')\n",
    "\n",
    "plt.tight_layout()\n",
    "plt.show()"
   ]
  },
  {
   "cell_type": "markdown",
   "id": "e2be816e",
   "metadata": {},
   "source": [
    "Com é possível observar no gráfico acima, nota-se que a maior porcentagem de Churn, se concetra nos primeiros seis meses de contrato até  um ano. Decaíndo até 7%, aproximadamente, para mais de cinco anos de contrato."
   ]
  },
  {
   "cell_type": "markdown",
   "id": "5b193d3c",
   "metadata": {},
   "source": [
    "Foi avaliado as variáveis contínuas **Total Charges** e **Monthly Charges**. Podemos notar que para o **Churn (Yes)**, se concetra no Monthly Charges no valores de 70 e 110. "
   ]
  },
  {
   "cell_type": "code",
   "execution_count": 331,
   "id": "9e539d76",
   "metadata": {},
   "outputs": [
    {
     "data": {
      "image/png": "[encoded data removed]",
      "text/plain": [
       "<Figure size 1600x1200 with 4 Axes>"
      ]
     },
     "metadata": {},
     "output_type": "display_data"
    }
   ],
   "source": [
    "plt.figure(figsize=(16, 12))\n",
    "\n",
    "\n",
    "plt.subplot(2, 2, 1)\n",
    "sns.histplot(data=df_limpo[df_limpo['Churn'] == 'Yes'], \n",
    "             x='MonthlyCharges', color='red', bins=30, kde=True)\n",
    "plt.title('MonthlyCharges - Com Churn (Yes)')\n",
    "\n",
    "plt.subplot(2, 2, 2)\n",
    "sns.histplot(data=df_limpo[df_limpo['Churn'] == 'No'], \n",
    "             x='MonthlyCharges', color='green', bins=30, kde=True)\n",
    "plt.title('MonthlyCharges - Sem Churn (No)')\n",
    "\n",
    "plt.subplot(2, 2, 3)\n",
    "sns.histplot(data=df_limpo[df_limpo['Churn'] == 'Yes'], \n",
    "             x='TotalCharges', color='red', bins=30, kde=True)\n",
    "plt.title('TotalCharges - Com Churn (Yes)')\n",
    "\n",
    "plt.subplot(2, 2, 4)\n",
    "sns.histplot(data=df_limpo[df_limpo['Churn'] == 'No'], \n",
    "             x='TotalCharges', color='green', bins=30, kde=True)\n",
    "plt.title('TotalCharges - Sem Churn (No)')\n",
    "\n",
    "plt.tight_layout()\n",
    "plt.show()"
   ]
  },
  {
   "cell_type": "code",
   "execution_count": 332,
   "id": "fc657e2e",
   "metadata": {},
   "outputs": [
    {
     "name": "stderr",
     "output_type": "stream",
     "text": [
      "/tmp/ipykernel_1461/2284436847.py:5: FutureWarning: \n",
      "\n",
      "Passing `palette` without assigning `hue` is deprecated and will be removed in v0.14.0. Assign the `x` variable to `hue` and set `legend=False` for the same effect.\n",
      "\n",
      "  sns.boxplot(data=df_limpo, x='Churn', y='MonthlyCharges',\n",
      "/tmp/ipykernel_1461/2284436847.py:13: FutureWarning: \n",
      "\n",
      "Passing `palette` without assigning `hue` is deprecated and will be removed in v0.14.0. Assign the `x` variable to `hue` and set `legend=False` for the same effect.\n",
      "\n",
      "  sns.boxplot(data=df_limpo, x='Churn', y='TotalCharges',\n"
     ]
    },
    {
     "data": {
      "image/png": "[encoded data removed]",
      "text/plain": [
       "<Figure size 1400x600 with 2 Axes>"
      ]
     },
     "metadata": {},
     "output_type": "display_data"
    }
   ],
   "source": [
    "plt.figure(figsize=(14, 6))\n",
    "\n",
    "# MonthlyCharges\n",
    "plt.subplot(1, 2, 1)\n",
    "sns.boxplot(data=df_limpo, x='Churn', y='MonthlyCharges', \n",
    "            palette={'Yes': 'salmon', 'No': 'lightgreen'})\n",
    "plt.title('Distribuição de MonthlyCharges por Churn')\n",
    "plt.xlabel('Churn')\n",
    "plt.ylabel('Cobrança Mensal ($)')\n",
    "\n",
    "# TotalCharges\n",
    "plt.subplot(1, 2, 2)\n",
    "sns.boxplot(data=df_limpo, x='Churn', y='TotalCharges', \n",
    "            palette={'Yes': 'salmon', 'No': 'lightgreen'})\n",
    "plt.title('Distribuição de TotalCharges por Churn')\n",
    "plt.xlabel('Churn')\n",
    "plt.ylabel('Cobrança Total ($)')\n",
    "\n",
    "plt.tight_layout()\n",
    "plt.show()\n"
   ]
  },
  {
   "cell_type": "code",
   "execution_count": 333,
   "id": "525a8368",
   "metadata": {},
   "outputs": [
    {
     "name": "stderr",
     "output_type": "stream",
     "text": [
      "/tmp/ipykernel_1461/1822097320.py:2: FutureWarning: \n",
      "\n",
      "Passing `palette` without assigning `hue` is deprecated and will be removed in v0.14.0. Assign the `x` variable to `hue` and set `legend=False` for the same effect.\n",
      "\n",
      "  sns.boxplot(data=df_limpo, x='Churn', y='tenure',\n"
     ]
    },
    {
     "data": {
      "image/png": "[encoded data removed]",
      "text/plain": [
       "<Figure size 640x480 with 1 Axes>"
      ]
     },
     "metadata": {},
     "output_type": "display_data"
    }
   ],
   "source": [
    "plt.subplot(1, 2, 2)\n",
    "sns.boxplot(data=df_limpo, x='Churn', y='tenure', \n",
    "            palette={'Yes': 'salmon', 'No': 'lightgreen'})\n",
    "plt.title('Distribuição de Tenure por Churn')\n",
    "plt.xlabel('Churn')\n",
    "plt.ylabel('Tenure')\n",
    "\n",
    "plt.tight_layout()\n",
    "plt.show()"
   ]
  },
  {
   "cell_type": "markdown",
   "id": "1dcc4ba4",
   "metadata": {},
   "source": [
    "Análise para as variáveis categóricas"
   ]
  },
  {
   "cell_type": "code",
   "execution_count": 334,
   "id": "25834ba2",
   "metadata": {},
   "outputs": [],
   "source": [
    "cat_cols = df_limpo.select_dtypes(include=['object']).columns.tolist()\n",
    "cat_cols = [col for col in cat_cols if col not in ['Churn', 'cpf']] "
   ]
  },
  {
   "cell_type": "code",
   "execution_count": 335,
   "id": "ccee8903",
   "metadata": {},
   "outputs": [
    {
     "name": "stdout",
     "output_type": "stream",
     "text": [
      "\n",
      "**Churn Rate para PhoneService:**\n"
     ]
    },
    {
     "data": {
      "text/html": [
       "<div>\n",
       "<style scoped>\n",
       "    .dataframe tbody tr th:only-of-type {\n",
       "        vertical-align: middle;\n",
       "    }\n",
       "\n",
       "    .dataframe tbody tr th {\n",
       "        vertical-align: top;\n",
       "    }\n",
       "\n",
       "    .dataframe thead th {\n",
       "        text-align: right;\n",
       "    }\n",
       "</style>\n",
       "<table border=\"1\" class=\"dataframe\">\n",
       "  <thead>\n",
       "    <tr style=\"text-align: right;\">\n",
       "      <th></th>\n",
       "      <th>PhoneService</th>\n",
       "      <th>Churn</th>\n",
       "    </tr>\n",
       "  </thead>\n",
       "  <tbody>\n",
       "    <tr>\n",
       "      <th>0</th>\n",
       "      <td>No</td>\n",
       "      <td>22.50</td>\n",
       "    </tr>\n",
       "    <tr>\n",
       "      <th>1</th>\n",
       "      <td>Yes</td>\n",
       "      <td>26.67</td>\n",
       "    </tr>\n",
       "  </tbody>\n",
       "</table>\n",
       "</div>"
      ],
      "text/plain": [
       "  PhoneService  Churn\n",
       "0           No  22.50\n",
       "1          Yes  26.67"
      ]
     },
     "metadata": {},
     "output_type": "display_data"
    },
    {
     "name": "stdout",
     "output_type": "stream",
     "text": [
      "-> Maior Churn: 'Yes' com 26.67%\n",
      "\n",
      "**Churn Rate para MultipleLines:**\n"
     ]
    },
    {
     "data": {
      "text/html": [
       "<div>\n",
       "<style scoped>\n",
       "    .dataframe tbody tr th:only-of-type {\n",
       "        vertical-align: middle;\n",
       "    }\n",
       "\n",
       "    .dataframe tbody tr th {\n",
       "        vertical-align: top;\n",
       "    }\n",
       "\n",
       "    .dataframe thead th {\n",
       "        text-align: right;\n",
       "    }\n",
       "</style>\n",
       "<table border=\"1\" class=\"dataframe\">\n",
       "  <thead>\n",
       "    <tr style=\"text-align: right;\">\n",
       "      <th></th>\n",
       "      <th>MultipleLines</th>\n",
       "      <th>Churn</th>\n",
       "    </tr>\n",
       "  </thead>\n",
       "  <tbody>\n",
       "    <tr>\n",
       "      <th>0</th>\n",
       "      <td>No</td>\n",
       "      <td>25.07</td>\n",
       "    </tr>\n",
       "    <tr>\n",
       "      <th>1</th>\n",
       "      <td>No phone service</td>\n",
       "      <td>22.50</td>\n",
       "    </tr>\n",
       "    <tr>\n",
       "      <th>2</th>\n",
       "      <td>Yes</td>\n",
       "      <td>28.49</td>\n",
       "    </tr>\n",
       "  </tbody>\n",
       "</table>\n",
       "</div>"
      ],
      "text/plain": [
       "      MultipleLines  Churn\n",
       "0                No  25.07\n",
       "1  No phone service  22.50\n",
       "2               Yes  28.49"
      ]
     },
     "metadata": {},
     "output_type": "display_data"
    },
    {
     "name": "stdout",
     "output_type": "stream",
     "text": [
      "-> Maior Churn: 'Yes' com 28.49%\n",
      "\n",
      "**Churn Rate para InternetService:**\n"
     ]
    },
    {
     "data": {
      "text/html": [
       "<div>\n",
       "<style scoped>\n",
       "    .dataframe tbody tr th:only-of-type {\n",
       "        vertical-align: middle;\n",
       "    }\n",
       "\n",
       "    .dataframe tbody tr th {\n",
       "        vertical-align: top;\n",
       "    }\n",
       "\n",
       "    .dataframe thead th {\n",
       "        text-align: right;\n",
       "    }\n",
       "</style>\n",
       "<table border=\"1\" class=\"dataframe\">\n",
       "  <thead>\n",
       "    <tr style=\"text-align: right;\">\n",
       "      <th></th>\n",
       "      <th>InternetService</th>\n",
       "      <th>Churn</th>\n",
       "    </tr>\n",
       "  </thead>\n",
       "  <tbody>\n",
       "    <tr>\n",
       "      <th>0</th>\n",
       "      <td>DSL</td>\n",
       "      <td>18.15</td>\n",
       "    </tr>\n",
       "    <tr>\n",
       "      <th>1</th>\n",
       "      <td>Fiber optic</td>\n",
       "      <td>41.76</td>\n",
       "    </tr>\n",
       "    <tr>\n",
       "      <th>2</th>\n",
       "      <td>No</td>\n",
       "      <td>7.43</td>\n",
       "    </tr>\n",
       "  </tbody>\n",
       "</table>\n",
       "</div>"
      ],
      "text/plain": [
       "  InternetService  Churn\n",
       "0             DSL  18.15\n",
       "1     Fiber optic  41.76\n",
       "2              No   7.43"
      ]
     },
     "metadata": {},
     "output_type": "display_data"
    },
    {
     "name": "stdout",
     "output_type": "stream",
     "text": [
      "-> Maior Churn: 'Fiber optic' com 41.76%\n",
      "\n",
      "**Churn Rate para OnlineSecurity:**\n"
     ]
    },
    {
     "data": {
      "text/html": [
       "<div>\n",
       "<style scoped>\n",
       "    .dataframe tbody tr th:only-of-type {\n",
       "        vertical-align: middle;\n",
       "    }\n",
       "\n",
       "    .dataframe tbody tr th {\n",
       "        vertical-align: top;\n",
       "    }\n",
       "\n",
       "    .dataframe thead th {\n",
       "        text-align: right;\n",
       "    }\n",
       "</style>\n",
       "<table border=\"1\" class=\"dataframe\">\n",
       "  <thead>\n",
       "    <tr style=\"text-align: right;\">\n",
       "      <th></th>\n",
       "      <th>OnlineSecurity</th>\n",
       "      <th>Churn</th>\n",
       "    </tr>\n",
       "  </thead>\n",
       "  <tbody>\n",
       "    <tr>\n",
       "      <th>0</th>\n",
       "      <td>No</td>\n",
       "      <td>41.61</td>\n",
       "    </tr>\n",
       "    <tr>\n",
       "      <th>1</th>\n",
       "      <td>No internet service</td>\n",
       "      <td>7.43</td>\n",
       "    </tr>\n",
       "    <tr>\n",
       "      <th>2</th>\n",
       "      <td>Yes</td>\n",
       "      <td>14.64</td>\n",
       "    </tr>\n",
       "  </tbody>\n",
       "</table>\n",
       "</div>"
      ],
      "text/plain": [
       "        OnlineSecurity  Churn\n",
       "0                   No  41.61\n",
       "1  No internet service   7.43\n",
       "2                  Yes  14.64"
      ]
     },
     "metadata": {},
     "output_type": "display_data"
    },
    {
     "name": "stdout",
     "output_type": "stream",
     "text": [
      "-> Maior Churn: 'No' com 41.61%\n",
      "\n",
      "**Churn Rate para OnlineBackup:**\n"
     ]
    },
    {
     "data": {
      "text/html": [
       "<div>\n",
       "<style scoped>\n",
       "    .dataframe tbody tr th:only-of-type {\n",
       "        vertical-align: middle;\n",
       "    }\n",
       "\n",
       "    .dataframe tbody tr th {\n",
       "        vertical-align: top;\n",
       "    }\n",
       "\n",
       "    .dataframe thead th {\n",
       "        text-align: right;\n",
       "    }\n",
       "</style>\n",
       "<table border=\"1\" class=\"dataframe\">\n",
       "  <thead>\n",
       "    <tr style=\"text-align: right;\">\n",
       "      <th></th>\n",
       "      <th>OnlineBackup</th>\n",
       "      <th>Churn</th>\n",
       "    </tr>\n",
       "  </thead>\n",
       "  <tbody>\n",
       "    <tr>\n",
       "      <th>0</th>\n",
       "      <td>No</td>\n",
       "      <td>39.68</td>\n",
       "    </tr>\n",
       "    <tr>\n",
       "      <th>1</th>\n",
       "      <td>No internet service</td>\n",
       "      <td>7.43</td>\n",
       "    </tr>\n",
       "    <tr>\n",
       "      <th>2</th>\n",
       "      <td>Yes</td>\n",
       "      <td>21.60</td>\n",
       "    </tr>\n",
       "  </tbody>\n",
       "</table>\n",
       "</div>"
      ],
      "text/plain": [
       "          OnlineBackup  Churn\n",
       "0                   No  39.68\n",
       "1  No internet service   7.43\n",
       "2                  Yes  21.60"
      ]
     },
     "metadata": {},
     "output_type": "display_data"
    },
    {
     "name": "stdout",
     "output_type": "stream",
     "text": [
      "-> Maior Churn: 'No' com 39.68%\n",
      "\n",
      "**Churn Rate para DeviceProtection:**\n"
     ]
    },
    {
     "data": {
      "text/html": [
       "<div>\n",
       "<style scoped>\n",
       "    .dataframe tbody tr th:only-of-type {\n",
       "        vertical-align: middle;\n",
       "    }\n",
       "\n",
       "    .dataframe tbody tr th {\n",
       "        vertical-align: top;\n",
       "    }\n",
       "\n",
       "    .dataframe thead th {\n",
       "        text-align: right;\n",
       "    }\n",
       "</style>\n",
       "<table border=\"1\" class=\"dataframe\">\n",
       "  <thead>\n",
       "    <tr style=\"text-align: right;\">\n",
       "      <th></th>\n",
       "      <th>DeviceProtection</th>\n",
       "      <th>Churn</th>\n",
       "    </tr>\n",
       "  </thead>\n",
       "  <tbody>\n",
       "    <tr>\n",
       "      <th>0</th>\n",
       "      <td>No</td>\n",
       "      <td>38.92</td>\n",
       "    </tr>\n",
       "    <tr>\n",
       "      <th>1</th>\n",
       "      <td>No internet service</td>\n",
       "      <td>7.43</td>\n",
       "    </tr>\n",
       "    <tr>\n",
       "      <th>2</th>\n",
       "      <td>Yes</td>\n",
       "      <td>22.48</td>\n",
       "    </tr>\n",
       "  </tbody>\n",
       "</table>\n",
       "</div>"
      ],
      "text/plain": [
       "      DeviceProtection  Churn\n",
       "0                   No  38.92\n",
       "1  No internet service   7.43\n",
       "2                  Yes  22.48"
      ]
     },
     "metadata": {},
     "output_type": "display_data"
    },
    {
     "name": "stdout",
     "output_type": "stream",
     "text": [
      "-> Maior Churn: 'No' com 38.92%\n",
      "\n",
      "**Churn Rate para TechSupport:**\n"
     ]
    },
    {
     "data": {
      "text/html": [
       "<div>\n",
       "<style scoped>\n",
       "    .dataframe tbody tr th:only-of-type {\n",
       "        vertical-align: middle;\n",
       "    }\n",
       "\n",
       "    .dataframe tbody tr th {\n",
       "        vertical-align: top;\n",
       "    }\n",
       "\n",
       "    .dataframe thead th {\n",
       "        text-align: right;\n",
       "    }\n",
       "</style>\n",
       "<table border=\"1\" class=\"dataframe\">\n",
       "  <thead>\n",
       "    <tr style=\"text-align: right;\">\n",
       "      <th></th>\n",
       "      <th>TechSupport</th>\n",
       "      <th>Churn</th>\n",
       "    </tr>\n",
       "  </thead>\n",
       "  <tbody>\n",
       "    <tr>\n",
       "      <th>0</th>\n",
       "      <td>No</td>\n",
       "      <td>41.49</td>\n",
       "    </tr>\n",
       "    <tr>\n",
       "      <th>1</th>\n",
       "      <td>No internet service</td>\n",
       "      <td>7.43</td>\n",
       "    </tr>\n",
       "    <tr>\n",
       "      <th>2</th>\n",
       "      <td>Yes</td>\n",
       "      <td>15.19</td>\n",
       "    </tr>\n",
       "  </tbody>\n",
       "</table>\n",
       "</div>"
      ],
      "text/plain": [
       "           TechSupport  Churn\n",
       "0                   No  41.49\n",
       "1  No internet service   7.43\n",
       "2                  Yes  15.19"
      ]
     },
     "metadata": {},
     "output_type": "display_data"
    },
    {
     "name": "stdout",
     "output_type": "stream",
     "text": [
      "-> Maior Churn: 'No' com 41.49%\n",
      "\n",
      "**Churn Rate para StreamingTV:**\n"
     ]
    },
    {
     "data": {
      "text/html": [
       "<div>\n",
       "<style scoped>\n",
       "    .dataframe tbody tr th:only-of-type {\n",
       "        vertical-align: middle;\n",
       "    }\n",
       "\n",
       "    .dataframe tbody tr th {\n",
       "        vertical-align: top;\n",
       "    }\n",
       "\n",
       "    .dataframe thead th {\n",
       "        text-align: right;\n",
       "    }\n",
       "</style>\n",
       "<table border=\"1\" class=\"dataframe\">\n",
       "  <thead>\n",
       "    <tr style=\"text-align: right;\">\n",
       "      <th></th>\n",
       "      <th>StreamingTV</th>\n",
       "      <th>Churn</th>\n",
       "    </tr>\n",
       "  </thead>\n",
       "  <tbody>\n",
       "    <tr>\n",
       "      <th>0</th>\n",
       "      <td>No</td>\n",
       "      <td>33.20</td>\n",
       "    </tr>\n",
       "    <tr>\n",
       "      <th>1</th>\n",
       "      <td>No internet service</td>\n",
       "      <td>7.43</td>\n",
       "    </tr>\n",
       "    <tr>\n",
       "      <th>2</th>\n",
       "      <td>Yes</td>\n",
       "      <td>29.97</td>\n",
       "    </tr>\n",
       "  </tbody>\n",
       "</table>\n",
       "</div>"
      ],
      "text/plain": [
       "           StreamingTV  Churn\n",
       "0                   No  33.20\n",
       "1  No internet service   7.43\n",
       "2                  Yes  29.97"
      ]
     },
     "metadata": {},
     "output_type": "display_data"
    },
    {
     "name": "stdout",
     "output_type": "stream",
     "text": [
      "-> Maior Churn: 'No' com 33.2%\n",
      "\n",
      "**Churn Rate para StreamingMovies:**\n"
     ]
    },
    {
     "data": {
      "text/html": [
       "<div>\n",
       "<style scoped>\n",
       "    .dataframe tbody tr th:only-of-type {\n",
       "        vertical-align: middle;\n",
       "    }\n",
       "\n",
       "    .dataframe tbody tr th {\n",
       "        vertical-align: top;\n",
       "    }\n",
       "\n",
       "    .dataframe thead th {\n",
       "        text-align: right;\n",
       "    }\n",
       "</style>\n",
       "<table border=\"1\" class=\"dataframe\">\n",
       "  <thead>\n",
       "    <tr style=\"text-align: right;\">\n",
       "      <th></th>\n",
       "      <th>StreamingMovies</th>\n",
       "      <th>Churn</th>\n",
       "    </tr>\n",
       "  </thead>\n",
       "  <tbody>\n",
       "    <tr>\n",
       "      <th>0</th>\n",
       "      <td>No</td>\n",
       "      <td>33.41</td>\n",
       "    </tr>\n",
       "    <tr>\n",
       "      <th>1</th>\n",
       "      <td>No internet service</td>\n",
       "      <td>7.43</td>\n",
       "    </tr>\n",
       "    <tr>\n",
       "      <th>2</th>\n",
       "      <td>Yes</td>\n",
       "      <td>29.80</td>\n",
       "    </tr>\n",
       "  </tbody>\n",
       "</table>\n",
       "</div>"
      ],
      "text/plain": [
       "       StreamingMovies  Churn\n",
       "0                   No  33.41\n",
       "1  No internet service   7.43\n",
       "2                  Yes  29.80"
      ]
     },
     "metadata": {},
     "output_type": "display_data"
    },
    {
     "name": "stdout",
     "output_type": "stream",
     "text": [
      "-> Maior Churn: 'No' com 33.41%\n",
      "\n",
      "**Churn Rate para Contract:**\n"
     ]
    },
    {
     "data": {
      "text/html": [
       "<div>\n",
       "<style scoped>\n",
       "    .dataframe tbody tr th:only-of-type {\n",
       "        vertical-align: middle;\n",
       "    }\n",
       "\n",
       "    .dataframe tbody tr th {\n",
       "        vertical-align: top;\n",
       "    }\n",
       "\n",
       "    .dataframe thead th {\n",
       "        text-align: right;\n",
       "    }\n",
       "</style>\n",
       "<table border=\"1\" class=\"dataframe\">\n",
       "  <thead>\n",
       "    <tr style=\"text-align: right;\">\n",
       "      <th></th>\n",
       "      <th>Contract</th>\n",
       "      <th>Churn</th>\n",
       "    </tr>\n",
       "  </thead>\n",
       "  <tbody>\n",
       "    <tr>\n",
       "      <th>0</th>\n",
       "      <td>Month-to-month</td>\n",
       "      <td>42.55</td>\n",
       "    </tr>\n",
       "    <tr>\n",
       "      <th>1</th>\n",
       "      <td>One year</td>\n",
       "      <td>11.25</td>\n",
       "    </tr>\n",
       "    <tr>\n",
       "      <th>2</th>\n",
       "      <td>Two year</td>\n",
       "      <td>2.85</td>\n",
       "    </tr>\n",
       "  </tbody>\n",
       "</table>\n",
       "</div>"
      ],
      "text/plain": [
       "         Contract  Churn\n",
       "0  Month-to-month  42.55\n",
       "1        One year  11.25\n",
       "2        Two year   2.85"
      ]
     },
     "metadata": {},
     "output_type": "display_data"
    },
    {
     "name": "stdout",
     "output_type": "stream",
     "text": [
      "-> Maior Churn: 'Month-to-month' com 42.55%\n",
      "\n",
      "**Churn Rate para PaperlessBilling:**\n"
     ]
    },
    {
     "data": {
      "text/html": [
       "<div>\n",
       "<style scoped>\n",
       "    .dataframe tbody tr th:only-of-type {\n",
       "        vertical-align: middle;\n",
       "    }\n",
       "\n",
       "    .dataframe tbody tr th {\n",
       "        vertical-align: top;\n",
       "    }\n",
       "\n",
       "    .dataframe thead th {\n",
       "        text-align: right;\n",
       "    }\n",
       "</style>\n",
       "<table border=\"1\" class=\"dataframe\">\n",
       "  <thead>\n",
       "    <tr style=\"text-align: right;\">\n",
       "      <th></th>\n",
       "      <th>PaperlessBilling</th>\n",
       "      <th>Churn</th>\n",
       "    </tr>\n",
       "  </thead>\n",
       "  <tbody>\n",
       "    <tr>\n",
       "      <th>0</th>\n",
       "      <td>No</td>\n",
       "      <td>16.12</td>\n",
       "    </tr>\n",
       "    <tr>\n",
       "      <th>1</th>\n",
       "      <td>Yes</td>\n",
       "      <td>33.31</td>\n",
       "    </tr>\n",
       "  </tbody>\n",
       "</table>\n",
       "</div>"
      ],
      "text/plain": [
       "  PaperlessBilling  Churn\n",
       "0               No  16.12\n",
       "1              Yes  33.31"
      ]
     },
     "metadata": {},
     "output_type": "display_data"
    },
    {
     "name": "stdout",
     "output_type": "stream",
     "text": [
      "-> Maior Churn: 'Yes' com 33.31%\n",
      "\n",
      "**Churn Rate para PaymentMethod:**\n"
     ]
    },
    {
     "data": {
      "text/html": [
       "<div>\n",
       "<style scoped>\n",
       "    .dataframe tbody tr th:only-of-type {\n",
       "        vertical-align: middle;\n",
       "    }\n",
       "\n",
       "    .dataframe tbody tr th {\n",
       "        vertical-align: top;\n",
       "    }\n",
       "\n",
       "    .dataframe thead th {\n",
       "        text-align: right;\n",
       "    }\n",
       "</style>\n",
       "<table border=\"1\" class=\"dataframe\">\n",
       "  <thead>\n",
       "    <tr style=\"text-align: right;\">\n",
       "      <th></th>\n",
       "      <th>PaymentMethod</th>\n",
       "      <th>Churn</th>\n",
       "    </tr>\n",
       "  </thead>\n",
       "  <tbody>\n",
       "    <tr>\n",
       "      <th>0</th>\n",
       "      <td>Bank transfer (automatic)</td>\n",
       "      <td>16.63</td>\n",
       "    </tr>\n",
       "    <tr>\n",
       "      <th>1</th>\n",
       "      <td>Credit card (automatic)</td>\n",
       "      <td>15.29</td>\n",
       "    </tr>\n",
       "    <tr>\n",
       "      <th>2</th>\n",
       "      <td>Electronic check</td>\n",
       "      <td>44.88</td>\n",
       "    </tr>\n",
       "    <tr>\n",
       "      <th>3</th>\n",
       "      <td>Mailed check</td>\n",
       "      <td>18.90</td>\n",
       "    </tr>\n",
       "  </tbody>\n",
       "</table>\n",
       "</div>"
      ],
      "text/plain": [
       "               PaymentMethod  Churn\n",
       "0  Bank transfer (automatic)  16.63\n",
       "1    Credit card (automatic)  15.29\n",
       "2           Electronic check  44.88\n",
       "3               Mailed check  18.90"
      ]
     },
     "metadata": {},
     "output_type": "display_data"
    },
    {
     "name": "stdout",
     "output_type": "stream",
     "text": [
      "-> Maior Churn: 'Electronic check' com 44.88%\n",
      "\n",
      "**Churn Rate para gender:**\n"
     ]
    },
    {
     "data": {
      "text/html": [
       "<div>\n",
       "<style scoped>\n",
       "    .dataframe tbody tr th:only-of-type {\n",
       "        vertical-align: middle;\n",
       "    }\n",
       "\n",
       "    .dataframe tbody tr th {\n",
       "        vertical-align: top;\n",
       "    }\n",
       "\n",
       "    .dataframe thead th {\n",
       "        text-align: right;\n",
       "    }\n",
       "</style>\n",
       "<table border=\"1\" class=\"dataframe\">\n",
       "  <thead>\n",
       "    <tr style=\"text-align: right;\">\n",
       "      <th></th>\n",
       "      <th>gender</th>\n",
       "      <th>Churn</th>\n",
       "    </tr>\n",
       "  </thead>\n",
       "  <tbody>\n",
       "    <tr>\n",
       "      <th>0</th>\n",
       "      <td>Female</td>\n",
       "      <td>26.67</td>\n",
       "    </tr>\n",
       "    <tr>\n",
       "      <th>1</th>\n",
       "      <td>Male</td>\n",
       "      <td>25.95</td>\n",
       "    </tr>\n",
       "  </tbody>\n",
       "</table>\n",
       "</div>"
      ],
      "text/plain": [
       "   gender  Churn\n",
       "0  Female  26.67\n",
       "1    Male  25.95"
      ]
     },
     "metadata": {},
     "output_type": "display_data"
    },
    {
     "name": "stdout",
     "output_type": "stream",
     "text": [
      "-> Maior Churn: 'Female' com 26.67%\n",
      "\n",
      "**Churn Rate para Partner:**\n"
     ]
    },
    {
     "data": {
      "text/html": [
       "<div>\n",
       "<style scoped>\n",
       "    .dataframe tbody tr th:only-of-type {\n",
       "        vertical-align: middle;\n",
       "    }\n",
       "\n",
       "    .dataframe tbody tr th {\n",
       "        vertical-align: top;\n",
       "    }\n",
       "\n",
       "    .dataframe thead th {\n",
       "        text-align: right;\n",
       "    }\n",
       "</style>\n",
       "<table border=\"1\" class=\"dataframe\">\n",
       "  <thead>\n",
       "    <tr style=\"text-align: right;\">\n",
       "      <th></th>\n",
       "      <th>Partner</th>\n",
       "      <th>Churn</th>\n",
       "    </tr>\n",
       "  </thead>\n",
       "  <tbody>\n",
       "    <tr>\n",
       "      <th>0</th>\n",
       "      <td>No</td>\n",
       "      <td>32.67</td>\n",
       "    </tr>\n",
       "    <tr>\n",
       "      <th>1</th>\n",
       "      <td>Yes</td>\n",
       "      <td>19.57</td>\n",
       "    </tr>\n",
       "  </tbody>\n",
       "</table>\n",
       "</div>"
      ],
      "text/plain": [
       "  Partner  Churn\n",
       "0      No  32.67\n",
       "1     Yes  19.57"
      ]
     },
     "metadata": {},
     "output_type": "display_data"
    },
    {
     "name": "stdout",
     "output_type": "stream",
     "text": [
      "-> Maior Churn: 'No' com 32.67%\n",
      "\n",
      "**Churn Rate para Dependents:**\n"
     ]
    },
    {
     "data": {
      "text/html": [
       "<div>\n",
       "<style scoped>\n",
       "    .dataframe tbody tr th:only-of-type {\n",
       "        vertical-align: middle;\n",
       "    }\n",
       "\n",
       "    .dataframe tbody tr th {\n",
       "        vertical-align: top;\n",
       "    }\n",
       "\n",
       "    .dataframe thead th {\n",
       "        text-align: right;\n",
       "    }\n",
       "</style>\n",
       "<table border=\"1\" class=\"dataframe\">\n",
       "  <thead>\n",
       "    <tr style=\"text-align: right;\">\n",
       "      <th></th>\n",
       "      <th>Dependents</th>\n",
       "      <th>Churn</th>\n",
       "    </tr>\n",
       "  </thead>\n",
       "  <tbody>\n",
       "    <tr>\n",
       "      <th>0</th>\n",
       "      <td>No</td>\n",
       "      <td>30.94</td>\n",
       "    </tr>\n",
       "    <tr>\n",
       "      <th>1</th>\n",
       "      <td>Yes</td>\n",
       "      <td>15.50</td>\n",
       "    </tr>\n",
       "  </tbody>\n",
       "</table>\n",
       "</div>"
      ],
      "text/plain": [
       "  Dependents  Churn\n",
       "0         No  30.94\n",
       "1        Yes  15.50"
      ]
     },
     "metadata": {},
     "output_type": "display_data"
    },
    {
     "name": "stdout",
     "output_type": "stream",
     "text": [
      "-> Maior Churn: 'No' com 30.94%\n"
     ]
    }
   ],
   "source": [
    "def calculate_churn_rate(df, column):\n",
    "    return (df.groupby(column)['churn_bin']\n",
    "            .mean()\n",
    "            .mul(100)\n",
    "            .round(2)\n",
    "            .reset_index()\n",
    "            .rename(columns={'churn_bin': 'Churn'}))\n",
    "\n",
    "for col in cat_cols:\n",
    "    print(f\"\\n**Churn Rate para {col}:**\")\n",
    "    churn_df = calculate_churn_rate(df_limpo, col)\n",
    "    display(churn_df)\n",
    "    \n",
    "    max_churn = churn_df.loc[churn_df['Churn'].idxmax()]\n",
    "    print(f\"-> Maior Churn: '{max_churn[col]}' com {max_churn['Churn']}%\")"
   ]
  },
  {
   "cell_type": "markdown",
   "id": "22df1eaa",
   "metadata": {},
   "source": [
    "Escrever aqui depois\n"
   ]
  },
  {
   "cell_type": "code",
   "execution_count": 336,
   "id": "1522dc30",
   "metadata": {},
   "outputs": [],
   "source": [
    "from sklearn.preprocessing import StandardScaler\n",
    "from sklearn.metrics import classification_report, confusion_matrix, roc_auc_score, silhouette_score\n",
    "from sklearn.decomposition import PCA\n",
    "from sklearn.discriminant_analysis import LinearDiscriminantAnalysis\n",
    "from sklearn.cluster import KMeans"
   ]
  },
  {
   "cell_type": "code",
   "execution_count": 337,
   "id": "d8005564",
   "metadata": {},
   "outputs": [
    {
     "name": "stdout",
     "output_type": "stream",
     "text": [
      "<class 'pandas.core.frame.DataFrame'>\n",
      "Index: 6945 entries, 0 to 7036\n",
      "Data columns (total 25 columns):\n",
      " #   Column                    Non-Null Count  Dtype   \n",
      "---  ------                    --------------  -----   \n",
      " 0   tenure                    6945 non-null   int64   \n",
      " 1   PhoneService              6945 non-null   object  \n",
      " 2   MultipleLines             6945 non-null   object  \n",
      " 3   InternetService           6945 non-null   object  \n",
      " 4   OnlineSecurity            6945 non-null   object  \n",
      " 5   OnlineBackup              6945 non-null   object  \n",
      " 6   DeviceProtection          6945 non-null   object  \n",
      " 7   TechSupport               6945 non-null   object  \n",
      " 8   StreamingTV               6945 non-null   object  \n",
      " 9   StreamingMovies           6945 non-null   object  \n",
      " 10  Contract                  6945 non-null   object  \n",
      " 11  PaperlessBilling          6945 non-null   object  \n",
      " 12  PaymentMethod             6945 non-null   object  \n",
      " 13  MonthlyCharges            6945 non-null   float64 \n",
      " 14  TotalCharges              6945 non-null   float64 \n",
      " 15  Churn                     6945 non-null   object  \n",
      " 16  cpf                       6945 non-null   object  \n",
      " 17  NPS                       6945 non-null   int64   \n",
      " 18  gender                    6945 non-null   object  \n",
      " 19  SeniorCitizen             6945 non-null   int64   \n",
      " 20  Partner                   6945 non-null   object  \n",
      " 21  Dependents                6945 non-null   object  \n",
      " 22  churn_bin                 6945 non-null   int64   \n",
      " 23  TotalServicosContratados  6945 non-null   int64   \n",
      " 24  tenure_cat                6945 non-null   category\n",
      "dtypes: category(1), float64(2), int64(5), object(17)\n",
      "memory usage: 1.3+ MB\n"
     ]
    }
   ],
   "source": [
    "df_limpo.info()"
   ]
  },
  {
   "cell_type": "code",
   "execution_count": 338,
   "id": "b3b3955b",
   "metadata": {},
   "outputs": [
    {
     "name": "stdout",
     "output_type": "stream",
     "text": [
      "tenure                      0\n",
      "PhoneService                0\n",
      "MultipleLines               0\n",
      "InternetService             0\n",
      "OnlineSecurity              0\n",
      "OnlineBackup                0\n",
      "DeviceProtection            0\n",
      "TechSupport                 0\n",
      "StreamingTV                 0\n",
      "StreamingMovies             0\n",
      "Contract                    0\n",
      "PaperlessBilling            0\n",
      "PaymentMethod               0\n",
      "MonthlyCharges              0\n",
      "TotalCharges                0\n",
      "Churn                       0\n",
      "cpf                         0\n",
      "NPS                         0\n",
      "gender                      0\n",
      "SeniorCitizen               0\n",
      "Partner                     0\n",
      "Dependents                  0\n",
      "churn_bin                   0\n",
      "TotalServicosContratados    0\n",
      "tenure_cat                  0\n",
      "dtype: int64\n"
     ]
    }
   ],
   "source": [
    "\n",
    "print(df_limpo.isnull().sum())"
   ]
  },
  {
   "cell_type": "code",
   "execution_count": 339,
   "id": "ce124bae",
   "metadata": {},
   "outputs": [
    {
     "name": "stdout",
     "output_type": "stream",
     "text": [
      "tenure                      0\n",
      "PhoneService                0\n",
      "MultipleLines               0\n",
      "InternetService             0\n",
      "OnlineSecurity              0\n",
      "OnlineBackup                0\n",
      "DeviceProtection            0\n",
      "TechSupport                 0\n",
      "StreamingTV                 0\n",
      "StreamingMovies             0\n",
      "Contract                    0\n",
      "PaperlessBilling            0\n",
      "PaymentMethod               0\n",
      "MonthlyCharges              0\n",
      "TotalCharges                0\n",
      "Churn                       0\n",
      "cpf                         0\n",
      "NPS                         0\n",
      "gender                      0\n",
      "SeniorCitizen               0\n",
      "Partner                     0\n",
      "Dependents                  0\n",
      "churn_bin                   0\n",
      "TotalServicosContratados    0\n",
      "tenure_cat                  0\n",
      "dtype: int64\n"
     ]
    }
   ],
   "source": [
    "print(df_limpo.isnull().sum())\n"
   ]
  },
  {
   "cell_type": "code",
   "execution_count": 340,
   "id": "125f43cd",
   "metadata": {},
   "outputs": [],
   "source": [
    "from sklearn.preprocessing import OneHotEncoder, StandardScaler\n",
    "from sklearn.compose import ColumnTransformer\n",
    "\n",
    "# seu DataFrame:\n",
    "df = df_limpo.copy()\n",
    "\n",
    "# colunas usadas no perfil agregado\n",
    "num_cols = [c for c in [\n",
    "    \"tenure\", \"MonthlyCharges\", \"TotalCharges\",\n",
    "    \"TotalServicosContratados\", \"SeniorCitizen\", \"NPS\"\n",
    "] if c in df.columns]\n",
    "\n",
    "drop_cols = [\"cpf\", \"Churn\", \"churn_bin\"]  # 'churn_bin' volta depois\n",
    "use_cols = [c for c in df.columns if c not in drop_cols]\n",
    "\n",
    "# categóricas = object/category que não estão nas numéricas\n",
    "cat_cols = [c for c in use_cols\n",
    "            if (df[c].dtype.name in [\"object\",\"category\"]) and (c not in num_cols)]\n",
    "\n",
    "# OneHot compatível com qualquer versão do sklearn\n",
    "def make_ohe():\n",
    "    try:\n",
    "        return OneHotEncoder(drop=\"if_binary\", handle_unknown=\"ignore\", sparse_output=False)\n",
    "    except TypeError:\n",
    "        return OneHotEncoder(drop=\"if_binary\", handle_unknown=\"ignore\", sparse=False)\n",
    "\n",
    "ohe = make_ohe()\n",
    "scaler = StandardScaler(with_mean=True, with_std=True)\n",
    "\n",
    "preproc = ColumnTransformer(\n",
    "    transformers=[\n",
    "        (\"num\", scaler, [c for c in num_cols if c in df.columns]),\n",
    "        (\"cat\", ohe,  [c for c in cat_cols if c in df.columns]),\n",
    "    ],\n",
    "    remainder=\"drop\"\n",
    ")"
   ]
  },
  {
   "cell_type": "code",
   "execution_count": 341,
   "id": "8c680dd2",
   "metadata": {},
   "outputs": [],
   "source": [
    "from sklearn.decomposition import PCA\n",
    "from sklearn.pipeline import Pipeline\n",
    "\n",
    "RANDOM_STATE = 42\n",
    "\n",
    "pca = PCA(n_components=0.95, random_state=RANDOM_STATE)\n",
    "pipe_pca = Pipeline(steps=[\n",
    "    (\"preprocessor\", preproc),\n",
    "    (\"pca\", pca),\n",
    "])\n",
    "\n",
    "# matriz de componentes para clusterização\n",
    "X_pca = pipe_pca.fit_transform(df[use_cols])\n"
   ]
  },
  {
   "cell_type": "code",
   "execution_count": 342,
   "id": "784733b2",
   "metadata": {},
   "outputs": [
    {
     "name": "stdout",
     "output_type": "stream",
     "text": [
      "Melhor k (silhouette): 3 | score=0.280\n",
      "\n",
      "== Perfil por cluster (ordenado por churn rate) ==\n"
     ]
    },
    {
     "data": {
      "text/html": [
       "<div>\n",
       "<style scoped>\n",
       "    .dataframe tbody tr th:only-of-type {\n",
       "        vertical-align: middle;\n",
       "    }\n",
       "\n",
       "    .dataframe tbody tr th {\n",
       "        vertical-align: top;\n",
       "    }\n",
       "\n",
       "    .dataframe thead th {\n",
       "        text-align: right;\n",
       "    }\n",
       "</style>\n",
       "<table border=\"1\" class=\"dataframe\">\n",
       "  <thead>\n",
       "    <tr style=\"text-align: right;\">\n",
       "      <th></th>\n",
       "      <th>n</th>\n",
       "      <th>churn_rate</th>\n",
       "      <th>tenure_med</th>\n",
       "      <th>mensalidade_med</th>\n",
       "      <th>totalcharges_med</th>\n",
       "      <th>servicos_med</th>\n",
       "      <th>nps_med</th>\n",
       "    </tr>\n",
       "    <tr>\n",
       "      <th>cluster</th>\n",
       "      <th></th>\n",
       "      <th></th>\n",
       "      <th></th>\n",
       "      <th></th>\n",
       "      <th></th>\n",
       "      <th></th>\n",
       "      <th></th>\n",
       "    </tr>\n",
       "  </thead>\n",
       "  <tbody>\n",
       "    <tr>\n",
       "      <th>2</th>\n",
       "      <td>3053</td>\n",
       "      <td>45.69</td>\n",
       "      <td>15.200131</td>\n",
       "      <td>70.263659</td>\n",
       "      <td>1073.446462</td>\n",
       "      <td>2.839175</td>\n",
       "      <td>5.031444</td>\n",
       "    </tr>\n",
       "    <tr>\n",
       "      <th>0</th>\n",
       "      <td>2372</td>\n",
       "      <td>13.45</td>\n",
       "      <td>56.596121</td>\n",
       "      <td>87.052698</td>\n",
       "      <td>4953.112711</td>\n",
       "      <td>5.521922</td>\n",
       "      <td>8.666105</td>\n",
       "    </tr>\n",
       "    <tr>\n",
       "      <th>1</th>\n",
       "      <td>1520</td>\n",
       "      <td>7.43</td>\n",
       "      <td>30.667763</td>\n",
       "      <td>21.076283</td>\n",
       "      <td>665.220329</td>\n",
       "      <td>1.223684</td>\n",
       "      <td>9.236842</td>\n",
       "    </tr>\n",
       "  </tbody>\n",
       "</table>\n",
       "</div>"
      ],
      "text/plain": [
       "            n  churn_rate  tenure_med  mensalidade_med  totalcharges_med  \\\n",
       "cluster                                                                    \n",
       "2        3053       45.69   15.200131        70.263659       1073.446462   \n",
       "0        2372       13.45   56.596121        87.052698       4953.112711   \n",
       "1        1520        7.43   30.667763        21.076283        665.220329   \n",
       "\n",
       "         servicos_med   nps_med  \n",
       "cluster                          \n",
       "2            2.839175  5.031444  \n",
       "0            5.521922  8.666105  \n",
       "1            1.223684  9.236842  "
      ]
     },
     "metadata": {},
     "output_type": "display_data"
    },
    {
     "name": "stdout",
     "output_type": "stream",
     "text": [
      "\n",
      "Top categorias (lift) no cluster mais propenso ao churn = 2\n"
     ]
    },
    {
     "data": {
      "text/html": [
       "<div>\n",
       "<style scoped>\n",
       "    .dataframe tbody tr th:only-of-type {\n",
       "        vertical-align: middle;\n",
       "    }\n",
       "\n",
       "    .dataframe tbody tr th {\n",
       "        vertical-align: top;\n",
       "    }\n",
       "\n",
       "    .dataframe thead th {\n",
       "        text-align: right;\n",
       "    }\n",
       "</style>\n",
       "<table border=\"1\" class=\"dataframe\">\n",
       "  <thead>\n",
       "    <tr style=\"text-align: right;\">\n",
       "      <th></th>\n",
       "      <th>variavel</th>\n",
       "      <th>nivel</th>\n",
       "      <th>freq_cluster</th>\n",
       "      <th>p_cluster</th>\n",
       "      <th>p_total</th>\n",
       "      <th>lift</th>\n",
       "    </tr>\n",
       "  </thead>\n",
       "  <tbody>\n",
       "    <tr>\n",
       "      <th>11</th>\n",
       "      <td>DeviceProtection</td>\n",
       "      <td>No</td>\n",
       "      <td>2303</td>\n",
       "      <td>0.754340</td>\n",
       "      <td>0.433261</td>\n",
       "      <td>1.741</td>\n",
       "    </tr>\n",
       "    <tr>\n",
       "      <th>37</th>\n",
       "      <td>tenure_cat</td>\n",
       "      <td>7-12m</td>\n",
       "      <td>527</td>\n",
       "      <td>0.172617</td>\n",
       "      <td>0.099208</td>\n",
       "      <td>1.740</td>\n",
       "    </tr>\n",
       "    <tr>\n",
       "      <th>34</th>\n",
       "      <td>tenure_cat</td>\n",
       "      <td>1-6m</td>\n",
       "      <td>988</td>\n",
       "      <td>0.323616</td>\n",
       "      <td>0.187617</td>\n",
       "      <td>1.725</td>\n",
       "    </tr>\n",
       "    <tr>\n",
       "      <th>9</th>\n",
       "      <td>OnlineBackup</td>\n",
       "      <td>No</td>\n",
       "      <td>2240</td>\n",
       "      <td>0.733705</td>\n",
       "      <td>0.431821</td>\n",
       "      <td>1.699</td>\n",
       "    </tr>\n",
       "    <tr>\n",
       "      <th>17</th>\n",
       "      <td>StreamingMovies</td>\n",
       "      <td>No</td>\n",
       "      <td>2000</td>\n",
       "      <td>0.655093</td>\n",
       "      <td>0.388769</td>\n",
       "      <td>1.685</td>\n",
       "    </tr>\n",
       "    <tr>\n",
       "      <th>15</th>\n",
       "      <td>StreamingTV</td>\n",
       "      <td>No</td>\n",
       "      <td>2010</td>\n",
       "      <td>0.658369</td>\n",
       "      <td>0.392513</td>\n",
       "      <td>1.677</td>\n",
       "    </tr>\n",
       "    <tr>\n",
       "      <th>19</th>\n",
       "      <td>Contract</td>\n",
       "      <td>Month-to-month</td>\n",
       "      <td>2759</td>\n",
       "      <td>0.903701</td>\n",
       "      <td>0.546148</td>\n",
       "      <td>1.655</td>\n",
       "    </tr>\n",
       "    <tr>\n",
       "      <th>13</th>\n",
       "      <td>TechSupport</td>\n",
       "      <td>No</td>\n",
       "      <td>2444</td>\n",
       "      <td>0.800524</td>\n",
       "      <td>0.487257</td>\n",
       "      <td>1.643</td>\n",
       "    </tr>\n",
       "    <tr>\n",
       "      <th>35</th>\n",
       "      <td>tenure_cat</td>\n",
       "      <td>13-24m</td>\n",
       "      <td>747</td>\n",
       "      <td>0.244677</td>\n",
       "      <td>0.149028</td>\n",
       "      <td>1.642</td>\n",
       "    </tr>\n",
       "    <tr>\n",
       "      <th>7</th>\n",
       "      <td>OnlineSecurity</td>\n",
       "      <td>No</td>\n",
       "      <td>2419</td>\n",
       "      <td>0.792335</td>\n",
       "      <td>0.491001</td>\n",
       "      <td>1.614</td>\n",
       "    </tr>\n",
       "    <tr>\n",
       "      <th>24</th>\n",
       "      <td>PaymentMethod</td>\n",
       "      <td>Electronic check</td>\n",
       "      <td>1580</td>\n",
       "      <td>0.517524</td>\n",
       "      <td>0.334629</td>\n",
       "      <td>1.547</td>\n",
       "    </tr>\n",
       "    <tr>\n",
       "      <th>1</th>\n",
       "      <td>PhoneService</td>\n",
       "      <td>No</td>\n",
       "      <td>369</td>\n",
       "      <td>0.120865</td>\n",
       "      <td>0.086393</td>\n",
       "      <td>1.399</td>\n",
       "    </tr>\n",
       "  </tbody>\n",
       "</table>\n",
       "</div>"
      ],
      "text/plain": [
       "            variavel             nivel  freq_cluster  p_cluster   p_total  \\\n",
       "11  DeviceProtection                No          2303   0.754340  0.433261   \n",
       "37        tenure_cat             7-12m           527   0.172617  0.099208   \n",
       "34        tenure_cat              1-6m           988   0.323616  0.187617   \n",
       "9       OnlineBackup                No          2240   0.733705  0.431821   \n",
       "17   StreamingMovies                No          2000   0.655093  0.388769   \n",
       "15       StreamingTV                No          2010   0.658369  0.392513   \n",
       "19          Contract    Month-to-month          2759   0.903701  0.546148   \n",
       "13       TechSupport                No          2444   0.800524  0.487257   \n",
       "35        tenure_cat            13-24m           747   0.244677  0.149028   \n",
       "7     OnlineSecurity                No          2419   0.792335  0.491001   \n",
       "24     PaymentMethod  Electronic check          1580   0.517524  0.334629   \n",
       "1       PhoneService                No           369   0.120865  0.086393   \n",
       "\n",
       "     lift  \n",
       "11  1.741  \n",
       "37  1.740  \n",
       "34  1.725  \n",
       "9   1.699  \n",
       "17  1.685  \n",
       "15  1.677  \n",
       "19  1.655  \n",
       "13  1.643  \n",
       "35  1.642  \n",
       "7   1.614  \n",
       "24  1.547  \n",
       "1   1.399  "
      ]
     },
     "metadata": {},
     "output_type": "display_data"
    }
   ],
   "source": [
    "# Seleciona melhor k via silhouette (2..8)\n",
    "best_k, best_score = None, -1\n",
    "for k in range(2, 9):\n",
    "    km = KMeans(n_clusters=k, n_init=20, random_state=RANDOM_STATE)\n",
    "    labels = km.fit_predict(X_pca)\n",
    "    sc = silhouette_score(X_pca, labels)\n",
    "    if sc > best_score:\n",
    "        best_k, best_score = k, sc\n",
    "\n",
    "print(f\"Melhor k (silhouette): {best_k} | score={best_score:.3f}\")\n",
    "\n",
    "kmeans = KMeans(n_clusters=best_k, n_init=20, random_state=RANDOM_STATE)\n",
    "clusters = kmeans.fit_predict(X_pca)\n",
    "\n",
    "df_clusters = df.copy()\n",
    "df_clusters[\"cluster\"] = clusters\n",
    "\n",
    "# Churn rate por cluster + tamanho\n",
    "perfil_clusters = (\n",
    "    df_clusters.groupby(\"cluster\")\n",
    "    .agg(\n",
    "        n=(\"cluster\", \"size\"),\n",
    "        churn_rate=(\"churn_bin\", \"mean\"),\n",
    "        tenure_med=(\"tenure\", \"mean\"),\n",
    "        mensalidade_med=(\"MonthlyCharges\", \"mean\"),\n",
    "        totalcharges_med=(\"TotalCharges\", \"mean\"),\n",
    "        servicos_med=(\"TotalServicosContratados\", \"mean\"),\n",
    "        nps_med=(\"NPS\", \"mean\"),\n",
    "    )\n",
    "    .assign(churn_rate=lambda d: (d[\"churn_rate\"] * 100).round(2))\n",
    "    .sort_values(\"churn_rate\", ascending=False)\n",
    ")\n",
    "\n",
    "print(\"\\n== Perfil por cluster (ordenado por churn rate) ==\")\n",
    "display(perfil_clusters)\n",
    "\n",
    "# Principais categorias por cluster (lift relativo ao total)\n",
    "def top_categorias_cluster(df_base, cat_cols, cluster_id, top=8):\n",
    "    dfc = df_base[df_base[\"cluster\"] == cluster_id]\n",
    "    out = []\n",
    "    total = len(df_base)\n",
    "    for c in cat_cols:\n",
    "        for lvl, cnt in dfc[c].value_counts(dropna=False).items():\n",
    "            p_cluster = cnt / len(dfc)\n",
    "            p_total = (df_base[c] == lvl).mean()\n",
    "            if p_total > 0:\n",
    "                lift = p_cluster / p_total\n",
    "                out.append((c, str(lvl), cnt, p_cluster, p_total, lift))\n",
    "    out = pd.DataFrame(out, columns=[\"variavel\", \"nivel\", \"freq_cluster\", \"p_cluster\", \"p_total\", \"lift\"])\n",
    "    out[\"lift\"] = out[\"lift\"].round(3)\n",
    "    return out.sort_values(\"lift\", ascending=False).head(top)\n",
    "\n",
    "# Exemplo: categorias com maior lift no cluster de maior churn\n",
    "cluster_top = perfil_clusters.index[0]\n",
    "print(f\"\\nTop categorias (lift) no cluster mais propenso ao churn = {cluster_top}\")\n",
    "display(top_categorias_cluster(df_clusters, cat_cols, cluster_top, top=12))\n"
   ]
  },
  {
   "cell_type": "code",
   "execution_count": null,
   "id": "d1597525",
   "metadata": {},
   "outputs": [],
   "source": []
  },
  {
   "cell_type": "code",
   "execution_count": 354,
   "id": "6f58cbec",
   "metadata": {},
   "outputs": [],
   "source": [
    "from sklearn.model_selection import train_test_split\n",
    "from sklearn.preprocessing import StandardScaler, OneHotEncoder\n",
    "from sklearn.compose import ColumnTransformer\n",
    "from sklearn.pipeline import Pipeline\n",
    "from sklearn.linear_model import LogisticRegression\n",
    "from sklearn.ensemble import RandomForestClassifier\n",
    "from sklearn.metrics import classification_report, confusion_matrix, roc_auc_score, accuracy_score"
   ]
  },
  {
   "cell_type": "code",
   "execution_count": 355,
   "id": "74673bfa",
   "metadata": {},
   "outputs": [],
   "source": [
    "df_model = df_limpo.copy()\n",
    "\n",
    "# Remover colunas não relevantes para o modelo\n",
    "df_model = df.drop(['cpf', 'Churn', 'churn_bin'], axis=1)  # churn_bin parece ser a variável target codificada\n",
    "# Verifique se churn_bin é realmente a target - se não for, ajuste conforme necessário\n",
    "\n",
    "# Definir variável target\n",
    "y = df['churn_bin']  # ou df['Churn'] se quiser usar a versão string\n",
    "\n",
    "# Separar features numéricas e categóricas\n",
    "numeric_features = ['tenure', 'MonthlyCharges', 'TotalCharges', 'NPS', 'SeniorCitizen', 'TotalServicosContratados']\n",
    "categorical_features = ['PhoneService', 'MultipleLines', 'InternetService', 'OnlineSecurity', \n",
    "                       'OnlineBackup', 'DeviceProtection', 'TechSupport', 'StreamingTV', \n",
    "                       'StreamingMovies', 'Contract', 'PaperlessBilling', 'PaymentMethod',\n",
    "                       'gender', 'Partner', 'Dependents', 'tenure_cat']\n",
    "\n",
    "# Pré-processamento\n",
    "numeric_transformer = Pipeline(steps=[\n",
    "    ('scaler', StandardScaler())])\n",
    "\n",
    "categorical_transformer = Pipeline(steps=[\n",
    "    ('onehot', OneHotEncoder(handle_unknown='ignore'))])\n",
    "\n",
    "preprocessor = ColumnTransformer(\n",
    "    transformers=[\n",
    "        ('num', numeric_transformer, numeric_features),\n",
    "        ('cat', categorical_transformer, categorical_features)])\n",
    "\n",
    "# Dividir os dados em treino e teste\n",
    "X_train, X_test, y_train, y_test = train_test_split(df_model, y, test_size=0.3, random_state=42, stratify=y)"
   ]
  },
  {
   "cell_type": "code",
   "execution_count": 356,
   "id": "a375f2d3",
   "metadata": {},
   "outputs": [
    {
     "name": "stdout",
     "output_type": "stream",
     "text": [
      "Regressão Logística - Métricas:\n",
      "              precision    recall  f1-score   support\n",
      "\n",
      "           0       0.84      0.91      0.87      1536\n",
      "           1       0.67      0.52      0.59       548\n",
      "\n",
      "    accuracy                           0.81      2084\n",
      "   macro avg       0.76      0.71      0.73      2084\n",
      "weighted avg       0.80      0.81      0.80      2084\n",
      "\n",
      "Acurácia: 0.8071017274472169\n",
      "AUC-ROC: 0.8503774378421534\n"
     ]
    },
    {
     "data": {
      "image/png": "[encoded data removed]",
      "text/plain": [
       "<Figure size 640x480 with 2 Axes>"
      ]
     },
     "metadata": {},
     "output_type": "display_data"
    }
   ],
   "source": [
    "# Pipeline para Regressão Logística\n",
    "lr_pipeline = Pipeline(steps=[\n",
    "    ('preprocessor', preprocessor),\n",
    "    ('classifier', LogisticRegression(random_state=42, max_iter=1000))])\n",
    "\n",
    "# Treinar o modelo\n",
    "lr_pipeline.fit(X_train, y_train)\n",
    "\n",
    "# Previsões\n",
    "y_pred_lr = lr_pipeline.predict(X_test)\n",
    "y_pred_proba_lr = lr_pipeline.predict_proba(X_test)[:, 1]\n",
    "\n",
    "# Avaliação\n",
    "print(\"Regressão Logística - Métricas:\")\n",
    "print(classification_report(y_test, y_pred_lr))\n",
    "print(\"Acurácia:\", accuracy_score(y_test, y_pred_lr))\n",
    "print(\"AUC-ROC:\", roc_auc_score(y_test, y_pred_proba_lr))\n",
    "\n",
    "# Matriz de confusão\n",
    "cm_lr = confusion_matrix(y_test, y_pred_lr)\n",
    "sns.heatmap(cm_lr, annot=True, fmt='d', cmap='Blues')\n",
    "plt.title('Matriz de Confusão - Regressão Logística')\n",
    "plt.show()"
   ]
  },
  {
   "cell_type": "code",
   "execution_count": 357,
   "id": "4d6396c5",
   "metadata": {},
   "outputs": [
    {
     "name": "stdout",
     "output_type": "stream",
     "text": [
      "Random Forest - Métricas:\n",
      "              precision    recall  f1-score   support\n",
      "\n",
      "           0       0.83      0.89      0.86      1536\n",
      "           1       0.61      0.49      0.54       548\n",
      "\n",
      "    accuracy                           0.78      2084\n",
      "   macro avg       0.72      0.69      0.70      2084\n",
      "weighted avg       0.77      0.78      0.77      2084\n",
      "\n",
      "Acurácia: 0.7826295585412668\n",
      "AUC-ROC: 0.821396579417579\n"
     ]
    },
    {
     "data": {
      "image/png": "[encoded data removed]",
      "text/plain": [
       "<Figure size 640x480 with 2 Axes>"
      ]
     },
     "metadata": {},
     "output_type": "display_data"
    }
   ],
   "source": [
    "# Pipeline para Random Forest\n",
    "rf_pipeline = Pipeline(steps=[\n",
    "    ('preprocessor', preprocessor),\n",
    "    ('classifier', RandomForestClassifier(random_state=42))])\n",
    "\n",
    "# Treinar o modelo\n",
    "rf_pipeline.fit(X_train, y_train)\n",
    "\n",
    "# Previsões\n",
    "y_pred_rf = rf_pipeline.predict(X_test)\n",
    "y_pred_proba_rf = rf_pipeline.predict_proba(X_test)[:, 1]\n",
    "\n",
    "# Avaliação\n",
    "print(\"Random Forest - Métricas:\")\n",
    "print(classification_report(y_test, y_pred_rf))\n",
    "print(\"Acurácia:\", accuracy_score(y_test, y_pred_rf))\n",
    "print(\"AUC-ROC:\", roc_auc_score(y_test, y_pred_proba_rf))\n",
    "\n",
    "# Matriz de confusão\n",
    "cm_rf = confusion_matrix(y_test, y_pred_rf)\n",
    "sns.heatmap(cm_rf, annot=True, fmt='d', cmap='Blues')\n",
    "plt.title('Matriz de Confusão - Random Forest')\n",
    "plt.show()"
   ]
  },
  {
   "cell_type": "code",
   "execution_count": 360,
   "id": "78eac112",
   "metadata": {},
   "outputs": [
    {
     "data": {
      "image/png": "[encoded data removed]",
      "text/plain": [
       "<Figure size 1000x800 with 1 Axes>"
      ]
     },
     "metadata": {},
     "output_type": "display_data"
    },
    {
     "name": "stdout",
     "output_type": "stream",
     "text": [
      "\n",
      "Métricas ROC-AUC:\n",
      "Regressão Logística: 0.8504\n",
      "Random Forest: 0.8214\n"
     ]
    }
   ],
   "source": [
    "from sklearn.metrics import roc_curve, auc\n",
    "import matplotlib.pyplot as plt\n",
    "\n",
    "## Função para plotar a curva ROC\n",
    "def plot_roc_curve(y_true, y_pred_prob, model_name):\n",
    "    fpr, tpr, thresholds = roc_curve(y_true, y_pred_prob)\n",
    "    roc_auc = auc(fpr, tpr)\n",
    "    \n",
    "    plt.plot(fpr, tpr, label=f'{model_name} (AUC = {roc_auc:.2f})')\n",
    "    plt.plot([0, 1], [0, 1], 'k--')  # Linha diagonal\n",
    "    plt.xlabel('Taxa de Falsos Positivos (FPR)')\n",
    "    plt.ylabel('Taxa de Verdadeiros Positivos (TPR)')\n",
    "    plt.title('Curva ROC - Comparação de Modelos')\n",
    "    plt.legend(loc='lower right')\n",
    "    plt.grid(True)\n",
    "\n",
    "## Obter as probabilidades preditas de ambos os modelos\n",
    "# Regressão Logística\n",
    "y_pred_prob_lr = lr_pipeline.predict_proba(X_test)[:, 1]\n",
    "\n",
    "# Random Forest\n",
    "y_pred_prob_rf = rf_pipeline.predict_proba(X_test)[:, 1]\n",
    "\n",
    "## Plotar as curvas ROC\n",
    "plt.figure(figsize=(10, 8))\n",
    "plot_roc_curve(y_test, y_pred_prob_lr, 'Regressão Logística')\n",
    "plot_roc_curve(y_test, y_pred_prob_rf, 'Random Forest')\n",
    "\n",
    "plt.show()\n",
    "\n",
    "## Adicionando métricas no gráfico\n",
    "print(\"\\nMétricas ROC-AUC:\")\n",
    "print(f\"Regressão Logística: {roc_auc_score(y_test, y_pred_prob_lr):.4f}\")\n",
    "print(f\"Random Forest: {roc_auc_score(y_test, y_pred_prob_rf):.4f}\")"
   ]
  },
  {
   "cell_type": "code",
   "execution_count": 365,
   "id": "1c0305a3",
   "metadata": {},
   "outputs": [
    {
     "data": {
      "image/png": "[encoded data removed]",
      "text/plain": [
       "<Figure size 1000x800 with 1 Axes>"
      ]
     },
     "metadata": {},
     "output_type": "display_data"
    }
   ],
   "source": [
    "# Extrair nomes das features após one-hot encoding\n",
    "onehot_columns = rf_pipeline.named_steps['preprocessor'].named_transformers_['cat'].named_steps['onehot'].get_feature_names_out(categorical_features)\n",
    "all_features = numeric_features + list(onehot_columns)\n",
    "\n",
    "# Importância das variáveis\n",
    "importances = rf_pipeline.named_steps['classifier'].feature_importances_\n",
    "feature_importance = pd.DataFrame({'Feature': all_features, 'Importance': importances})\n",
    "feature_importance = feature_importance.sort_values('Importance', ascending=False)\n",
    "\n",
    "# Plotar as 20 mais importantes\n",
    "plt.figure(figsize=(10, 8))\n",
    "sns.barplot(x='Importance', y='Feature', data=feature_importance.head(20))\n",
    "plt.title('Top 20 Variáveis Mais Importantes - Random Forest')\n",
    "plt.show()"
   ]
  },
  {
   "cell_type": "markdown",
   "id": "32636c3b",
   "metadata": {},
   "source": []
  },
  {
   "cell_type": "markdown",
   "id": "dcdb22fc",
   "metadata": {},
   "source": [
    "## Análise do NPS"
   ]
  },
  {
   "cell_type": "markdown",
   "id": "68fd7ac5",
   "metadata": {},
   "source": [
    "Nesta seção são analisados o NPS "
   ]
  },
  {
   "cell_type": "code",
   "execution_count": 343,
   "id": "a8d25ba9",
   "metadata": {},
   "outputs": [
    {
     "data": {
      "text/plain": [
       "count    6945.000000\n",
       "mean        7.193233\n",
       "std         2.631471\n",
       "min         1.000000\n",
       "25%         5.000000\n",
       "50%         8.000000\n",
       "75%         9.000000\n",
       "max        10.000000\n",
       "Name: NPS, dtype: float64"
      ]
     },
     "execution_count": 343,
     "metadata": {},
     "output_type": "execute_result"
    }
   ],
   "source": [
    "df_limpo['NPS'].describe()"
   ]
  },
  {
   "cell_type": "code",
   "execution_count": 344,
   "id": "b1a49386",
   "metadata": {},
   "outputs": [],
   "source": [
    "# Função para Classificar o NPS\n",
    "def classica_nps(score):\n",
    "    if score >= 9:\n",
    "        return 'Promotor'\n",
    "    elif score <=  6:\n",
    "        return 'Detrator'\n",
    "    else:\n",
    "        return 'Neutro'"
   ]
  },
  {
   "cell_type": "code",
   "execution_count": 345,
   "id": "14258e1d",
   "metadata": {},
   "outputs": [
    {
     "name": "stdout",
     "output_type": "stream",
     "text": [
      "Categorias_NPS\n",
      "Promotor    2997\n",
      "Detrator    2394\n",
      "Neutro      1554\n",
      "Name: count, dtype: int64\n",
      "8.68\n"
     ]
    }
   ],
   "source": [
    "df_limpo['Categorias_NPS'] = df_limpo['NPS'].apply(classica_nps)\n",
    "\n",
    "counts = df_limpo['Categorias_NPS'].value_counts()\n",
    "\n",
    "print(counts)\n",
    "\n",
    "\n",
    "promotores = (counts.get('Promotor', 0) / len(df_limpo))*100\n",
    "detratores = (counts.get('Detrator', 0) / len(df_limpo))*100\n",
    "\n",
    "nps = promotores - detratores\n",
    "print(round(nps,2))"
   ]
  },
  {
   "cell_type": "code",
   "execution_count": 346,
   "id": "32afcae8",
   "metadata": {},
   "outputs": [
    {
     "name": "stdout",
     "output_type": "stream",
     "text": [
      "\n",
      "--- Distribuição NPS ---\n",
      "Promotores (9-10): 2997 clientes (43.2%)\n",
      "Neutros (7-8): 1554 clientes (22.4%)\n",
      "Detratores (1-6): 2394 clientes (34.5%)\n",
      "\n",
      ">>> NPS Total: 8.7 <<<\n"
     ]
    }
   ],
   "source": [
    "print(\"\\n--- Distribuição NPS ---\")\n",
    "print(f\"Promotores (9-10): {counts.get('Promotor', 0)} clientes ({promotores:.1f}%)\")\n",
    "print(f\"Neutros (7-8): {counts.get('Neutro', 0)} clientes ({counts.get('Neutro', 0) / len(df_limpo) * 100:.1f}%)\")\n",
    "print(f\"Detratores (1-6): {counts.get('Detrator', 0)} clientes ({detratores:.1f}%)\")\n",
    "print(f\"\\n>>> NPS Total: {nps:.1f} <<<\")"
   ]
  },
  {
   "cell_type": "markdown",
   "id": "d427bd1a",
   "metadata": {},
   "source": [
    "Podemos notar que apesar de termos mais clientes do tipo **Promotores** e representam 43% , ainda há muito cliente do tipo **Detratores**o que reduiz o NPS total. Indicando um problema de insatisfação com os serviços prestados por parte da empresa. Então, faz-se necessário aprofundar nas causas destas  "
   ]
  },
  {
   "cell_type": "code",
   "execution_count": 347,
   "id": "c518aa4a",
   "metadata": {},
   "outputs": [
    {
     "data": {
      "image/png": "[encoded data removed]",
      "text/plain": [
       "<Figure size 640x480 with 1 Axes>"
      ]
     },
     "metadata": {},
     "output_type": "display_data"
    }
   ],
   "source": [
    "counts.plot(kind='bar', color=['green', 'red', 'blue']) #, color=['green', 'red', 'blue']\n",
    "plt.title('Distribuição de Clientes por Categoria NPS')\n",
    "plt.ylabel('Número de Clientes')\n",
    "plt.show()"
   ]
  },
  {
   "cell_type": "code",
   "execution_count": 348,
   "id": "8b4f258f",
   "metadata": {},
   "outputs": [],
   "source": [
    "#sns.histplot(data=df_limpo, x='NPS', bins=10, kde=True)\n",
    "#plt.title('Distribuição do NPS')\n",
    "#plt.show()"
   ]
  },
  {
   "cell_type": "code",
   "execution_count": 349,
   "id": "7c5871a5",
   "metadata": {},
   "outputs": [
    {
     "data": {
      "image/png": "[encoded data removed]",
      "text/plain": [
       "<Figure size 640x480 with 1 Axes>"
      ]
     },
     "metadata": {},
     "output_type": "display_data"
    },
    {
     "data": {
      "image/png": "[encoded data removed]",
      "text/plain": [
       "<Figure size 640x480 with 1 Axes>"
      ]
     },
     "metadata": {},
     "output_type": "display_data"
    },
    {
     "data": {
      "image/png": "[encoded data removed]",
      "text/plain": [
       "<Figure size 640x480 with 1 Axes>"
      ]
     },
     "metadata": {},
     "output_type": "display_data"
    }
   ],
   "source": [
    "nome_cols = ['TechSupport','PhoneService', 'Contract' ]\n",
    "\n",
    "for col in nome_cols:\n",
    "    sns.boxplot(data=df_limpo, x=col, y='NPS')\n",
    "    plt.title(f\"{col} por grupo de  NPS\")\n",
    "    plt.show()"
   ]
  },
  {
   "cell_type": "code",
   "execution_count": 350,
   "id": "279da24e",
   "metadata": {},
   "outputs": [
    {
     "name": "stdout",
     "output_type": "stream",
     "text": [
      "NPS Agregado: 8.68\n"
     ]
    }
   ],
   "source": [
    "nps_score = (df_limpo[df_limpo['NPS'] >= 9].shape[0] / df_limpo.shape[0] * 100) - (df_limpo[df_limpo['NPS'] <= 6].shape[0] / df_limpo.shape[0] * 100)\n",
    "print(f\"NPS Agregado: {nps_score:.2f}\")"
   ]
  },
  {
   "cell_type": "code",
   "execution_count": 351,
   "id": "6c4bc4d8",
   "metadata": {},
   "outputs": [
    {
     "data": {
      "text/plain": [
       "<Axes: xlabel='Churn', ylabel='TotalServicosContratados'>"
      ]
     },
     "execution_count": 351,
     "metadata": {},
     "output_type": "execute_result"
    },
    {
     "data": {
      "image/png": "[encoded data removed]",
      "text/plain": [
       "<Figure size 640x480 with 1 Axes>"
      ]
     },
     "metadata": {},
     "output_type": "display_data"
    }
   ],
   "source": [
    "sns.boxplot(data=df_limpo, x='Churn', y='TotalServicosContratados')\n"
   ]
  },
  {
   "cell_type": "code",
   "execution_count": 352,
   "id": "2dbd8be7",
   "metadata": {},
   "outputs": [
    {
     "data": {
      "text/plain": [
       "<Axes: xlabel='TotalServicosContratados', ylabel='NPS'>"
      ]
     },
     "execution_count": 352,
     "metadata": {},
     "output_type": "execute_result"
    },
    {
     "data": {
      "image/png": "[encoded data removed]",
      "text/plain": [
       "<Figure size 640x480 with 1 Axes>"
      ]
     },
     "metadata": {},
     "output_type": "display_data"
    }
   ],
   "source": [
    "sns.barplot(data=df_limpo, x='TotalServicosContratados', y='NPS')\n"
   ]
  },
  {
   "cell_type": "code",
   "execution_count": 353,
   "id": "4963ab72",
   "metadata": {},
   "outputs": [
    {
     "data": {
      "image/png": "[encoded data removed]",
      "text/plain": [
       "<Figure size 800x600 with 2 Axes>"
      ]
     },
     "metadata": {},
     "output_type": "display_data"
    }
   ],
   "source": [
    "# Selecionar variáveis numéricas\n",
    "numerical_vars = ['NPS', 'tenure', 'MonthlyCharges', 'TotalCharges']\n",
    "correlation_matrix = df_limpo[numerical_vars].corr()\n",
    "\n",
    "# Heatmap de correlação\n",
    "plt.figure(figsize=(8, 6))\n",
    "sns.heatmap(correlation_matrix, annot=True, cmap='coolwarm', center=0)\n",
    "plt.title('Correlação entre NPS e Variáveis Numéricas')\n",
    "plt.show()"
   ]
  },
  {
   "cell_type": "markdown",
   "id": "8b0a39c2",
   "metadata": {},
   "source": [
    "A análise da matriz de correlação entre o NPS e as variáveis numéricas do conjunto de dados revela algumas relações importantes. O primeiro ponto a destacar é a correlação positiva moderada entre o NPS e o tempo de permanência (tenure), com valor de 0,64. Isso sugere que clientes com mais tempo de relacionamento tendem a apresentar maiores índices de satisfação, reforçando a importância da retenção de longo prazo para a melhoria do NPS.\n",
    "\n",
    "Por outro lado, observa-se uma correlação negativa (-0,37) entre o NPS e os gastos mensais (MonthlyCharges). Esse resultado indica que clientes com cobranças mensais mais elevadas tendem a demonstrar menor satisfação, o que está alinhado com o alto **Churn** visto nesta região na análise anterior. Já o total gasto (TotalCharges) apresenta uma correlação positiva fraca (0,36), com o NPS, sinalizando que o acúmulo de gastos ao longo do tempo não reduz a satisfação. \n",
    "\n",
    "Além disso, é relevante notar a forte correlação entre algumas variáveis explicativas, como tenure e TotalCharges (0,82), reflexo natural de que o tempo de permanência impacta diretamente no valor acumulado\n",
    "\n",
    " Essa evidência sugere que estratégias voltadas à retenção de clientes e ao equilíbrio nos planos de cobrança podem ser determinantes para a melhoria do NPS."
   ]
  }
 ],
 "metadata": {
  "kernelspec": {
   "display_name": "venv",
   "language": "python",
   "name": "python3"
  },
  "language_info": {
   "codemirror_mode": {
    "name": "ipython",
    "version": 3
   },
   "file_extension": ".py",
   "mimetype": "text/x-python",
   "name": "python",
   "nbconvert_exporter": "python",
   "pygments_lexer": "ipython3",
   "version": "3.12.3"
  }
 },
 "nbformat": 4,
 "nbformat_minor": 5
}
